{
 "cells": [
  {
   "cell_type": "markdown",
   "metadata": {
    "pycharm": {
     "name": "#%% md\n"
    }
   },
   "source": [
    "# EU7 Inventory Health File\n",
    "Each week, for the VF, Jo needs an Inv. Health file for each of the markets. This notebook contains code which combines all 7 Inv. Health files into one and saves it into Jo's desired location"
   ]
  },
  {
   "cell_type": "code",
   "execution_count": 1,
   "metadata": {
    "pycharm": {
     "name": "#%%\n"
    }
   },
   "outputs": [],
   "source": [
    "import os\n",
    "import pandas as pd\n",
    "import numpy as np\n",
    "from openpyxl import load_workbook\n",
    "\n",
    "\n",
    "GREAT_BRITAIN_ABBREVIATION = \"GB\"\n",
    "DE_COUNTRY = \"DE\"\n",
    "ES_COUNTRY = \"ES\"\n",
    "FR_COUNTRY = \"FR\"\n",
    "IT_COUNTRY = \"IT\"\n",
    "NL_COUNTRY = \"NL\"\n",
    "SE_COUNTRY = \"SE\"\n",
    "DE_INVENTORY_HEALTH_PATH_PLACEHOLDER = r\"C:\\Users\\gbjaudom\\LEGO\\WE eComm CoE Analytics Team - Documents\\Data\\VC Files\\Daily Files\\{}_daily\\{}_daily_Inventory Health_DE.xlsx\"\n",
    "ES_INVENTORY_HEALTH_PATH_PLACEHOLDER = r\"C:\\Users\\gbjaudom\\LEGO\\WE eComm CoE Analytics Team - Documents\\Data\\VC Files\\Daily Files\\{}_daily\\{}_daily_Inventory Health_ES.xlsx\"\n",
    "FR_INVENTORY_HEALTH_PATH_PLACEHOLDER = r\"C:\\Users\\gbjaudom\\LEGO\\WE eComm CoE Analytics Team - Documents\\Data\\VC Files\\Daily Files\\{}_daily\\{}_daily_Inventory Health_FR.xlsx\"\n",
    "IT_INVENTORY_HEALTH_PATH_PLACEHOLDER = r\"C:\\Users\\gbjaudom\\LEGO\\WE eComm CoE Analytics Team - Documents\\Data\\VC Files\\Daily Files\\{}_daily\\{}_daily_Inventory Health_IT.xlsx\"\n",
    "NL_INVENTORY_HEALTH_PATH_PLACEHOLDER = r\"C:\\Users\\gbjaudom\\LEGO\\WE eComm CoE Analytics Team - Documents\\Data\\VC Files\\Daily Files\\{}_daily\\{}_daily_Inventory Health_NL.xlsx\"\n",
    "SE_INVENTORY_HEALTH_PATH_PLACEHOLDER = r\"C:\\Users\\gbjaudom\\LEGO\\WE eComm CoE Analytics Team - Documents\\Data\\VC Files\\Daily Files\\{}_daily\\{}_daily_Inventory Health_SE.xlsx\"\n",
    "UK_INVENTORY_HEALTH_PATH_PLACEHOLDER = r\"C:\\Users\\gbjaudom\\LEGO\\WE eComm CoE Analytics Team - Documents\\Data\\VC Files\\Daily Files\\{}_daily\\{}_daily_Inventory Health_GB.xlsx\"\n",
    "EU7_INVENTORY_HEALTH_SAVE_PATH_PLACEHOLDER = r\"C:\\Users\\gbjaudom\\LEGO\\WE B2B eCommerce CoE - CoE only - Documents\\General\\2. Amazon KAM\\01. EU Wide\\2022\\30. Operations\\AMZ Data\\{}_eu7_inventory_health.csv\"\n",
    "DAILY_VC_FILE_PATH = r'C:\\Users\\gbjaudom\\LEGO\\WE eComm CoE Analytics Team - Documents\\Data\\VC Files\\Daily Files'\n",
    "\n",
    "\n",
    "def get_latest_daily_vc_file_date():\n",
    "    \"\"\"\n",
    "    Function finds the latest daily VC file directory by scanning the Daily File directory and returning the last item in list\n",
    "    :return: date of last saved Daily VC file\n",
    "    \"\"\"\n",
    "    sub_folders = [name for name in os.listdir(DAILY_VC_FILE_PATH) if os.path.isdir(os.path.join(DAILY_VC_FILE_PATH, name))]\n",
    "    last_date = sub_folders[-1][:8]\n",
    "    return last_date\n",
    "\n",
    "\n",
    "def make_inventory_health_file_paths(date):\n",
    "    \"\"\"\n",
    "    Function makes all the file paths (Inventory Health) for EU7\n",
    "    :param date: date of file in format YYYYMMDD\n",
    "    :return: file paths for EU7\n",
    "    \"\"\"\n",
    "    de_inv_health_path = DE_INVENTORY_HEALTH_PATH_PLACEHOLDER.format(date, date)\n",
    "    es_inv_health_path = ES_INVENTORY_HEALTH_PATH_PLACEHOLDER.format(date, date)\n",
    "    fr_inv_health_path = FR_INVENTORY_HEALTH_PATH_PLACEHOLDER.format(date, date)\n",
    "    it_inv_health_path = IT_INVENTORY_HEALTH_PATH_PLACEHOLDER.format(date, date)\n",
    "    nl_inv_health_path = NL_INVENTORY_HEALTH_PATH_PLACEHOLDER.format(date, date)\n",
    "    se_inv_health_path = SE_INVENTORY_HEALTH_PATH_PLACEHOLDER.format(date, date)\n",
    "    uk_inv_health_path = UK_INVENTORY_HEALTH_PATH_PLACEHOLDER.format(date, date)\n",
    "    return de_inv_health_path, es_inv_health_path, fr_inv_health_path, it_inv_health_path, nl_inv_health_path, se_inv_health_path, uk_inv_health_path\n",
    "\n",
    "\n",
    "def make_eu7_inventory_health_file(inv_health_paths):\n",
    "    \"\"\"\n",
    "    Function creates the EU7 Inv. Health dataframe by combining all the individual market dataframes\n",
    "    :return: EU7 Inv. Health dataframe\n",
    "    \"\"\"\n",
    "    eu7_inv_heatlh = pd.DataFrame()\n",
    "    for path in inv_health_paths:\n",
    "        temp_df = pd.read_excel(path, skiprows=1)\n",
    "        temp_df[\"country\"] = path[-7:-5]\n",
    "        eu7_inv_heatlh = eu7_inv_heatlh.append(temp_df)\n",
    "    return eu7_inv_heatlh\n",
    "\n",
    "\n",
    "def make_save_of_eu7_inventory_health_file(date, eu7_inv_heatlh):\n",
    "    \"\"\"\n",
    "    Function saves the EU7 Inv. Health file in a specifed location with the called date\n",
    "    :param date: date of files called/saved\n",
    "    :return: None\n",
    "    \"\"\"\n",
    "    try:\n",
    "        eu7_inv_heatlh.to_csv(EU7_INVENTORY_HEALTH_SAVE_PATH_PLACEHOLDER.format(date))\n",
    "        print(\"Successfully saved {} EU7 Inv. Health file\".format((date)))\n",
    "    except:\n",
    "        print(\"Failed to save {} EU7 Inv. Health file\".format((date)))\n",
    "    return None\n",
    "\n",
    "\n",
    "def pipeline_make_eu7_inventory_health_file():\n",
    "    \"\"\"\n",
    "    Function pipelines all the steps needed to create and save the EU7 Inv. Health file\n",
    "    :param date: date to be called\n",
    "    :return: None\n",
    "    \"\"\"\n",
    "    date = get_latest_daily_vc_file_date()\n",
    "    inv_health_paths = make_inventory_health_file_paths(date)\n",
    "    eu7_inv_heatlh = make_eu7_inventory_health_file(inv_health_paths)\n",
    "    make_save_of_eu7_inventory_health_file(date, eu7_inv_heatlh)\n",
    "    return None"
   ]
  },
  {
   "cell_type": "code",
   "execution_count": 20,
   "metadata": {
    "pycharm": {
     "name": "#%%\n"
    }
   },
   "outputs": [
    {
     "name": "stdout",
     "output_type": "stream",
     "text": [
      "Successfully saved 20220405 EU7 Inv. Health file\n"
     ]
    }
   ],
   "source": [
    "pipeline_make_eu7_inventory_health_file()"
   ]
  }
 ],
 "metadata": {
  "interpreter": {
   "hash": "2421ef479f76be4d0f56dd0ef8c5008563aac21f9c617c72c7bcd97ef30a27da"
  },
  "kernelspec": {
   "display_name": "Python 3.7.1 ('venv_miscellaneous': venv)",
   "language": "python",
   "name": "python3"
  },
  "language_info": {
   "codemirror_mode": {
    "name": "ipython",
    "version": 3
   },
   "file_extension": ".py",
   "mimetype": "text/x-python",
   "name": "python",
   "nbconvert_exporter": "python",
   "pygments_lexer": "ipython3",
   "version": "3.7.1"
  },
  "orig_nbformat": 4
 },
 "nbformat": 4,
 "nbformat_minor": 2
}