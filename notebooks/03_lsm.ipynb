{
 "cells": [
  {
   "cell_type": "markdown",
   "metadata": {},
   "source": [
    "# LEGO Super Mario\n",
    "This notebook will take a look at the GV/CVR for LSM"
   ]
  },
  {
   "cell_type": "code",
   "execution_count": 1,
   "metadata": {},
   "outputs": [],
   "source": [
    "import pandas as pd"
   ]
  },
  {
   "cell_type": "code",
   "execution_count": 1,
   "metadata": {},
   "outputs": [],
   "source": [
    "import gc\n",
    "import os\n",
    "import numpy as np\n",
    "import pandas as pd\n",
    "from itertools import islice\n",
    "from openpyxl import load_workbook\n",
    "from datetime import date, timedelta, datetime\n",
    "\n",
    "ORDERED_REVENUE_STRING = \"Ordered Revenue\"\n",
    "DAILY_PATH_SUFFIX = \"_daily\"\n",
    "REPLACE_WITH_NOTHING = \"\"\n",
    "XSLX = \".xlsx\"\n",
    "INVENTORY_HEALTH_STRING = \"Inventory Health\"\n",
    "SHIPPED_COGS_STRING = \"Shipped COGS\"\n",
    "ORDERED_REVENUE_STRING = \"Ordered Revenue\"\n",
    "GB_ABBREVIATION = \"GB\"\n",
    "UK_ABBREVIATION = \"UK\"\n",
    "SPLIT_BY = \"\\\\\"\n",
    "TO_REPLACE = \"_daily\"\n",
    "REPLACE_WITH = \"\"\n",
    "COUNTRY_COLUMN = \"Country\"\n",
    "DATE_COLUMN = \"Date\"\n",
    "ASIN_COLUMN = \"ASIN\"\n",
    "ID_COLUMN = \"ID\"\n",
    "COLUMNS_TO_DROP = ['Ordered Units', 'Ordered Units - % of Total', 'Ordered Units - Prior Period', 'Ordered Units - Last Year', 'Glance Views', 'Change in Glance View - Prior Period', 'Change in GV Last Year', 'Conversion Rate', 'Rep OOS', 'Rep OOS - % of Total', 'Rep OOS - Prior Period', 'LBB (Price)']\n",
    "COLUMNS_TO_ADD_PREFIX = [\"Subcategory (Sales Rank)\", 'Average Sales Price', 'Average Sales Price - Prior Period']\n",
    "COLUMNS_WITH_PREFIX = [\"S.COGS \" + column_name for column_name in COLUMNS_TO_ADD_PREFIX]\n",
    "PRODUCT_TITLE_COLUMN = \"Product Title\"\n",
    "COUNTRY_LIST = [\"DE\", \"ES\", \"FR\", \"GB\", \"IT\", \"NL\"]\n",
    "ENCODING = \"utf-8-sig\"\n",
    "\n",
    "def make_list_of_child_directories(root_directory):\n",
    "    \"\"\"\n",
    "    Function uses os.path to find and return a list of the child directories inside a specified root/parent directory \n",
    "\n",
    "    :param root_directory: directory/location of root/parent that is to be crawled\n",
    "    :returns child_directory_list: list of suffix names of child directories\n",
    "    \"\"\"\n",
    "    root = root_directory\n",
    "    child_directory_list = [item for item in os.listdir(root) if os.path.isdir(os.path.join(root, item))]\n",
    "    return child_directory_list\n",
    "\n",
    "\n",
    "def make_filtered_date_weekly_list(root_directory_list, path_filter):\n",
    "    \"\"\"\n",
    "    Function filters a list of directories based on a specified string filter\n",
    "\n",
    "    :param root_directory_list: list of suffix names of directories\n",
    "    :param path_filter: string to filter list by\n",
    "    :returns fitlered_list: filtered list of suffix names of directories\n",
    "    \"\"\"\n",
    "    filtered_list = [weekly_file for weekly_file in root_directory_list if path_filter in weekly_file]\n",
    "    return filtered_list\n",
    "\n",
    "\n",
    "def make_directory_date_list(filtered_list, to_replace, replace_with):\n",
    "    \"\"\"\n",
    "    Function creates a list by removing a string from each element. It sorts the list from oldest date to newest\n",
    "\n",
    "    :param filtered_list: list of suffix names of directories\n",
    "    :param to_replace: string to replace \n",
    "    :param replace_with: string to replace with\n",
    "    :returns file_name_list: list of weekly folder dates\n",
    "    \"\"\"\n",
    "    file_name_list = [weekly_file.replace(to_replace, replace_with) for weekly_file in filtered_list]\n",
    "    return sorted(file_name_list)\n",
    "\n",
    "\n",
    "def make_latest_available_daily_directory(file_name_list, suffix):\n",
    "    \"\"\"\n",
    "    Function makes the path to the directory containing the latest available weekly ABA data\n",
    "\n",
    "    :param file_name_list: list containing the weekly folder dates\n",
    "    :returns latest_available_weekly_directory: path to the directory containing the latest available weekly ABA data\n",
    "    \"\"\"\n",
    "    latest_available_daily_directory = DAILY_PATH_PLACEHOLDER.format(file_name_list[-1] + suffix)\n",
    "    return latest_available_daily_directory\n",
    "\n",
    "\n",
    "def make_list_of_files_in_directory(directory_path, file_extension):\n",
    "    \"\"\"\n",
    "    Function crawls a specified directory and returns a list of files in that directory which are of specified file extension type\n",
    "\n",
    "    :param directory_path: directory/location of root/parent that is to be crawled\n",
    "    :param file_extension: file extension type\n",
    "    :returns fitlered_list: list of files in that directory which are of specified file extension type\n",
    "    \"\"\"\n",
    "    file_list = list()\n",
    "    for root, dirs, files in os.walk(directory_path):\n",
    "        for file in files:\n",
    "            if file.endswith(file_extension):\n",
    "                file_list.append(os.path.join(root, file))\n",
    "    return file_list\n",
    "\n",
    "\n",
    "def openpyxl_workbook_to_pandas_df(file_path):\n",
    "    \"\"\"\n",
    "    Function makes a Pandas Dataframe from an Openpyxl workbook. This is done because there are troubles reading SharePoint files directly with Pandas\n",
    "    \"\"\"\n",
    "    wb = load_workbook(filename=file_path)\n",
    "    ws = wb.active\n",
    "    data = ws.values\n",
    "    cols = next(data)[0:]\n",
    "    data = list(data)\n",
    "    data = (islice(r, 0, None) for r in data)\n",
    "    df = pd.DataFrame(data, columns=cols)\n",
    "    new_header = df.iloc[0]\n",
    "    df = df[1:]\n",
    "    df.columns = new_header\n",
    "    return df\n",
    "\n",
    "\n",
    "def make_country_from_file(file_path):\n",
    "    \"\"\"\n",
    "    Function finds the country code for a specified file using the file path\n",
    "\n",
    "    :param file_path: directory/location of file\n",
    "    :returns country_abbreviation: country code for the specified file\n",
    "    \"\"\"\n",
    "    # if INVENTORY_HEALTH_STRING in file_path:\n",
    "    #     start_slice = -7\n",
    "    #     end_slice = -5\n",
    "    if ORDERED_REVENUE_STRING in file_path:\n",
    "        start_slice = -23\n",
    "        end_slice = -21\n",
    "    # if SHIPPED_COGS_STRING in file_path:\n",
    "    #     start_slice = -20\n",
    "    #     end_slice = -18\n",
    "    country_abbreviation = file_path[start_slice:end_slice]\n",
    "    if country_abbreviation == \"GB\":\n",
    "        country_abbreviation = \"UK\"\n",
    "    else:\n",
    "        pass\n",
    "    return str(country_abbreviation)\n",
    "\n",
    "\n",
    "def make_date_from_file(file_path):\n",
    "    \"\"\"\n",
    "    Function finds the date for a specified file using the file path\n",
    "\n",
    "    :param file_path: directory/location of file\n",
    "    :returns date: date for the specified file\n",
    "    \"\"\"\n",
    "    date_daily_string = file_path.split(SPLIT_BY)[-2]\n",
    "    date_string = date_daily_string.replace(TO_REPLACE, REPLACE_WITH)\n",
    "    day = date_string[-2:]\n",
    "    month = date_string[-4:-2]\n",
    "    year = date_string[:4]\n",
    "    date = day + \"/\" + month + \"/\" + year\n",
    "    return date\n",
    "\n",
    "\n",
    "def add_country_date_to_dataframe(dataframe, country, date):\n",
    "    \"\"\"\n",
    "    Function adds a Country and Date column to a dataframe\n",
    "    \"\"\"\n",
    "    dataframe[COUNTRY_COLUMN] = country\n",
    "    dataframe[DATE_COLUMN] = date\n",
    "    return dataframe\n",
    "\n",
    "\n",
    "def make_id_column(dataframe):\n",
    "    \"\"\"\n",
    "    Function makes an ID column for a dataframe based off the \n",
    "    \"\"\"\n",
    "    dataframe[ID_COLUMN] = dataframe[ASIN_COLUMN] + \"_\" + dataframe[COUNTRY_COLUMN] + \"_\" + dataframe[DATE_COLUMN]\n",
    "    return dataframe\n",
    "\n",
    "\n",
    "def load_clean_and_transform_single_file_pipeline(file_path):\n",
    "    \"\"\"\n",
    "    Function serves as a pipeline for the process that is needed to load and create a country and date column into the dataframe\n",
    "    \"\"\"\n",
    "    dataframe = openpyxl_workbook_to_pandas_df(file_path)\n",
    "    country_abbreviation = make_country_from_file(file_path)\n",
    "    date = make_date_from_file(file_path)\n",
    "    transformed_dataframe = add_country_date_to_dataframe(dataframe, country_abbreviation, date)\n",
    "    transformed_dataframe = make_id_column(transformed_dataframe)\n",
    "    try:\n",
    "        transformed_dataframe.rename(columns={'Glance views': 'Glance Views', 'Conversion rate': 'Conversion Rate', \"Sub-category (Sales Rank)\": \"Subcategory (Sales Rank)\"}, inplace=True)\n",
    "    except:\n",
    "        pass\n",
    "    return transformed_dataframe"
   ]
  },
  {
   "cell_type": "code",
   "execution_count": 2,
   "metadata": {},
   "outputs": [],
   "source": [
    "child_direct_list = make_list_of_child_directories(r\"C:\\Users\\gbjaudom\\LEGO\\WE eComm CoE Analytics Team - Documents\\Data\\VC Files\\Daily Files\\2020\")\n",
    "filtered_list = make_filtered_date_weekly_list(child_direct_list, \"_daily\")\n",
    "directory_date_list = make_directory_date_list(filtered_list, \"_daily\", \"\")\n",
    "directory_date_list = directory_date_list[92:]"
   ]
  },
  {
   "cell_type": "code",
   "execution_count": 43,
   "metadata": {},
   "outputs": [
    {
     "name": "stderr",
     "output_type": "stream",
     "text": [
      "c:\\Users\\gbjaudom\\OneDrive - LEGO\\Documents\\python_projects\\miscellaneous\\venv_miscellaneous\\lib\\site-packages\\openpyxl\\styles\\stylesheet.py:226: UserWarning: Workbook contains no default style, apply openpyxl's default\n",
      "  warn(\"Workbook contains no default style, apply openpyxl's default\")\n"
     ]
    }
   ],
   "source": [
    "# direct_list = make_list_of_files_in_directory(r\"C:\\Users\\gbjaudom\\LEGO\\WE eComm CoE Analytics Team - Documents\\Data\\VC Files\\Daily Files\\2020\\20200801_daily\", \".xlsx\")\n",
    "# direct_list_filtered_OR_files = [x for x in direct_list if 'Ordered Revenue' in x]\n",
    "\n",
    "# empty_df = pd.DataFrame()\n",
    "\n",
    "# for file_path in direct_list_filtered_OR_files:\n",
    "#     day_country_file = load_clean_and_transform_single_file_pipeline('C:\\\\Users\\\\gbjaudom\\\\LEGO\\\\WE eComm CoE Analytics Team - Documents\\\\Data\\\\VC Files\\\\Daily Files\\\\2020\\\\20200801_daily\\\\20200801_daily_Sales Diagnostic_Detail View_DE_Ordered Revenue.xlsx')\n",
    "#     empty_df = empty_df.append(day_country_file)"
   ]
  },
  {
   "cell_type": "code",
   "execution_count": 7,
   "metadata": {},
   "outputs": [
    {
     "name": "stdout",
     "output_type": "stream",
     "text": [
      "20200801\n"
     ]
    },
    {
     "name": "stderr",
     "output_type": "stream",
     "text": [
      "c:\\Users\\gbjaudom\\OneDrive - LEGO\\Documents\\python_projects\\miscellaneous\\venv_miscellaneous\\lib\\site-packages\\openpyxl\\styles\\stylesheet.py:226: UserWarning: Workbook contains no default style, apply openpyxl's default\n",
      "  warn(\"Workbook contains no default style, apply openpyxl's default\")\n"
     ]
    },
    {
     "name": "stdout",
     "output_type": "stream",
     "text": [
      "20200802\n",
      "20200803\n",
      "20200804\n",
      "20200805\n",
      "20200806\n",
      "20200807\n",
      "20200808\n",
      "20200809\n",
      "20200810\n",
      "20200811\n",
      "20200812\n",
      "20200813\n",
      "20200814\n",
      "20200815\n",
      "20200816\n",
      "20200817\n",
      "20200818\n",
      "20200819\n",
      "20200820\n",
      "20200821\n",
      "20200822\n",
      "20200823\n",
      "20200824\n",
      "20200825\n",
      "20200826\n",
      "20200827\n",
      "20200828\n",
      "20200829\n",
      "20200830\n",
      "20200831\n",
      "20200901\n",
      "20200902\n",
      "20200903\n",
      "20200904\n",
      "20200905\n",
      "20200906\n",
      "20200907\n",
      "20200908\n",
      "20200909\n",
      "20200910\n",
      "20200911\n",
      "20200912\n",
      "20200913\n",
      "20200914\n",
      "20200915\n",
      "20200916\n",
      "20200917\n",
      "20200918\n",
      "20200919\n",
      "20200920\n",
      "20200921\n",
      "20200922\n",
      "20200923\n",
      "20200924\n",
      "20200925\n",
      "20200926\n",
      "20200927\n",
      "20200928\n",
      "20200929\n",
      "20200930\n",
      "202010\n",
      "20201001\n",
      "20201002\n",
      "20201003\n",
      "20201004\n",
      "20201005\n",
      "20201006\n",
      "20201007\n",
      "20201008\n",
      "20201009\n",
      "20201010\n",
      "20201011\n",
      "20201012\n",
      "20201013\n",
      "20201014\n",
      "20201015\n",
      "20201016\n",
      "20201017\n",
      "20201018\n",
      "20201019\n",
      "20201020\n",
      "20201021\n",
      "20201022\n",
      "20201023\n",
      "20201024\n",
      "20201025\n",
      "20201026\n",
      "20201027\n",
      "20201028\n",
      "20201029\n",
      "20201030\n",
      "20201031\n",
      "202011\n",
      "20201101\n",
      "20201102\n",
      "20201103\n",
      "20201104\n",
      "20201105\n",
      "20201106\n",
      "20201107\n",
      "20201108\n",
      "20201109\n",
      "20201110\n",
      "20201111\n",
      "20201112\n",
      "20201113\n",
      "20201114\n",
      "20201115\n",
      "20201116\n",
      "20201117\n",
      "20201118\n",
      "20201119\n",
      "20201120\n",
      "20201121\n",
      "20201122\n",
      "20201123\n",
      "20201124\n",
      "20201125\n",
      "20201126\n",
      "20201127\n",
      "20201128\n",
      "20201129\n",
      "20201130\n",
      "202012\n",
      "20201201\n",
      "20201202\n",
      "20201203\n",
      "20201204\n",
      "20201205\n",
      "20201206\n",
      "20201207\n",
      "20201208\n",
      "20201209\n",
      "20201210\n",
      "20201211\n",
      "20201212\n",
      "20201213\n",
      "20201214\n",
      "20201215\n",
      "20201216\n",
      "20201217\n",
      "20201218\n",
      "20201219\n",
      "20201220\n",
      "20201221\n",
      "20201222\n",
      "20201223\n",
      "20201224\n",
      "20201225\n",
      "20201226\n",
      "20201227\n",
      "20201228\n",
      "20201229\n",
      "20201230\n",
      "20201231\n"
     ]
    }
   ],
   "source": [
    "master_df = pd.DataFrame()\n",
    "\n",
    "for directory in directory_date_list: # Loop through all days\n",
    "    print(directory)\n",
    "    direct_list = make_list_of_files_in_directory(r\"C:\\Users\\gbjaudom\\LEGO\\WE eComm CoE Analytics Team - Documents\\Data\\VC Files\\Daily Files\\2020\\{}_daily\".format(directory), \".xlsx\")\n",
    "    direct_list_filtered_OR_files = [x for x in direct_list if 'Ordered Revenue' in x]\n",
    "    \n",
    "    empty_df = pd.DataFrame()\n",
    "    for file_path in direct_list_filtered_OR_files: # Loop through OR file in day\n",
    "        day_country_file = load_clean_and_transform_single_file_pipeline(file_path)\n",
    "        day_country_file = day_country_file[['ASIN', 'Product Title', 'Ordered Revenue', 'Ordered Units', 'Average Sales Price', 'Glance Views', 'Conversion Rate', 'Country', 'Date', 'ID']]\n",
    "        empty_df = empty_df.append(day_country_file)\n",
    "        \n",
    "    master_df = master_df.append(empty_df)"
   ]
  },
  {
   "cell_type": "code",
   "execution_count": 9,
   "metadata": {},
   "outputs": [],
   "source": [
    "master_df.to_csv(r\"C:\\Users\\gbjaudom\\Onedrive - LEGO\\Documents\\python_projects\\miscellaneous\\data\\processed\\2020_aug_dec_daily_gv_cvr_or.csv\")"
   ]
  },
  {
   "cell_type": "code",
   "execution_count": 10,
   "metadata": {},
   "outputs": [
    {
     "data": {
      "text/html": [
       "<div>\n",
       "<style scoped>\n",
       "    .dataframe tbody tr th:only-of-type {\n",
       "        vertical-align: middle;\n",
       "    }\n",
       "\n",
       "    .dataframe tbody tr th {\n",
       "        vertical-align: top;\n",
       "    }\n",
       "\n",
       "    .dataframe thead th {\n",
       "        text-align: right;\n",
       "    }\n",
       "</style>\n",
       "<table border=\"1\" class=\"dataframe\">\n",
       "  <thead>\n",
       "    <tr style=\"text-align: right;\">\n",
       "      <th></th>\n",
       "      <th>ASIN</th>\n",
       "      <th>Product Title</th>\n",
       "      <th>Ordered Revenue</th>\n",
       "      <th>Ordered Units</th>\n",
       "      <th>Average Sales Price</th>\n",
       "      <th>Glance Views</th>\n",
       "      <th>Conversion Rate</th>\n",
       "      <th>Country</th>\n",
       "      <th>Date</th>\n",
       "      <th>ID</th>\n",
       "    </tr>\n",
       "  </thead>\n",
       "  <tbody>\n",
       "    <tr>\n",
       "      <th>1</th>\n",
       "      <td>B082WDQHZQ</td>\n",
       "      <td>LEGO 71360 Super Mario Abenteuer mit Mario – S...</td>\n",
       "      <td>37998.37</td>\n",
       "      <td>938.0</td>\n",
       "      <td>40.509989</td>\n",
       "      <td>29410.0</td>\n",
       "      <td>0.031894</td>\n",
       "      <td>DE</td>\n",
       "      <td>01/08/2020</td>\n",
       "      <td>B082WDQHZQ_DE_01/08/2020</td>\n",
       "    </tr>\n",
       "    <tr>\n",
       "      <th>2</th>\n",
       "      <td>B0813R6JC6</td>\n",
       "      <td>LEGO 75280 Star Wars Clone Troopers der 501. L...</td>\n",
       "      <td>19059.97</td>\n",
       "      <td>789.0</td>\n",
       "      <td>24.157123</td>\n",
       "      <td>3603.0</td>\n",
       "      <td>0.218984</td>\n",
       "      <td>DE</td>\n",
       "      <td>01/08/2020</td>\n",
       "      <td>B0813R6JC6_DE_01/08/2020</td>\n",
       "    </tr>\n",
       "    <tr>\n",
       "      <th>3</th>\n",
       "      <td>B081P5P1SM</td>\n",
       "      <td>LEGO 75283 Star Wars Armored Assault Tank (AAT...</td>\n",
       "      <td>12936.0</td>\n",
       "      <td>385.0</td>\n",
       "      <td>33.6</td>\n",
       "      <td>3251.0</td>\n",
       "      <td>0.118425</td>\n",
       "      <td>DE</td>\n",
       "      <td>01/08/2020</td>\n",
       "      <td>B081P5P1SM_DE_01/08/2020</td>\n",
       "    </tr>\n",
       "    <tr>\n",
       "      <th>4</th>\n",
       "      <td>B082WF8MVV</td>\n",
       "      <td>LEGO 71369 Super Mario Bowsers Festung – Erwei...</td>\n",
       "      <td>9123.23</td>\n",
       "      <td>109.0</td>\n",
       "      <td>83.699358</td>\n",
       "      <td>6049.0</td>\n",
       "      <td>0.01802</td>\n",
       "      <td>DE</td>\n",
       "      <td>01/08/2020</td>\n",
       "      <td>B082WF8MVV_DE_01/08/2020</td>\n",
       "    </tr>\n",
       "    <tr>\n",
       "      <th>5</th>\n",
       "      <td>B0813QBV6V</td>\n",
       "      <td>LEGO 75969 Harry Potter Astronomieturm auf Sch...</td>\n",
       "      <td>9003.31</td>\n",
       "      <td>153.0</td>\n",
       "      <td>58.845163</td>\n",
       "      <td>2857.0</td>\n",
       "      <td>0.053553</td>\n",
       "      <td>DE</td>\n",
       "      <td>01/08/2020</td>\n",
       "      <td>B0813QBV6V_DE_01/08/2020</td>\n",
       "    </tr>\n",
       "    <tr>\n",
       "      <th>...</th>\n",
       "      <td>...</td>\n",
       "      <td>...</td>\n",
       "      <td>...</td>\n",
       "      <td>...</td>\n",
       "      <td>...</td>\n",
       "      <td>...</td>\n",
       "      <td>...</td>\n",
       "      <td>...</td>\n",
       "      <td>...</td>\n",
       "      <td>...</td>\n",
       "    </tr>\n",
       "    <tr>\n",
       "      <th>159</th>\n",
       "      <td>B082WD5BTT</td>\n",
       "      <td>LEGO 71363 Super Mario Pokey i öknen – Expansi...</td>\n",
       "      <td>-156.0</td>\n",
       "      <td>-1.0</td>\n",
       "      <td>156.0</td>\n",
       "      <td>4.0</td>\n",
       "      <td>-0.25</td>\n",
       "      <td>SE</td>\n",
       "      <td>31/12/2020</td>\n",
       "      <td>B082WD5BTT_SE_31/12/2020</td>\n",
       "    </tr>\n",
       "    <tr>\n",
       "      <th>160</th>\n",
       "      <td>B082WDSG3W</td>\n",
       "      <td>LEGO 71365 Super Mario Piranha Plant Power Sli...</td>\n",
       "      <td>-174.12</td>\n",
       "      <td>-1.0</td>\n",
       "      <td>174.12</td>\n",
       "      <td>0.0</td>\n",
       "      <td>—</td>\n",
       "      <td>SE</td>\n",
       "      <td>31/12/2020</td>\n",
       "      <td>B082WDSG3W_SE_31/12/2020</td>\n",
       "    </tr>\n",
       "    <tr>\n",
       "      <th>161</th>\n",
       "      <td>B0813RJRYG</td>\n",
       "      <td>LEGO 41428 Friends Strandhus, Byggsats med Min...</td>\n",
       "      <td>-364.33</td>\n",
       "      <td>-1.0</td>\n",
       "      <td>364.33</td>\n",
       "      <td>3.0</td>\n",
       "      <td>-0.333333</td>\n",
       "      <td>SE</td>\n",
       "      <td>31/12/2020</td>\n",
       "      <td>B0813RJRYG_SE_31/12/2020</td>\n",
       "    </tr>\n",
       "    <tr>\n",
       "      <th>162</th>\n",
       "      <td>B07W5PX1QP</td>\n",
       "      <td>LEGO 41395 Friends Vänskapsbuss Byggsats med M...</td>\n",
       "      <td>-470.86</td>\n",
       "      <td>-1.0</td>\n",
       "      <td>470.86</td>\n",
       "      <td>0.0</td>\n",
       "      <td>—</td>\n",
       "      <td>SE</td>\n",
       "      <td>31/12/2020</td>\n",
       "      <td>B07W5PX1QP_SE_31/12/2020</td>\n",
       "    </tr>\n",
       "    <tr>\n",
       "      <th>163</th>\n",
       "      <td>B07WC12QZW</td>\n",
       "      <td>LEGO 75272 Star Wars Sith TIE Fighter, Flerfärgad</td>\n",
       "      <td>-515.62</td>\n",
       "      <td>-1.0</td>\n",
       "      <td>515.62</td>\n",
       "      <td>5.0</td>\n",
       "      <td>-0.2</td>\n",
       "      <td>SE</td>\n",
       "      <td>31/12/2020</td>\n",
       "      <td>B07WC12QZW_SE_31/12/2020</td>\n",
       "    </tr>\n",
       "  </tbody>\n",
       "</table>\n",
       "<p>1144194 rows × 10 columns</p>\n",
       "</div>"
      ],
      "text/plain": [
       "0          ASIN                                      Product Title  \\\n",
       "1    B082WDQHZQ  LEGO 71360 Super Mario Abenteuer mit Mario – S...   \n",
       "2    B0813R6JC6  LEGO 75280 Star Wars Clone Troopers der 501. L...   \n",
       "3    B081P5P1SM  LEGO 75283 Star Wars Armored Assault Tank (AAT...   \n",
       "4    B082WF8MVV  LEGO 71369 Super Mario Bowsers Festung – Erwei...   \n",
       "5    B0813QBV6V  LEGO 75969 Harry Potter Astronomieturm auf Sch...   \n",
       "..          ...                                                ...   \n",
       "159  B082WD5BTT  LEGO 71363 Super Mario Pokey i öknen – Expansi...   \n",
       "160  B082WDSG3W  LEGO 71365 Super Mario Piranha Plant Power Sli...   \n",
       "161  B0813RJRYG  LEGO 41428 Friends Strandhus, Byggsats med Min...   \n",
       "162  B07W5PX1QP  LEGO 41395 Friends Vänskapsbuss Byggsats med M...   \n",
       "163  B07WC12QZW  LEGO 75272 Star Wars Sith TIE Fighter, Flerfärgad   \n",
       "\n",
       "0   Ordered Revenue Ordered Units Average Sales Price Glance Views  \\\n",
       "1          37998.37         938.0           40.509989      29410.0   \n",
       "2          19059.97         789.0           24.157123       3603.0   \n",
       "3           12936.0         385.0                33.6       3251.0   \n",
       "4           9123.23         109.0           83.699358       6049.0   \n",
       "5           9003.31         153.0           58.845163       2857.0   \n",
       "..              ...           ...                 ...          ...   \n",
       "159          -156.0          -1.0               156.0          4.0   \n",
       "160         -174.12          -1.0              174.12          0.0   \n",
       "161         -364.33          -1.0              364.33          3.0   \n",
       "162         -470.86          -1.0              470.86          0.0   \n",
       "163         -515.62          -1.0              515.62          5.0   \n",
       "\n",
       "0   Conversion Rate Country        Date                        ID  \n",
       "1          0.031894      DE  01/08/2020  B082WDQHZQ_DE_01/08/2020  \n",
       "2          0.218984      DE  01/08/2020  B0813R6JC6_DE_01/08/2020  \n",
       "3          0.118425      DE  01/08/2020  B081P5P1SM_DE_01/08/2020  \n",
       "4           0.01802      DE  01/08/2020  B082WF8MVV_DE_01/08/2020  \n",
       "5          0.053553      DE  01/08/2020  B0813QBV6V_DE_01/08/2020  \n",
       "..              ...     ...         ...                       ...  \n",
       "159           -0.25      SE  31/12/2020  B082WD5BTT_SE_31/12/2020  \n",
       "160               —      SE  31/12/2020  B082WDSG3W_SE_31/12/2020  \n",
       "161       -0.333333      SE  31/12/2020  B0813RJRYG_SE_31/12/2020  \n",
       "162               —      SE  31/12/2020  B07W5PX1QP_SE_31/12/2020  \n",
       "163            -0.2      SE  31/12/2020  B07WC12QZW_SE_31/12/2020  \n",
       "\n",
       "[1144194 rows x 10 columns]"
      ]
     },
     "execution_count": 10,
     "metadata": {},
     "output_type": "execute_result"
    }
   ],
   "source": [
    "master_df"
   ]
  },
  {
   "cell_type": "markdown",
   "metadata": {},
   "source": [
    "## Merge with Internal"
   ]
  },
  {
   "cell_type": "code",
   "execution_count": 12,
   "metadata": {},
   "outputs": [],
   "source": [
    "lookup = pd.read_excel(r\"C:\\Users\\gbjaudom\\LEGO\\WE eComm CoE Analytics Team - Documents\\Data\\Reference docs\\ASIN Lookup full.xlsx\", sheet_name=\"Sheet1\")\n",
    "lookup.rename(columns={'Material':'material', \"Comms\":\"communication_number\", \"SIOC flag\":\"sioc_flag\", \"Title\":\"name\", \"Theme\": \"top_theme\", \"Super Segment(Curr)\": \"super_segment\", \"RRP Lead EUR\":\"\", \"RRP Lead Range EUR\": \"rrp_lead_range_eur\", \"Price Range\": \"price_range\"}, inplace=True)"
   ]
  },
  {
   "cell_type": "code",
   "execution_count": 23,
   "metadata": {},
   "outputs": [
    {
     "ename": "MemoryError",
     "evalue": "Unable to allocate 17.5 MiB for an array with shape (2, 1144194) and data type float64",
     "output_type": "error",
     "traceback": [
      "\u001b[1;31m---------------------------------------------------------------------------\u001b[0m",
      "\u001b[1;31mMemoryError\u001b[0m                               Traceback (most recent call last)",
      "\u001b[1;32m~\\AppData\\Local\\Temp/ipykernel_25132/1421912619.py\u001b[0m in \u001b[0;36m<module>\u001b[1;34m\u001b[0m\n\u001b[1;32m----> 1\u001b[1;33m \u001b[0mdata\u001b[0m \u001b[1;33m=\u001b[0m \u001b[0mmaster_df\u001b[0m\u001b[1;33m.\u001b[0m\u001b[0mmerge\u001b[0m\u001b[1;33m(\u001b[0m\u001b[0mlookup\u001b[0m\u001b[1;33m,\u001b[0m \u001b[0mhow\u001b[0m\u001b[1;33m=\u001b[0m\u001b[1;34m\"left\"\u001b[0m\u001b[1;33m)\u001b[0m\u001b[1;33m\u001b[0m\u001b[1;33m\u001b[0m\u001b[0m\n\u001b[0m\u001b[0;32m      2\u001b[0m \u001b[0mdata\u001b[0m\u001b[1;33m.\u001b[0m\u001b[0mto_csv\u001b[0m\u001b[1;33m(\u001b[0m\u001b[1;34mr\"C:\\Users\\gbjaudom\\Onedrive - LEGO\\Documents\\python_projects\\miscellaneous\\data\\processed\\2020_aug_dec_daily_gv_cvr_or.csv\"\u001b[0m\u001b[1;33m)\u001b[0m\u001b[1;33m\u001b[0m\u001b[1;33m\u001b[0m\u001b[0m\n",
      "\u001b[1;32mc:\\Users\\gbjaudom\\OneDrive - LEGO\\Documents\\python_projects\\miscellaneous\\venv_miscellaneous\\lib\\site-packages\\pandas\\core\\frame.py\u001b[0m in \u001b[0;36mmerge\u001b[1;34m(self, right, how, on, left_on, right_on, left_index, right_index, sort, suffixes, copy, indicator, validate)\u001b[0m\n\u001b[0;32m   9201\u001b[0m             \u001b[0mcopy\u001b[0m\u001b[1;33m=\u001b[0m\u001b[0mcopy\u001b[0m\u001b[1;33m,\u001b[0m\u001b[1;33m\u001b[0m\u001b[1;33m\u001b[0m\u001b[0m\n\u001b[0;32m   9202\u001b[0m             \u001b[0mindicator\u001b[0m\u001b[1;33m=\u001b[0m\u001b[0mindicator\u001b[0m\u001b[1;33m,\u001b[0m\u001b[1;33m\u001b[0m\u001b[1;33m\u001b[0m\u001b[0m\n\u001b[1;32m-> 9203\u001b[1;33m             \u001b[0mvalidate\u001b[0m\u001b[1;33m=\u001b[0m\u001b[0mvalidate\u001b[0m\u001b[1;33m,\u001b[0m\u001b[1;33m\u001b[0m\u001b[1;33m\u001b[0m\u001b[0m\n\u001b[0m\u001b[0;32m   9204\u001b[0m         )\n\u001b[0;32m   9205\u001b[0m \u001b[1;33m\u001b[0m\u001b[0m\n",
      "\u001b[1;32mc:\\Users\\gbjaudom\\OneDrive - LEGO\\Documents\\python_projects\\miscellaneous\\venv_miscellaneous\\lib\\site-packages\\pandas\\core\\reshape\\merge.py\u001b[0m in \u001b[0;36mmerge\u001b[1;34m(left, right, how, on, left_on, right_on, left_index, right_index, sort, suffixes, copy, indicator, validate)\u001b[0m\n\u001b[0;32m    119\u001b[0m         \u001b[0mvalidate\u001b[0m\u001b[1;33m=\u001b[0m\u001b[0mvalidate\u001b[0m\u001b[1;33m,\u001b[0m\u001b[1;33m\u001b[0m\u001b[1;33m\u001b[0m\u001b[0m\n\u001b[0;32m    120\u001b[0m     )\n\u001b[1;32m--> 121\u001b[1;33m     \u001b[1;32mreturn\u001b[0m \u001b[0mop\u001b[0m\u001b[1;33m.\u001b[0m\u001b[0mget_result\u001b[0m\u001b[1;33m(\u001b[0m\u001b[1;33m)\u001b[0m\u001b[1;33m\u001b[0m\u001b[1;33m\u001b[0m\u001b[0m\n\u001b[0m\u001b[0;32m    122\u001b[0m \u001b[1;33m\u001b[0m\u001b[0m\n\u001b[0;32m    123\u001b[0m \u001b[1;33m\u001b[0m\u001b[0m\n",
      "\u001b[1;32mc:\\Users\\gbjaudom\\OneDrive - LEGO\\Documents\\python_projects\\miscellaneous\\venv_miscellaneous\\lib\\site-packages\\pandas\\core\\reshape\\merge.py\u001b[0m in \u001b[0;36mget_result\u001b[1;34m(self)\u001b[0m\n\u001b[0;32m    726\u001b[0m             \u001b[0maxes\u001b[0m\u001b[1;33m=\u001b[0m\u001b[1;33m[\u001b[0m\u001b[0mllabels\u001b[0m\u001b[1;33m.\u001b[0m\u001b[0mappend\u001b[0m\u001b[1;33m(\u001b[0m\u001b[0mrlabels\u001b[0m\u001b[1;33m)\u001b[0m\u001b[1;33m,\u001b[0m \u001b[0mjoin_index\u001b[0m\u001b[1;33m]\u001b[0m\u001b[1;33m,\u001b[0m\u001b[1;33m\u001b[0m\u001b[1;33m\u001b[0m\u001b[0m\n\u001b[0;32m    727\u001b[0m             \u001b[0mconcat_axis\u001b[0m\u001b[1;33m=\u001b[0m\u001b[1;36m0\u001b[0m\u001b[1;33m,\u001b[0m\u001b[1;33m\u001b[0m\u001b[1;33m\u001b[0m\u001b[0m\n\u001b[1;32m--> 728\u001b[1;33m             \u001b[0mcopy\u001b[0m\u001b[1;33m=\u001b[0m\u001b[0mself\u001b[0m\u001b[1;33m.\u001b[0m\u001b[0mcopy\u001b[0m\u001b[1;33m,\u001b[0m\u001b[1;33m\u001b[0m\u001b[1;33m\u001b[0m\u001b[0m\n\u001b[0m\u001b[0;32m    729\u001b[0m         )\n\u001b[0;32m    730\u001b[0m \u001b[1;33m\u001b[0m\u001b[0m\n",
      "\u001b[1;32mc:\\Users\\gbjaudom\\OneDrive - LEGO\\Documents\\python_projects\\miscellaneous\\venv_miscellaneous\\lib\\site-packages\\pandas\\core\\internals\\concat.py\u001b[0m in \u001b[0;36mconcatenate_managers\u001b[1;34m(mgrs_indexers, axes, concat_axis, copy)\u001b[0m\n\u001b[0;32m    224\u001b[0m             \u001b[0mfastpath\u001b[0m \u001b[1;33m=\u001b[0m \u001b[0mblk\u001b[0m\u001b[1;33m.\u001b[0m\u001b[0mvalues\u001b[0m\u001b[1;33m.\u001b[0m\u001b[0mdtype\u001b[0m \u001b[1;33m==\u001b[0m \u001b[0mvalues\u001b[0m\u001b[1;33m.\u001b[0m\u001b[0mdtype\u001b[0m\u001b[1;33m\u001b[0m\u001b[1;33m\u001b[0m\u001b[0m\n\u001b[0;32m    225\u001b[0m         \u001b[1;32melse\u001b[0m\u001b[1;33m:\u001b[0m\u001b[1;33m\u001b[0m\u001b[1;33m\u001b[0m\u001b[0m\n\u001b[1;32m--> 226\u001b[1;33m             \u001b[0mvalues\u001b[0m \u001b[1;33m=\u001b[0m \u001b[0m_concatenate_join_units\u001b[0m\u001b[1;33m(\u001b[0m\u001b[0mjoin_units\u001b[0m\u001b[1;33m,\u001b[0m \u001b[0mconcat_axis\u001b[0m\u001b[1;33m,\u001b[0m \u001b[0mcopy\u001b[0m\u001b[1;33m=\u001b[0m\u001b[0mcopy\u001b[0m\u001b[1;33m)\u001b[0m\u001b[1;33m\u001b[0m\u001b[1;33m\u001b[0m\u001b[0m\n\u001b[0m\u001b[0;32m    227\u001b[0m             \u001b[0mfastpath\u001b[0m \u001b[1;33m=\u001b[0m \u001b[1;32mFalse\u001b[0m\u001b[1;33m\u001b[0m\u001b[1;33m\u001b[0m\u001b[0m\n\u001b[0;32m    228\u001b[0m \u001b[1;33m\u001b[0m\u001b[0m\n",
      "\u001b[1;32mc:\\Users\\gbjaudom\\OneDrive - LEGO\\Documents\\python_projects\\miscellaneous\\venv_miscellaneous\\lib\\site-packages\\pandas\\core\\internals\\concat.py\u001b[0m in \u001b[0;36m_concatenate_join_units\u001b[1;34m(join_units, concat_axis, copy)\u001b[0m\n\u001b[0;32m    490\u001b[0m     to_concat = [\n\u001b[0;32m    491\u001b[0m         \u001b[0mju\u001b[0m\u001b[1;33m.\u001b[0m\u001b[0mget_reindexed_values\u001b[0m\u001b[1;33m(\u001b[0m\u001b[0mempty_dtype\u001b[0m\u001b[1;33m=\u001b[0m\u001b[0mempty_dtype\u001b[0m\u001b[1;33m,\u001b[0m \u001b[0mupcasted_na\u001b[0m\u001b[1;33m=\u001b[0m\u001b[0mupcasted_na\u001b[0m\u001b[1;33m)\u001b[0m\u001b[1;33m\u001b[0m\u001b[1;33m\u001b[0m\u001b[0m\n\u001b[1;32m--> 492\u001b[1;33m         \u001b[1;32mfor\u001b[0m \u001b[0mju\u001b[0m \u001b[1;32min\u001b[0m \u001b[0mjoin_units\u001b[0m\u001b[1;33m\u001b[0m\u001b[1;33m\u001b[0m\u001b[0m\n\u001b[0m\u001b[0;32m    493\u001b[0m     ]\n\u001b[0;32m    494\u001b[0m \u001b[1;33m\u001b[0m\u001b[0m\n",
      "\u001b[1;32mc:\\Users\\gbjaudom\\OneDrive - LEGO\\Documents\\python_projects\\miscellaneous\\venv_miscellaneous\\lib\\site-packages\\pandas\\core\\internals\\concat.py\u001b[0m in \u001b[0;36m<listcomp>\u001b[1;34m(.0)\u001b[0m\n\u001b[0;32m    490\u001b[0m     to_concat = [\n\u001b[0;32m    491\u001b[0m         \u001b[0mju\u001b[0m\u001b[1;33m.\u001b[0m\u001b[0mget_reindexed_values\u001b[0m\u001b[1;33m(\u001b[0m\u001b[0mempty_dtype\u001b[0m\u001b[1;33m=\u001b[0m\u001b[0mempty_dtype\u001b[0m\u001b[1;33m,\u001b[0m \u001b[0mupcasted_na\u001b[0m\u001b[1;33m=\u001b[0m\u001b[0mupcasted_na\u001b[0m\u001b[1;33m)\u001b[0m\u001b[1;33m\u001b[0m\u001b[1;33m\u001b[0m\u001b[0m\n\u001b[1;32m--> 492\u001b[1;33m         \u001b[1;32mfor\u001b[0m \u001b[0mju\u001b[0m \u001b[1;32min\u001b[0m \u001b[0mjoin_units\u001b[0m\u001b[1;33m\u001b[0m\u001b[1;33m\u001b[0m\u001b[0m\n\u001b[0m\u001b[0;32m    493\u001b[0m     ]\n\u001b[0;32m    494\u001b[0m \u001b[1;33m\u001b[0m\u001b[0m\n",
      "\u001b[1;32mc:\\Users\\gbjaudom\\OneDrive - LEGO\\Documents\\python_projects\\miscellaneous\\venv_miscellaneous\\lib\\site-packages\\pandas\\core\\internals\\concat.py\u001b[0m in \u001b[0;36mget_reindexed_values\u001b[1;34m(self, empty_dtype, upcasted_na)\u001b[0m\n\u001b[0;32m    468\u001b[0m         \u001b[1;32melse\u001b[0m\u001b[1;33m:\u001b[0m\u001b[1;33m\u001b[0m\u001b[1;33m\u001b[0m\u001b[0m\n\u001b[0;32m    469\u001b[0m             \u001b[1;32mfor\u001b[0m \u001b[0max\u001b[0m\u001b[1;33m,\u001b[0m \u001b[0mindexer\u001b[0m \u001b[1;32min\u001b[0m \u001b[0mself\u001b[0m\u001b[1;33m.\u001b[0m\u001b[0mindexers\u001b[0m\u001b[1;33m.\u001b[0m\u001b[0mitems\u001b[0m\u001b[1;33m(\u001b[0m\u001b[1;33m)\u001b[0m\u001b[1;33m:\u001b[0m\u001b[1;33m\u001b[0m\u001b[1;33m\u001b[0m\u001b[0m\n\u001b[1;32m--> 470\u001b[1;33m                 \u001b[0mvalues\u001b[0m \u001b[1;33m=\u001b[0m \u001b[0malgos\u001b[0m\u001b[1;33m.\u001b[0m\u001b[0mtake_nd\u001b[0m\u001b[1;33m(\u001b[0m\u001b[0mvalues\u001b[0m\u001b[1;33m,\u001b[0m \u001b[0mindexer\u001b[0m\u001b[1;33m,\u001b[0m \u001b[0maxis\u001b[0m\u001b[1;33m=\u001b[0m\u001b[0max\u001b[0m\u001b[1;33m)\u001b[0m\u001b[1;33m\u001b[0m\u001b[1;33m\u001b[0m\u001b[0m\n\u001b[0m\u001b[0;32m    471\u001b[0m \u001b[1;33m\u001b[0m\u001b[0m\n\u001b[0;32m    472\u001b[0m         \u001b[1;32mreturn\u001b[0m \u001b[0mvalues\u001b[0m\u001b[1;33m\u001b[0m\u001b[1;33m\u001b[0m\u001b[0m\n",
      "\u001b[1;32mc:\\Users\\gbjaudom\\OneDrive - LEGO\\Documents\\python_projects\\miscellaneous\\venv_miscellaneous\\lib\\site-packages\\pandas\\core\\array_algos\\take.py\u001b[0m in \u001b[0;36mtake_nd\u001b[1;34m(arr, indexer, axis, fill_value, allow_fill)\u001b[0m\n\u001b[0;32m    106\u001b[0m \u001b[1;33m\u001b[0m\u001b[0m\n\u001b[0;32m    107\u001b[0m     \u001b[0marr\u001b[0m \u001b[1;33m=\u001b[0m \u001b[0mnp\u001b[0m\u001b[1;33m.\u001b[0m\u001b[0masarray\u001b[0m\u001b[1;33m(\u001b[0m\u001b[0marr\u001b[0m\u001b[1;33m)\u001b[0m\u001b[1;33m\u001b[0m\u001b[1;33m\u001b[0m\u001b[0m\n\u001b[1;32m--> 108\u001b[1;33m     \u001b[1;32mreturn\u001b[0m \u001b[0m_take_nd_ndarray\u001b[0m\u001b[1;33m(\u001b[0m\u001b[0marr\u001b[0m\u001b[1;33m,\u001b[0m \u001b[0mindexer\u001b[0m\u001b[1;33m,\u001b[0m \u001b[0maxis\u001b[0m\u001b[1;33m,\u001b[0m \u001b[0mfill_value\u001b[0m\u001b[1;33m,\u001b[0m \u001b[0mallow_fill\u001b[0m\u001b[1;33m)\u001b[0m\u001b[1;33m\u001b[0m\u001b[1;33m\u001b[0m\u001b[0m\n\u001b[0m\u001b[0;32m    109\u001b[0m \u001b[1;33m\u001b[0m\u001b[0m\n\u001b[0;32m    110\u001b[0m \u001b[1;33m\u001b[0m\u001b[0m\n",
      "\u001b[1;32mc:\\Users\\gbjaudom\\OneDrive - LEGO\\Documents\\python_projects\\miscellaneous\\venv_miscellaneous\\lib\\site-packages\\pandas\\core\\array_algos\\take.py\u001b[0m in \u001b[0;36m_take_nd_ndarray\u001b[1;34m(arr, indexer, axis, fill_value, allow_fill)\u001b[0m\n\u001b[0;32m    147\u001b[0m         \u001b[0mout\u001b[0m \u001b[1;33m=\u001b[0m \u001b[0mnp\u001b[0m\u001b[1;33m.\u001b[0m\u001b[0mempty\u001b[0m\u001b[1;33m(\u001b[0m\u001b[0mout_shape\u001b[0m\u001b[1;33m,\u001b[0m \u001b[0mdtype\u001b[0m\u001b[1;33m=\u001b[0m\u001b[0mdtype\u001b[0m\u001b[1;33m,\u001b[0m \u001b[0morder\u001b[0m\u001b[1;33m=\u001b[0m\u001b[1;34m\"F\"\u001b[0m\u001b[1;33m)\u001b[0m\u001b[1;33m\u001b[0m\u001b[1;33m\u001b[0m\u001b[0m\n\u001b[0;32m    148\u001b[0m     \u001b[1;32melse\u001b[0m\u001b[1;33m:\u001b[0m\u001b[1;33m\u001b[0m\u001b[1;33m\u001b[0m\u001b[0m\n\u001b[1;32m--> 149\u001b[1;33m         \u001b[0mout\u001b[0m \u001b[1;33m=\u001b[0m \u001b[0mnp\u001b[0m\u001b[1;33m.\u001b[0m\u001b[0mempty\u001b[0m\u001b[1;33m(\u001b[0m\u001b[0mout_shape\u001b[0m\u001b[1;33m,\u001b[0m \u001b[0mdtype\u001b[0m\u001b[1;33m=\u001b[0m\u001b[0mdtype\u001b[0m\u001b[1;33m)\u001b[0m\u001b[1;33m\u001b[0m\u001b[1;33m\u001b[0m\u001b[0m\n\u001b[0m\u001b[0;32m    150\u001b[0m \u001b[1;33m\u001b[0m\u001b[0m\n\u001b[0;32m    151\u001b[0m     func = _get_take_nd_function(\n",
      "\u001b[1;31mMemoryError\u001b[0m: Unable to allocate 17.5 MiB for an array with shape (2, 1144194) and data type float64"
     ]
    }
   ],
   "source": [
    "data = master_df.merge(lookup, how=\"left\")\n",
    "data.to_csv(r\"C:\\Users\\gbjaudom\\Onedrive - LEGO\\Documents\\python_projects\\miscellaneous\\data\\processed\\2020_aug_dec_daily_gv_cvr_or.csv\")"
   ]
  },
  {
   "cell_type": "markdown",
   "metadata": {},
   "source": [
    "## LSM Filter"
   ]
  },
  {
   "cell_type": "code",
   "execution_count": 19,
   "metadata": {},
   "outputs": [
    {
     "data": {
      "text/html": [
       "<div>\n",
       "<style scoped>\n",
       "    .dataframe tbody tr th:only-of-type {\n",
       "        vertical-align: middle;\n",
       "    }\n",
       "\n",
       "    .dataframe tbody tr th {\n",
       "        vertical-align: top;\n",
       "    }\n",
       "\n",
       "    .dataframe thead th {\n",
       "        text-align: right;\n",
       "    }\n",
       "</style>\n",
       "<table border=\"1\" class=\"dataframe\">\n",
       "  <thead>\n",
       "    <tr style=\"text-align: right;\">\n",
       "      <th></th>\n",
       "      <th>ASIN</th>\n",
       "      <th>Product Title</th>\n",
       "      <th>Ordered Revenue</th>\n",
       "      <th>Ordered Units</th>\n",
       "      <th>Average Sales Price</th>\n",
       "      <th>Glance Views</th>\n",
       "      <th>Conversion Rate</th>\n",
       "      <th>Country</th>\n",
       "      <th>Date</th>\n",
       "      <th>ID</th>\n",
       "      <th>material</th>\n",
       "      <th>communication_number</th>\n",
       "      <th>sioc_flag</th>\n",
       "      <th>name</th>\n",
       "      <th>top_theme</th>\n",
       "      <th>super_segment</th>\n",
       "      <th></th>\n",
       "      <th>rrp_lead_range_eur</th>\n",
       "      <th>price_range</th>\n",
       "    </tr>\n",
       "  </thead>\n",
       "  <tbody>\n",
       "    <tr>\n",
       "      <th>0</th>\n",
       "      <td>B082WDQHZQ</td>\n",
       "      <td>LEGO 71360 Super Mario Abenteuer mit Mario – S...</td>\n",
       "      <td>37998.37</td>\n",
       "      <td>938.0</td>\n",
       "      <td>40.509989</td>\n",
       "      <td>29410.0</td>\n",
       "      <td>0.031894</td>\n",
       "      <td>DE</td>\n",
       "      <td>01/08/2020</td>\n",
       "      <td>B082WDQHZQ_DE_01/08/2020</td>\n",
       "      <td>6288909.0</td>\n",
       "      <td>71360.0</td>\n",
       "      <td>0.0</td>\n",
       "      <td>Adventures with Mari</td>\n",
       "      <td>SUPER MARIO</td>\n",
       "      <td>Boys</td>\n",
       "      <td>59.99</td>\n",
       "      <td>&lt;80 EUR</td>\n",
       "      <td>MPP</td>\n",
       "    </tr>\n",
       "    <tr>\n",
       "      <th>3</th>\n",
       "      <td>B082WF8MVV</td>\n",
       "      <td>LEGO 71369 Super Mario Bowsers Festung – Erwei...</td>\n",
       "      <td>9123.23</td>\n",
       "      <td>109.0</td>\n",
       "      <td>83.699358</td>\n",
       "      <td>6049.0</td>\n",
       "      <td>0.01802</td>\n",
       "      <td>DE</td>\n",
       "      <td>01/08/2020</td>\n",
       "      <td>B082WF8MVV_DE_01/08/2020</td>\n",
       "      <td>6288927.0</td>\n",
       "      <td>71369.0</td>\n",
       "      <td>0.0</td>\n",
       "      <td>Bowser's Castle Boss</td>\n",
       "      <td>SUPER MARIO</td>\n",
       "      <td>Boys</td>\n",
       "      <td>99.99</td>\n",
       "      <td>&lt;150 EUR</td>\n",
       "      <td>HPP</td>\n",
       "    </tr>\n",
       "    <tr>\n",
       "      <th>12</th>\n",
       "      <td>B082WF8MB5</td>\n",
       "      <td>LEGO 71367 Super Mario Marios Haus und Yoshi –...</td>\n",
       "      <td>5348.33</td>\n",
       "      <td>216.0</td>\n",
       "      <td>24.760787</td>\n",
       "      <td>4500.0</td>\n",
       "      <td>0.048</td>\n",
       "      <td>DE</td>\n",
       "      <td>01/08/2020</td>\n",
       "      <td>B082WF8MB5_DE_01/08/2020</td>\n",
       "      <td>6288923.0</td>\n",
       "      <td>71367.0</td>\n",
       "      <td>0.0</td>\n",
       "      <td>Mario's House &amp; Yosh</td>\n",
       "      <td>SUPER MARIO</td>\n",
       "      <td>Boys</td>\n",
       "      <td>29.99</td>\n",
       "      <td>&lt;50 EUR</td>\n",
       "      <td>LPP</td>\n",
       "    </tr>\n",
       "    <tr>\n",
       "      <th>19</th>\n",
       "      <td>B082WF7Z4Q</td>\n",
       "      <td>LEGO 71362 Super Mario Bewachte Festung – Erwe...</td>\n",
       "      <td>3360.8</td>\n",
       "      <td>80.0</td>\n",
       "      <td>42.01</td>\n",
       "      <td>5529.0</td>\n",
       "      <td>0.014469</td>\n",
       "      <td>DE</td>\n",
       "      <td>01/08/2020</td>\n",
       "      <td>B082WF7Z4Q_DE_01/08/2020</td>\n",
       "      <td>6288913.0</td>\n",
       "      <td>71362.0</td>\n",
       "      <td>0.0</td>\n",
       "      <td>Guarded Fortress Exp</td>\n",
       "      <td>SUPER MARIO</td>\n",
       "      <td>Boys</td>\n",
       "      <td>49.99</td>\n",
       "      <td>&lt;50 EUR</td>\n",
       "      <td>LPP</td>\n",
       "    </tr>\n",
       "    <tr>\n",
       "      <th>30</th>\n",
       "      <td>B082WDZM4T</td>\n",
       "      <td>LEGO 71368 Super Mario Toads Schatzsuche – Erw...</td>\n",
       "      <td>2661.91</td>\n",
       "      <td>40.0</td>\n",
       "      <td>66.54775</td>\n",
       "      <td>2233.0</td>\n",
       "      <td>0.017913</td>\n",
       "      <td>DE</td>\n",
       "      <td>01/08/2020</td>\n",
       "      <td>B082WDZM4T_DE_01/08/2020</td>\n",
       "      <td>6288925.0</td>\n",
       "      <td>71368.0</td>\n",
       "      <td>0.0</td>\n",
       "      <td>Toad's Treasure Hunt</td>\n",
       "      <td>SUPER MARIO</td>\n",
       "      <td>Boys</td>\n",
       "      <td>79.99</td>\n",
       "      <td>&lt;80 EUR</td>\n",
       "      <td>MPP</td>\n",
       "    </tr>\n",
       "    <tr>\n",
       "      <th>...</th>\n",
       "      <td>...</td>\n",
       "      <td>...</td>\n",
       "      <td>...</td>\n",
       "      <td>...</td>\n",
       "      <td>...</td>\n",
       "      <td>...</td>\n",
       "      <td>...</td>\n",
       "      <td>...</td>\n",
       "      <td>...</td>\n",
       "      <td>...</td>\n",
       "      <td>...</td>\n",
       "      <td>...</td>\n",
       "      <td>...</td>\n",
       "      <td>...</td>\n",
       "      <td>...</td>\n",
       "      <td>...</td>\n",
       "      <td>...</td>\n",
       "      <td>...</td>\n",
       "      <td>...</td>\n",
       "    </tr>\n",
       "    <tr>\n",
       "      <th>1144071</th>\n",
       "      <td>B082WDQHZQ</td>\n",
       "      <td>LEGO 71360 Super Mario Äventyr med Mario – Sta...</td>\n",
       "      <td>0.0</td>\n",
       "      <td>0.0</td>\n",
       "      <td>—</td>\n",
       "      <td>4.0</td>\n",
       "      <td>0.0</td>\n",
       "      <td>SE</td>\n",
       "      <td>31/12/2020</td>\n",
       "      <td>B082WDQHZQ_SE_31/12/2020</td>\n",
       "      <td>6288909.0</td>\n",
       "      <td>71360.0</td>\n",
       "      <td>0.0</td>\n",
       "      <td>Adventures with Mari</td>\n",
       "      <td>SUPER MARIO</td>\n",
       "      <td>Boys</td>\n",
       "      <td>59.99</td>\n",
       "      <td>&lt;80 EUR</td>\n",
       "      <td>MPP</td>\n",
       "    </tr>\n",
       "    <tr>\n",
       "      <th>1144072</th>\n",
       "      <td>B082WDBGMP</td>\n",
       "      <td>LEGO 71366 Super Mario Boomer Bills Attack - E...</td>\n",
       "      <td>0.0</td>\n",
       "      <td>0.0</td>\n",
       "      <td>—</td>\n",
       "      <td>0.0</td>\n",
       "      <td>—</td>\n",
       "      <td>SE</td>\n",
       "      <td>31/12/2020</td>\n",
       "      <td>B082WDBGMP_SE_31/12/2020</td>\n",
       "      <td>6288921.0</td>\n",
       "      <td>71366.0</td>\n",
       "      <td>0.0</td>\n",
       "      <td>Boomer Bill Barrage</td>\n",
       "      <td>SUPER MARIO</td>\n",
       "      <td>Boys</td>\n",
       "      <td>29.99</td>\n",
       "      <td>&lt;50 EUR</td>\n",
       "      <td>LPP</td>\n",
       "    </tr>\n",
       "    <tr>\n",
       "      <th>1144073</th>\n",
       "      <td>B082WD5BV6</td>\n",
       "      <td>LEGO 71372 Super Mario Cat Mario – Boostpaket ...</td>\n",
       "      <td>0.0</td>\n",
       "      <td>0.0</td>\n",
       "      <td>—</td>\n",
       "      <td>0.0</td>\n",
       "      <td>—</td>\n",
       "      <td>SE</td>\n",
       "      <td>31/12/2020</td>\n",
       "      <td>B082WD5BV6_SE_31/12/2020</td>\n",
       "      <td>6288933.0</td>\n",
       "      <td>71372.0</td>\n",
       "      <td>0.0</td>\n",
       "      <td>Cat Mario Power-Up P</td>\n",
       "      <td>SUPER MARIO</td>\n",
       "      <td>Boys</td>\n",
       "      <td>9.99</td>\n",
       "      <td>&lt;10 EUR</td>\n",
       "      <td>LPP</td>\n",
       "    </tr>\n",
       "    <tr>\n",
       "      <th>1144189</th>\n",
       "      <td>B082WD5BTT</td>\n",
       "      <td>LEGO 71363 Super Mario Pokey i öknen – Expansi...</td>\n",
       "      <td>-156.0</td>\n",
       "      <td>-1.0</td>\n",
       "      <td>156.0</td>\n",
       "      <td>4.0</td>\n",
       "      <td>-0.25</td>\n",
       "      <td>SE</td>\n",
       "      <td>31/12/2020</td>\n",
       "      <td>B082WD5BTT_SE_31/12/2020</td>\n",
       "      <td>6288915.0</td>\n",
       "      <td>71363.0</td>\n",
       "      <td>0.0</td>\n",
       "      <td>Desert Pokey Expansi</td>\n",
       "      <td>SUPER MARIO</td>\n",
       "      <td>Boys</td>\n",
       "      <td>19.99</td>\n",
       "      <td>&lt;20 EUR</td>\n",
       "      <td>LPP</td>\n",
       "    </tr>\n",
       "    <tr>\n",
       "      <th>1144190</th>\n",
       "      <td>B082WDSG3W</td>\n",
       "      <td>LEGO 71365 Super Mario Piranha Plant Power Sli...</td>\n",
       "      <td>-174.12</td>\n",
       "      <td>-1.0</td>\n",
       "      <td>174.12</td>\n",
       "      <td>0.0</td>\n",
       "      <td>—</td>\n",
       "      <td>SE</td>\n",
       "      <td>31/12/2020</td>\n",
       "      <td>B082WDSG3W_SE_31/12/2020</td>\n",
       "      <td>6288919.0</td>\n",
       "      <td>71365.0</td>\n",
       "      <td>0.0</td>\n",
       "      <td>Piranha Plant Power</td>\n",
       "      <td>SUPER MARIO</td>\n",
       "      <td>Boys</td>\n",
       "      <td>29.99</td>\n",
       "      <td>&lt;50 EUR</td>\n",
       "      <td>LPP</td>\n",
       "    </tr>\n",
       "  </tbody>\n",
       "</table>\n",
       "<p>21216 rows × 19 columns</p>\n",
       "</div>"
      ],
      "text/plain": [
       "               ASIN                                      Product Title  \\\n",
       "0        B082WDQHZQ  LEGO 71360 Super Mario Abenteuer mit Mario – S...   \n",
       "3        B082WF8MVV  LEGO 71369 Super Mario Bowsers Festung – Erwei...   \n",
       "12       B082WF8MB5  LEGO 71367 Super Mario Marios Haus und Yoshi –...   \n",
       "19       B082WF7Z4Q  LEGO 71362 Super Mario Bewachte Festung – Erwe...   \n",
       "30       B082WDZM4T  LEGO 71368 Super Mario Toads Schatzsuche – Erw...   \n",
       "...             ...                                                ...   \n",
       "1144071  B082WDQHZQ  LEGO 71360 Super Mario Äventyr med Mario – Sta...   \n",
       "1144072  B082WDBGMP  LEGO 71366 Super Mario Boomer Bills Attack - E...   \n",
       "1144073  B082WD5BV6  LEGO 71372 Super Mario Cat Mario – Boostpaket ...   \n",
       "1144189  B082WD5BTT  LEGO 71363 Super Mario Pokey i öknen – Expansi...   \n",
       "1144190  B082WDSG3W  LEGO 71365 Super Mario Piranha Plant Power Sli...   \n",
       "\n",
       "        Ordered Revenue Ordered Units Average Sales Price Glance Views  \\\n",
       "0              37998.37         938.0           40.509989      29410.0   \n",
       "3               9123.23         109.0           83.699358       6049.0   \n",
       "12              5348.33         216.0           24.760787       4500.0   \n",
       "19               3360.8          80.0               42.01       5529.0   \n",
       "30              2661.91          40.0            66.54775       2233.0   \n",
       "...                 ...           ...                 ...          ...   \n",
       "1144071             0.0           0.0                   —          4.0   \n",
       "1144072             0.0           0.0                   —          0.0   \n",
       "1144073             0.0           0.0                   —          0.0   \n",
       "1144189          -156.0          -1.0               156.0          4.0   \n",
       "1144190         -174.12          -1.0              174.12          0.0   \n",
       "\n",
       "        Conversion Rate Country        Date                        ID  \\\n",
       "0              0.031894      DE  01/08/2020  B082WDQHZQ_DE_01/08/2020   \n",
       "3               0.01802      DE  01/08/2020  B082WF8MVV_DE_01/08/2020   \n",
       "12                0.048      DE  01/08/2020  B082WF8MB5_DE_01/08/2020   \n",
       "19             0.014469      DE  01/08/2020  B082WF7Z4Q_DE_01/08/2020   \n",
       "30             0.017913      DE  01/08/2020  B082WDZM4T_DE_01/08/2020   \n",
       "...                 ...     ...         ...                       ...   \n",
       "1144071             0.0      SE  31/12/2020  B082WDQHZQ_SE_31/12/2020   \n",
       "1144072               —      SE  31/12/2020  B082WDBGMP_SE_31/12/2020   \n",
       "1144073               —      SE  31/12/2020  B082WD5BV6_SE_31/12/2020   \n",
       "1144189           -0.25      SE  31/12/2020  B082WD5BTT_SE_31/12/2020   \n",
       "1144190               —      SE  31/12/2020  B082WDSG3W_SE_31/12/2020   \n",
       "\n",
       "          material  communication_number  sioc_flag                  name  \\\n",
       "0        6288909.0               71360.0        0.0  Adventures with Mari   \n",
       "3        6288927.0               71369.0        0.0  Bowser's Castle Boss   \n",
       "12       6288923.0               71367.0        0.0  Mario's House & Yosh   \n",
       "19       6288913.0               71362.0        0.0  Guarded Fortress Exp   \n",
       "30       6288925.0               71368.0        0.0  Toad's Treasure Hunt   \n",
       "...            ...                   ...        ...                   ...   \n",
       "1144071  6288909.0               71360.0        0.0  Adventures with Mari   \n",
       "1144072  6288921.0               71366.0        0.0   Boomer Bill Barrage   \n",
       "1144073  6288933.0               71372.0        0.0  Cat Mario Power-Up P   \n",
       "1144189  6288915.0               71363.0        0.0  Desert Pokey Expansi   \n",
       "1144190  6288919.0               71365.0        0.0   Piranha Plant Power   \n",
       "\n",
       "           top_theme super_segment        rrp_lead_range_eur price_range  \n",
       "0        SUPER MARIO          Boys  59.99            <80 EUR         MPP  \n",
       "3        SUPER MARIO          Boys  99.99           <150 EUR         HPP  \n",
       "12       SUPER MARIO          Boys  29.99            <50 EUR         LPP  \n",
       "19       SUPER MARIO          Boys  49.99            <50 EUR         LPP  \n",
       "30       SUPER MARIO          Boys  79.99            <80 EUR         MPP  \n",
       "...              ...           ...    ...                ...         ...  \n",
       "1144071  SUPER MARIO          Boys  59.99            <80 EUR         MPP  \n",
       "1144072  SUPER MARIO          Boys  29.99            <50 EUR         LPP  \n",
       "1144073  SUPER MARIO          Boys   9.99            <10 EUR         LPP  \n",
       "1144189  SUPER MARIO          Boys  19.99            <20 EUR         LPP  \n",
       "1144190  SUPER MARIO          Boys  29.99            <50 EUR         LPP  \n",
       "\n",
       "[21216 rows x 19 columns]"
      ]
     },
     "execution_count": 19,
     "metadata": {},
     "output_type": "execute_result"
    }
   ],
   "source": [
    "lsm = data[data[\"top_theme\"] == \"SUPER MARIO\"]\n",
    "lsm"
   ]
  },
  {
   "cell_type": "markdown",
   "metadata": {},
   "source": [
    "### Country"
   ]
  },
  {
   "cell_type": "code",
   "execution_count": 1,
   "metadata": {},
   "outputs": [],
   "source": [
    "import pandas as pd"
   ]
  },
  {
   "cell_type": "code",
   "execution_count": 5,
   "metadata": {},
   "outputs": [
    {
     "name": "stderr",
     "output_type": "stream",
     "text": [
      "c:\\Users\\gbjaudom\\OneDrive - LEGO\\Documents\\python_projects\\miscellaneous\\venv_miscellaneous\\lib\\site-packages\\IPython\\core\\interactiveshell.py:3444: DtypeWarning: Columns (11,13,15,16,17,18,20,22,24,38,48,50,52,53,54,55,56,58,60,62,65,66,67,69) have mixed types.Specify dtype option on import or set low_memory=False.\n",
      "  exec(code_obj, self.user_global_ns, self.user_ns)\n"
     ]
    }
   ],
   "source": [
    "uk = pd.read_csv(r\"C:\\Users\\gbjaudom\\LEGO\\WE eComm CoE Analytics Team - Documents\\Data\\daily_vc_data\\uk_2021_master_aba_vc_data.csv\")\n",
    "uk = uk[['ASIN', 'Product Title', 'Ordered Revenue', 'Ordered Units', 'Average Sales Price', 'Glance Views', 'Conversion Rate', 'Country', 'Date', 'ID']]\n",
    "lookup = pd.read_excel(r\"C:\\Users\\gbjaudom\\LEGO\\WE eComm CoE Analytics Team - Documents\\Data\\Reference docs\\ASIN Lookup full.xlsx\", sheet_name=\"Sheet1\")\n",
    "lookup.rename(columns={'Material':'material', \"Comms\":\"communication_number\", \"SIOC flag\":\"sioc_flag\", \"Title\":\"name\", \"Theme\": \"top_theme\", \"Super Segment(Curr)\": \"super_segment\", \"RRP Lead EUR\":\"\", \"RRP Lead Range EUR\": \"rrp_lead_range_eur\", \"Price Range\": \"price_range\"}, inplace=True)\n",
    "uk = uk.merge(lookup, how=\"left\")\n",
    "uk = uk[uk[\"top_theme\"] == \"SUPER MARIO\"]"
   ]
  },
  {
   "cell_type": "code",
   "execution_count": 7,
   "metadata": {},
   "outputs": [],
   "source": [
    "def country_to_lsm(file_path):\n",
    "    \"\"\"\n",
    "    \"\"\"\n",
    "    uk = pd.read_csv(file_path)\n",
    "    uk = uk[['ASIN', 'Product Title', 'Ordered Revenue', 'Ordered Units', 'Average Sales Price', 'Glance Views', 'Conversion Rate', 'Country', 'Date', 'ID']]\n",
    "    lookup = pd.read_excel(r\"C:\\Users\\gbjaudom\\LEGO\\WE eComm CoE Analytics Team - Documents\\Data\\Reference docs\\ASIN Lookup full.xlsx\", sheet_name=\"Sheet1\")\n",
    "    lookup.rename(columns={'Material':'material', \"Comms\":\"communication_number\", \"SIOC flag\":\"sioc_flag\", \"Title\":\"name\", \"Theme\": \"top_theme\", \"Super Segment(Curr)\": \"super_segment\", \"RRP Lead EUR\":\"\", \"RRP Lead Range EUR\": \"rrp_lead_range_eur\", \"Price Range\": \"price_range\"}, inplace=True)\n",
    "    uk = uk.merge(lookup, how=\"left\")\n",
    "    uk = uk[uk[\"top_theme\"] == \"SUPER MARIO\"]\n",
    "    return uk"
   ]
  },
  {
   "cell_type": "code",
   "execution_count": 9,
   "metadata": {},
   "outputs": [
    {
     "name": "stderr",
     "output_type": "stream",
     "text": [
      "ipykernel_launcher:1: DtypeWarning: Columns (11,13,15,16,17,18,20,22,24,38,48,50,52,53,54,55,56,58,60,62,65,66,67,69) have mixed types.Specify dtype option on import or set low_memory=False.\n",
      "ipykernel_launcher:2: DtypeWarning: Columns (11,13,15,16,17,18,20,22,24,38,48,50,52,53,54,55,56,58,60,62,65,66,67,69) have mixed types.Specify dtype option on import or set low_memory=False.\n",
      "ipykernel_launcher:3: DtypeWarning: Columns (11,13,15,16,17,18,20,22,24,38,48,50,52,53,54,55,56,58,60,62,65,66,67,69) have mixed types.Specify dtype option on import or set low_memory=False.\n",
      "ipykernel_launcher:4: DtypeWarning: Columns (11,13,15,16,17,18,20,22,24,38,48,50,52,53,54,55,56,58,60,62,65,66,67,69) have mixed types.Specify dtype option on import or set low_memory=False.\n",
      "ipykernel_launcher:5: DtypeWarning: Columns (11,13,15,16,17,18,20,22,24,37,38,48,50,52,53,54,55,56,57,58,60,62,65,66,67,69) have mixed types.Specify dtype option on import or set low_memory=False.\n",
      "ipykernel_launcher:6: DtypeWarning: Columns (11,13,15,16,17,18,20,22,24,38,48,50,52,53,54,55,56,58,60,62,65,66,67,69) have mixed types.Specify dtype option on import or set low_memory=False.\n",
      "ipykernel_launcher:7: DtypeWarning: Columns (20,22) have mixed types.Specify dtype option on import or set low_memory=False.\n"
     ]
    }
   ],
   "source": [
    "uk = country_to_lsm(r\"C:\\Users\\gbjaudom\\LEGO\\WE eComm CoE Analytics Team - Documents\\Data\\daily_vc_data\\uk_2021_master_aba_vc_data.csv\")\n",
    "de = country_to_lsm(r\"C:\\Users\\gbjaudom\\LEGO\\WE eComm CoE Analytics Team - Documents\\Data\\daily_vc_data\\de_2021_master_aba_vc_data.csv\")\n",
    "fr = country_to_lsm(r\"C:\\Users\\gbjaudom\\LEGO\\WE eComm CoE Analytics Team - Documents\\Data\\daily_vc_data\\fr_2021_master_aba_vc_data.csv\")\n",
    "it = country_to_lsm(r\"C:\\Users\\gbjaudom\\LEGO\\WE eComm CoE Analytics Team - Documents\\Data\\daily_vc_data\\it_2021_master_aba_vc_data.csv\")\n",
    "nl = country_to_lsm(r\"C:\\Users\\gbjaudom\\LEGO\\WE eComm CoE Analytics Team - Documents\\Data\\daily_vc_data\\nl_2021_master_aba_vc_data.csv\")\n",
    "es = country_to_lsm(r\"C:\\Users\\gbjaudom\\LEGO\\WE eComm CoE Analytics Team - Documents\\Data\\daily_vc_data\\es_2021_master_aba_vc_data.csv\")\n",
    "se = country_to_lsm(r\"C:\\Users\\gbjaudom\\LEGO\\WE eComm CoE Analytics Team - Documents\\Data\\daily_vc_data\\se_2021_master_aba_vc_data.csv\")"
   ]
  },
  {
   "cell_type": "code",
   "execution_count": 12,
   "metadata": {},
   "outputs": [
    {
     "data": {
      "text/html": [
       "<div>\n",
       "<style scoped>\n",
       "    .dataframe tbody tr th:only-of-type {\n",
       "        vertical-align: middle;\n",
       "    }\n",
       "\n",
       "    .dataframe tbody tr th {\n",
       "        vertical-align: top;\n",
       "    }\n",
       "\n",
       "    .dataframe thead th {\n",
       "        text-align: right;\n",
       "    }\n",
       "</style>\n",
       "<table border=\"1\" class=\"dataframe\">\n",
       "  <thead>\n",
       "    <tr style=\"text-align: right;\">\n",
       "      <th></th>\n",
       "      <th>ASIN</th>\n",
       "      <th>Product Title</th>\n",
       "      <th>Ordered Revenue</th>\n",
       "      <th>Ordered Units</th>\n",
       "      <th>Average Sales Price</th>\n",
       "      <th>Glance Views</th>\n",
       "      <th>Conversion Rate</th>\n",
       "      <th>Country</th>\n",
       "      <th>Date</th>\n",
       "      <th>ID</th>\n",
       "      <th>material</th>\n",
       "      <th>communication_number</th>\n",
       "      <th>sioc_flag</th>\n",
       "      <th>name</th>\n",
       "      <th>top_theme</th>\n",
       "      <th>super_segment</th>\n",
       "      <th></th>\n",
       "      <th>rrp_lead_range_eur</th>\n",
       "      <th>price_range</th>\n",
       "    </tr>\n",
       "  </thead>\n",
       "  <tbody>\n",
       "    <tr>\n",
       "      <th>0</th>\n",
       "      <td>B082WDX6F8</td>\n",
       "      <td>LEGO 71371 Super Mario Propeller Power-Up Pack...</td>\n",
       "      <td>241.07314</td>\n",
       "      <td>28.0</td>\n",
       "      <td>NaN</td>\n",
       "      <td>158.0</td>\n",
       "      <td>0.177215</td>\n",
       "      <td>UK</td>\n",
       "      <td>01/01/2021</td>\n",
       "      <td>B082WDX6F8_UK_01/01/2021</td>\n",
       "      <td>6288931.0</td>\n",
       "      <td>71371.0</td>\n",
       "      <td>0.0</td>\n",
       "      <td>Propeller Mario Powe</td>\n",
       "      <td>SUPER MARIO</td>\n",
       "      <td>Boys</td>\n",
       "      <td>9.99</td>\n",
       "      <td>&lt;10 EUR</td>\n",
       "      <td>LPP</td>\n",
       "    </tr>\n",
       "    <tr>\n",
       "      <th>1</th>\n",
       "      <td>B082WDSG3W</td>\n",
       "      <td>LEGO 71365 Super Mario Piranha Plant Power Sli...</td>\n",
       "      <td>317.19303</td>\n",
       "      <td>14.0</td>\n",
       "      <td>NaN</td>\n",
       "      <td>218.0</td>\n",
       "      <td>0.06422</td>\n",
       "      <td>UK</td>\n",
       "      <td>01/01/2021</td>\n",
       "      <td>B082WDSG3W_UK_01/01/2021</td>\n",
       "      <td>6288919.0</td>\n",
       "      <td>71365.0</td>\n",
       "      <td>0.0</td>\n",
       "      <td>Piranha Plant Power</td>\n",
       "      <td>SUPER MARIO</td>\n",
       "      <td>Boys</td>\n",
       "      <td>29.99</td>\n",
       "      <td>&lt;50 EUR</td>\n",
       "      <td>LPP</td>\n",
       "    </tr>\n",
       "    <tr>\n",
       "      <th>2</th>\n",
       "      <td>B082WCVTVR</td>\n",
       "      <td>LEGO 71370 Super Mario Fire Power-Up Pack Expa...</td>\n",
       "      <td>258.29265</td>\n",
       "      <td>30.0</td>\n",
       "      <td>NaN</td>\n",
       "      <td>191.0</td>\n",
       "      <td>0.157068</td>\n",
       "      <td>UK</td>\n",
       "      <td>01/01/2021</td>\n",
       "      <td>B082WCVTVR_UK_01/01/2021</td>\n",
       "      <td>6288929.0</td>\n",
       "      <td>71370.0</td>\n",
       "      <td>0.0</td>\n",
       "      <td>Fire Mario Power-Up</td>\n",
       "      <td>SUPER MARIO</td>\n",
       "      <td>Boys</td>\n",
       "      <td>9.99</td>\n",
       "      <td>&lt;10 EUR</td>\n",
       "      <td>LPP</td>\n",
       "    </tr>\n",
       "    <tr>\n",
       "      <th>3</th>\n",
       "      <td>B082WDYKC2</td>\n",
       "      <td>LEGO 71373 Super Mario Builder Power-Up Pack E...</td>\n",
       "      <td>154.35486</td>\n",
       "      <td>18.0</td>\n",
       "      <td>NaN</td>\n",
       "      <td>102.0</td>\n",
       "      <td>0.176471</td>\n",
       "      <td>UK</td>\n",
       "      <td>01/01/2021</td>\n",
       "      <td>B082WDYKC2_UK_01/01/2021</td>\n",
       "      <td>6288935.0</td>\n",
       "      <td>71373.0</td>\n",
       "      <td>0.0</td>\n",
       "      <td>Builder Mario Power-</td>\n",
       "      <td>SUPER MARIO</td>\n",
       "      <td>Boys</td>\n",
       "      <td>9.99</td>\n",
       "      <td>&lt;10 EUR</td>\n",
       "      <td>LPP</td>\n",
       "    </tr>\n",
       "    <tr>\n",
       "      <th>4</th>\n",
       "      <td>B082WDBGMP</td>\n",
       "      <td>LEGO 71366 Super Mario Boomer Bill Barrage Exp...</td>\n",
       "      <td>547.52984</td>\n",
       "      <td>26.0</td>\n",
       "      <td>NaN</td>\n",
       "      <td>227.0</td>\n",
       "      <td>0.114537</td>\n",
       "      <td>UK</td>\n",
       "      <td>01/01/2021</td>\n",
       "      <td>B082WDBGMP_UK_01/01/2021</td>\n",
       "      <td>6288921.0</td>\n",
       "      <td>71366.0</td>\n",
       "      <td>0.0</td>\n",
       "      <td>Boomer Bill Barrage</td>\n",
       "      <td>SUPER MARIO</td>\n",
       "      <td>Boys</td>\n",
       "      <td>29.99</td>\n",
       "      <td>&lt;50 EUR</td>\n",
       "      <td>LPP</td>\n",
       "    </tr>\n",
       "    <tr>\n",
       "      <th>...</th>\n",
       "      <td>...</td>\n",
       "      <td>...</td>\n",
       "      <td>...</td>\n",
       "      <td>...</td>\n",
       "      <td>...</td>\n",
       "      <td>...</td>\n",
       "      <td>...</td>\n",
       "      <td>...</td>\n",
       "      <td>...</td>\n",
       "      <td>...</td>\n",
       "      <td>...</td>\n",
       "      <td>...</td>\n",
       "      <td>...</td>\n",
       "      <td>...</td>\n",
       "      <td>...</td>\n",
       "      <td>...</td>\n",
       "      <td>...</td>\n",
       "      <td>...</td>\n",
       "      <td>...</td>\n",
       "    </tr>\n",
       "    <tr>\n",
       "      <th>49263</th>\n",
       "      <td>B082WF8MVV</td>\n",
       "      <td>LEGO 71369 Super Mario Striden mot slottsbosse...</td>\n",
       "      <td>656.80000</td>\n",
       "      <td>1.0</td>\n",
       "      <td>NaN</td>\n",
       "      <td>28.0</td>\n",
       "      <td>0.03571428571428571</td>\n",
       "      <td>SE</td>\n",
       "      <td>07/11/2021</td>\n",
       "      <td>B082WF8MVV_SE_07/11/2021</td>\n",
       "      <td>6288927.0</td>\n",
       "      <td>71369.0</td>\n",
       "      <td>0.0</td>\n",
       "      <td>Bowser's Castle Boss</td>\n",
       "      <td>SUPER MARIO</td>\n",
       "      <td>Boys</td>\n",
       "      <td>99.99</td>\n",
       "      <td>&lt;150 EUR</td>\n",
       "      <td>HPP</td>\n",
       "    </tr>\n",
       "    <tr>\n",
       "      <th>49264</th>\n",
       "      <td>B082WF7Z4Q</td>\n",
       "      <td>LEGO 71362 Super Mario Bevakad fästning - Expa...</td>\n",
       "      <td>630.40000</td>\n",
       "      <td>2.0</td>\n",
       "      <td>NaN</td>\n",
       "      <td>24.0</td>\n",
       "      <td>0.08333333333333331</td>\n",
       "      <td>SE</td>\n",
       "      <td>07/11/2021</td>\n",
       "      <td>B082WF7Z4Q_SE_07/11/2021</td>\n",
       "      <td>6288913.0</td>\n",
       "      <td>71362.0</td>\n",
       "      <td>0.0</td>\n",
       "      <td>Guarded Fortress Exp</td>\n",
       "      <td>SUPER MARIO</td>\n",
       "      <td>Boys</td>\n",
       "      <td>49.99</td>\n",
       "      <td>&lt;50 EUR</td>\n",
       "      <td>LPP</td>\n",
       "    </tr>\n",
       "    <tr>\n",
       "      <th>49265</th>\n",
       "      <td>B08WWYRGD6</td>\n",
       "      <td>LEGO 71389 Super Mario Lakitus molnvärld – för...</td>\n",
       "      <td>499.35000</td>\n",
       "      <td>2.0</td>\n",
       "      <td>NaN</td>\n",
       "      <td>14.0</td>\n",
       "      <td>0.14285714285714285</td>\n",
       "      <td>SE</td>\n",
       "      <td>07/11/2021</td>\n",
       "      <td>B08WWYRGD6_SE_07/11/2021</td>\n",
       "      <td>6332719.0</td>\n",
       "      <td>71389.0</td>\n",
       "      <td>0.0</td>\n",
       "      <td>Lakitu Sky World Exp</td>\n",
       "      <td>SUPER MARIO</td>\n",
       "      <td>Boys</td>\n",
       "      <td>39.99</td>\n",
       "      <td>&lt;50 EUR</td>\n",
       "      <td>LPP</td>\n",
       "    </tr>\n",
       "    <tr>\n",
       "      <th>49266</th>\n",
       "      <td>B08WWQ43C8</td>\n",
       "      <td>LEGO 71392 Super Mario Frog Mario Power-Up Pac...</td>\n",
       "      <td>0.00000</td>\n",
       "      <td>0.0</td>\n",
       "      <td>NaN</td>\n",
       "      <td>0.0</td>\n",
       "      <td>—</td>\n",
       "      <td>SE</td>\n",
       "      <td>07/11/2021</td>\n",
       "      <td>B08WWQ43C8_SE_07/11/2021</td>\n",
       "      <td>6332727.0</td>\n",
       "      <td>71392.0</td>\n",
       "      <td>0.0</td>\n",
       "      <td>Frog Mario Power-Up</td>\n",
       "      <td>SUPER MARIO</td>\n",
       "      <td>Boys</td>\n",
       "      <td>9.99</td>\n",
       "      <td>&lt;10 EUR</td>\n",
       "      <td>LPP</td>\n",
       "    </tr>\n",
       "    <tr>\n",
       "      <th>49267</th>\n",
       "      <td>B08WWWW5WK</td>\n",
       "      <td>LEGO 71393 Super Mario Bee Mario Power-Up Pack...</td>\n",
       "      <td>-64.52000</td>\n",
       "      <td>-1.0</td>\n",
       "      <td>NaN</td>\n",
       "      <td>2.0</td>\n",
       "      <td>-0.5</td>\n",
       "      <td>SE</td>\n",
       "      <td>07/11/2021</td>\n",
       "      <td>B08WWWW5WK_SE_07/11/2021</td>\n",
       "      <td>6332729.0</td>\n",
       "      <td>71393.0</td>\n",
       "      <td>0.0</td>\n",
       "      <td>Bee Mario Power-Up P</td>\n",
       "      <td>SUPER MARIO</td>\n",
       "      <td>Boys</td>\n",
       "      <td>9.99</td>\n",
       "      <td>&lt;10 EUR</td>\n",
       "      <td>LPP</td>\n",
       "    </tr>\n",
       "  </tbody>\n",
       "</table>\n",
       "<p>49268 rows × 19 columns</p>\n",
       "</div>"
      ],
      "text/plain": [
       "             ASIN                                      Product Title  \\\n",
       "0      B082WDX6F8  LEGO 71371 Super Mario Propeller Power-Up Pack...   \n",
       "1      B082WDSG3W  LEGO 71365 Super Mario Piranha Plant Power Sli...   \n",
       "2      B082WCVTVR  LEGO 71370 Super Mario Fire Power-Up Pack Expa...   \n",
       "3      B082WDYKC2  LEGO 71373 Super Mario Builder Power-Up Pack E...   \n",
       "4      B082WDBGMP  LEGO 71366 Super Mario Boomer Bill Barrage Exp...   \n",
       "...           ...                                                ...   \n",
       "49263  B082WF8MVV  LEGO 71369 Super Mario Striden mot slottsbosse...   \n",
       "49264  B082WF7Z4Q  LEGO 71362 Super Mario Bevakad fästning - Expa...   \n",
       "49265  B08WWYRGD6  LEGO 71389 Super Mario Lakitus molnvärld – för...   \n",
       "49266  B08WWQ43C8  LEGO 71392 Super Mario Frog Mario Power-Up Pac...   \n",
       "49267  B08WWWW5WK  LEGO 71393 Super Mario Bee Mario Power-Up Pack...   \n",
       "\n",
       "       Ordered Revenue  Ordered Units Average Sales Price  Glance Views  \\\n",
       "0            241.07314           28.0                 NaN         158.0   \n",
       "1            317.19303           14.0                 NaN         218.0   \n",
       "2            258.29265           30.0                 NaN         191.0   \n",
       "3            154.35486           18.0                 NaN         102.0   \n",
       "4            547.52984           26.0                 NaN         227.0   \n",
       "...                ...            ...                 ...           ...   \n",
       "49263        656.80000            1.0                 NaN          28.0   \n",
       "49264        630.40000            2.0                 NaN          24.0   \n",
       "49265        499.35000            2.0                 NaN          14.0   \n",
       "49266          0.00000            0.0                 NaN           0.0   \n",
       "49267        -64.52000           -1.0                 NaN           2.0   \n",
       "\n",
       "           Conversion Rate Country        Date                        ID  \\\n",
       "0                 0.177215      UK  01/01/2021  B082WDX6F8_UK_01/01/2021   \n",
       "1                  0.06422      UK  01/01/2021  B082WDSG3W_UK_01/01/2021   \n",
       "2                 0.157068      UK  01/01/2021  B082WCVTVR_UK_01/01/2021   \n",
       "3                 0.176471      UK  01/01/2021  B082WDYKC2_UK_01/01/2021   \n",
       "4                 0.114537      UK  01/01/2021  B082WDBGMP_UK_01/01/2021   \n",
       "...                    ...     ...         ...                       ...   \n",
       "49263  0.03571428571428571      SE  07/11/2021  B082WF8MVV_SE_07/11/2021   \n",
       "49264  0.08333333333333331      SE  07/11/2021  B082WF7Z4Q_SE_07/11/2021   \n",
       "49265  0.14285714285714285      SE  07/11/2021  B08WWYRGD6_SE_07/11/2021   \n",
       "49266                    —      SE  07/11/2021  B08WWQ43C8_SE_07/11/2021   \n",
       "49267                 -0.5      SE  07/11/2021  B08WWWW5WK_SE_07/11/2021   \n",
       "\n",
       "        material  communication_number  sioc_flag                  name  \\\n",
       "0      6288931.0               71371.0        0.0  Propeller Mario Powe   \n",
       "1      6288919.0               71365.0        0.0   Piranha Plant Power   \n",
       "2      6288929.0               71370.0        0.0   Fire Mario Power-Up   \n",
       "3      6288935.0               71373.0        0.0  Builder Mario Power-   \n",
       "4      6288921.0               71366.0        0.0   Boomer Bill Barrage   \n",
       "...          ...                   ...        ...                   ...   \n",
       "49263  6288927.0               71369.0        0.0  Bowser's Castle Boss   \n",
       "49264  6288913.0               71362.0        0.0  Guarded Fortress Exp   \n",
       "49265  6332719.0               71389.0        0.0  Lakitu Sky World Exp   \n",
       "49266  6332727.0               71392.0        0.0   Frog Mario Power-Up   \n",
       "49267  6332729.0               71393.0        0.0  Bee Mario Power-Up P   \n",
       "\n",
       "         top_theme super_segment        rrp_lead_range_eur price_range  \n",
       "0      SUPER MARIO          Boys   9.99            <10 EUR         LPP  \n",
       "1      SUPER MARIO          Boys  29.99            <50 EUR         LPP  \n",
       "2      SUPER MARIO          Boys   9.99            <10 EUR         LPP  \n",
       "3      SUPER MARIO          Boys   9.99            <10 EUR         LPP  \n",
       "4      SUPER MARIO          Boys  29.99            <50 EUR         LPP  \n",
       "...            ...           ...    ...                ...         ...  \n",
       "49263  SUPER MARIO          Boys  99.99           <150 EUR         HPP  \n",
       "49264  SUPER MARIO          Boys  49.99            <50 EUR         LPP  \n",
       "49265  SUPER MARIO          Boys  39.99            <50 EUR         LPP  \n",
       "49266  SUPER MARIO          Boys   9.99            <10 EUR         LPP  \n",
       "49267  SUPER MARIO          Boys   9.99            <10 EUR         LPP  \n",
       "\n",
       "[49268 rows x 19 columns]"
      ]
     },
     "execution_count": 12,
     "metadata": {},
     "output_type": "execute_result"
    }
   ],
   "source": [
    "data_2021 = pd.concat([uk, de, es, fr, it, nl, se]).reset_index(drop=True)\n",
    "data_2021"
   ]
  },
  {
   "cell_type": "code",
   "execution_count": 15,
   "metadata": {},
   "outputs": [],
   "source": [
    "data_2020 = pd.read_csv(r\"C:\\Users\\gbjaudom\\Onedrive - LEGO\\Documents\\python_projects\\miscellaneous\\data\\processed\\2020_aug_dec_daily_gv_cvr_or.csv\", index_col=0)\n",
    "lookup = pd.read_excel(r\"C:\\Users\\gbjaudom\\LEGO\\WE eComm CoE Analytics Team - Documents\\Data\\Reference docs\\ASIN Lookup full.xlsx\", sheet_name=\"Sheet1\")\n",
    "lookup.rename(columns={'Material':'material', \"Comms\":\"communication_number\", \"SIOC flag\":\"sioc_flag\", \"Title\":\"name\", \"Theme\": \"top_theme\", \"Super Segment(Curr)\": \"super_segment\", \"RRP Lead EUR\":\"\", \"RRP Lead Range EUR\": \"rrp_lead_range_eur\", \"Price Range\": \"price_range\"}, inplace=True)\n",
    "data_2020 = data_2020.merge(lookup, how=\"left\")\n",
    "data_2020 = data_2020[data_2020[\"top_theme\"] == \"SUPER MARIO\"]\n"
   ]
  },
  {
   "cell_type": "code",
   "execution_count": 18,
   "metadata": {},
   "outputs": [],
   "source": [
    "final_df = pd.concat([data_2020, data_2021]).reset_index(drop=True)"
   ]
  },
  {
   "cell_type": "code",
   "execution_count": 19,
   "metadata": {},
   "outputs": [],
   "source": [
    "final_df.to_csv(r\"C:\\Users\\gbjaudom\\Onedrive - LEGO\\Documents\\python_projects\\miscellaneous\\data\\processed\\2020_aug_2021_nov_gv_cvr_or.csv\")"
   ]
  },
  {
   "cell_type": "code",
   "execution_count": null,
   "metadata": {},
   "outputs": [],
   "source": []
  },
  {
   "cell_type": "markdown",
   "metadata": {},
   "source": [
    "## Daily to Weekly/Monthly"
   ]
  },
  {
   "cell_type": "code",
   "execution_count": 3,
   "metadata": {},
   "outputs": [],
   "source": [
    "import pandas as pd\n",
    "\n",
    "final_df = pd.read_csv(r\"C:\\Users\\gbjaudom\\Onedrive - LEGO\\Documents\\python_projects\\miscellaneous\\data\\processed\\2020_aug_2021_nov_gv_cvr_or.csv\", index_col=0)"
   ]
  },
  {
   "cell_type": "code",
   "execution_count": 6,
   "metadata": {},
   "outputs": [],
   "source": [
    "final_df = final_df[final_df[\"Country\"] != \"SE\"]\n"
   ]
  },
  {
   "cell_type": "code",
   "execution_count": 7,
   "metadata": {},
   "outputs": [
    {
     "name": "stderr",
     "output_type": "stream",
     "text": [
      "ipykernel_launcher:2: FutureWarning: Series.dt.weekofyear and Series.dt.week have been deprecated.  Please use Series.dt.isocalendar().week instead.\n"
     ]
    },
    {
     "data": {
      "text/html": [
       "<div>\n",
       "<style scoped>\n",
       "    .dataframe tbody tr th:only-of-type {\n",
       "        vertical-align: middle;\n",
       "    }\n",
       "\n",
       "    .dataframe tbody tr th {\n",
       "        vertical-align: top;\n",
       "    }\n",
       "\n",
       "    .dataframe thead th {\n",
       "        text-align: right;\n",
       "    }\n",
       "</style>\n",
       "<table border=\"1\" class=\"dataframe\">\n",
       "  <thead>\n",
       "    <tr style=\"text-align: right;\">\n",
       "      <th></th>\n",
       "      <th>ASIN</th>\n",
       "      <th>Product Title</th>\n",
       "      <th>Ordered Revenue</th>\n",
       "      <th>Ordered Units</th>\n",
       "      <th>Average Sales Price</th>\n",
       "      <th>Glance Views</th>\n",
       "      <th>Conversion Rate</th>\n",
       "      <th>Country</th>\n",
       "      <th>Date</th>\n",
       "      <th>ID</th>\n",
       "      <th>...</th>\n",
       "      <th>sioc_flag</th>\n",
       "      <th>name</th>\n",
       "      <th>top_theme</th>\n",
       "      <th>super_segment</th>\n",
       "      <th>Unnamed: 17</th>\n",
       "      <th>rrp_lead_range_eur</th>\n",
       "      <th>price_range</th>\n",
       "      <th>week</th>\n",
       "      <th>month</th>\n",
       "      <th>year</th>\n",
       "    </tr>\n",
       "  </thead>\n",
       "  <tbody>\n",
       "    <tr>\n",
       "      <th>0</th>\n",
       "      <td>B082WDQHZQ</td>\n",
       "      <td>LEGO 71360 Super Mario Abenteuer mit Mario – S...</td>\n",
       "      <td>37998.37</td>\n",
       "      <td>938</td>\n",
       "      <td>40.509989</td>\n",
       "      <td>29410.0</td>\n",
       "      <td>0.031894</td>\n",
       "      <td>DE</td>\n",
       "      <td>2020-08-01</td>\n",
       "      <td>B082WDQHZQ_DE_01/08/2020</td>\n",
       "      <td>...</td>\n",
       "      <td>0</td>\n",
       "      <td>Adventures with Mari</td>\n",
       "      <td>SUPER MARIO</td>\n",
       "      <td>Boys</td>\n",
       "      <td>59.99</td>\n",
       "      <td>&lt;80 EUR</td>\n",
       "      <td>MPP</td>\n",
       "      <td>31</td>\n",
       "      <td>8</td>\n",
       "      <td>2020</td>\n",
       "    </tr>\n",
       "    <tr>\n",
       "      <th>1</th>\n",
       "      <td>B082WF8MVV</td>\n",
       "      <td>LEGO 71369 Super Mario Bowsers Festung – Erwei...</td>\n",
       "      <td>9123.23</td>\n",
       "      <td>109</td>\n",
       "      <td>83.699358</td>\n",
       "      <td>6049.0</td>\n",
       "      <td>0.018020</td>\n",
       "      <td>DE</td>\n",
       "      <td>2020-08-01</td>\n",
       "      <td>B082WF8MVV_DE_01/08/2020</td>\n",
       "      <td>...</td>\n",
       "      <td>0</td>\n",
       "      <td>Bowser's Castle Boss</td>\n",
       "      <td>SUPER MARIO</td>\n",
       "      <td>Boys</td>\n",
       "      <td>99.99</td>\n",
       "      <td>&lt;150 EUR</td>\n",
       "      <td>HPP</td>\n",
       "      <td>31</td>\n",
       "      <td>8</td>\n",
       "      <td>2020</td>\n",
       "    </tr>\n",
       "    <tr>\n",
       "      <th>2</th>\n",
       "      <td>B082WF8MB5</td>\n",
       "      <td>LEGO 71367 Super Mario Marios Haus und Yoshi –...</td>\n",
       "      <td>5348.33</td>\n",
       "      <td>216</td>\n",
       "      <td>24.760787</td>\n",
       "      <td>4500.0</td>\n",
       "      <td>0.048000</td>\n",
       "      <td>DE</td>\n",
       "      <td>2020-08-01</td>\n",
       "      <td>B082WF8MB5_DE_01/08/2020</td>\n",
       "      <td>...</td>\n",
       "      <td>0</td>\n",
       "      <td>Mario's House &amp; Yosh</td>\n",
       "      <td>SUPER MARIO</td>\n",
       "      <td>Boys</td>\n",
       "      <td>29.99</td>\n",
       "      <td>&lt;50 EUR</td>\n",
       "      <td>LPP</td>\n",
       "      <td>31</td>\n",
       "      <td>8</td>\n",
       "      <td>2020</td>\n",
       "    </tr>\n",
       "    <tr>\n",
       "      <th>3</th>\n",
       "      <td>B082WF7Z4Q</td>\n",
       "      <td>LEGO 71362 Super Mario Bewachte Festung – Erwe...</td>\n",
       "      <td>3360.80</td>\n",
       "      <td>80</td>\n",
       "      <td>42.010000</td>\n",
       "      <td>5529.0</td>\n",
       "      <td>0.014469</td>\n",
       "      <td>DE</td>\n",
       "      <td>2020-08-01</td>\n",
       "      <td>B082WF7Z4Q_DE_01/08/2020</td>\n",
       "      <td>...</td>\n",
       "      <td>0</td>\n",
       "      <td>Guarded Fortress Exp</td>\n",
       "      <td>SUPER MARIO</td>\n",
       "      <td>Boys</td>\n",
       "      <td>49.99</td>\n",
       "      <td>&lt;50 EUR</td>\n",
       "      <td>LPP</td>\n",
       "      <td>31</td>\n",
       "      <td>8</td>\n",
       "      <td>2020</td>\n",
       "    </tr>\n",
       "    <tr>\n",
       "      <th>4</th>\n",
       "      <td>B082WDZM4T</td>\n",
       "      <td>LEGO 71368 Super Mario Toads Schatzsuche – Erw...</td>\n",
       "      <td>2661.91</td>\n",
       "      <td>40</td>\n",
       "      <td>66.547750</td>\n",
       "      <td>2233.0</td>\n",
       "      <td>0.017913</td>\n",
       "      <td>DE</td>\n",
       "      <td>2020-08-01</td>\n",
       "      <td>B082WDZM4T_DE_01/08/2020</td>\n",
       "      <td>...</td>\n",
       "      <td>0</td>\n",
       "      <td>Toad's Treasure Hunt</td>\n",
       "      <td>SUPER MARIO</td>\n",
       "      <td>Boys</td>\n",
       "      <td>79.99</td>\n",
       "      <td>&lt;80 EUR</td>\n",
       "      <td>MPP</td>\n",
       "      <td>31</td>\n",
       "      <td>8</td>\n",
       "      <td>2020</td>\n",
       "    </tr>\n",
       "  </tbody>\n",
       "</table>\n",
       "<p>5 rows × 22 columns</p>\n",
       "</div>"
      ],
      "text/plain": [
       "         ASIN                                      Product Title  \\\n",
       "0  B082WDQHZQ  LEGO 71360 Super Mario Abenteuer mit Mario – S...   \n",
       "1  B082WF8MVV  LEGO 71369 Super Mario Bowsers Festung – Erwei...   \n",
       "2  B082WF8MB5  LEGO 71367 Super Mario Marios Haus und Yoshi –...   \n",
       "3  B082WF7Z4Q  LEGO 71362 Super Mario Bewachte Festung – Erwe...   \n",
       "4  B082WDZM4T  LEGO 71368 Super Mario Toads Schatzsuche – Erw...   \n",
       "\n",
       "   Ordered Revenue  Ordered Units  Average Sales Price  Glance Views  \\\n",
       "0         37998.37            938            40.509989       29410.0   \n",
       "1          9123.23            109            83.699358        6049.0   \n",
       "2          5348.33            216            24.760787        4500.0   \n",
       "3          3360.80             80            42.010000        5529.0   \n",
       "4          2661.91             40            66.547750        2233.0   \n",
       "\n",
       "   Conversion Rate Country       Date                        ID  ...  \\\n",
       "0         0.031894      DE 2020-08-01  B082WDQHZQ_DE_01/08/2020  ...   \n",
       "1         0.018020      DE 2020-08-01  B082WF8MVV_DE_01/08/2020  ...   \n",
       "2         0.048000      DE 2020-08-01  B082WF8MB5_DE_01/08/2020  ...   \n",
       "3         0.014469      DE 2020-08-01  B082WF7Z4Q_DE_01/08/2020  ...   \n",
       "4         0.017913      DE 2020-08-01  B082WDZM4T_DE_01/08/2020  ...   \n",
       "\n",
       "   sioc_flag                  name    top_theme super_segment Unnamed: 17  \\\n",
       "0          0  Adventures with Mari  SUPER MARIO          Boys       59.99   \n",
       "1          0  Bowser's Castle Boss  SUPER MARIO          Boys       99.99   \n",
       "2          0  Mario's House & Yosh  SUPER MARIO          Boys       29.99   \n",
       "3          0  Guarded Fortress Exp  SUPER MARIO          Boys       49.99   \n",
       "4          0  Toad's Treasure Hunt  SUPER MARIO          Boys       79.99   \n",
       "\n",
       "  rrp_lead_range_eur  price_range week month  year  \n",
       "0            <80 EUR          MPP   31     8  2020  \n",
       "1           <150 EUR          HPP   31     8  2020  \n",
       "2            <50 EUR          LPP   31     8  2020  \n",
       "3            <50 EUR          LPP   31     8  2020  \n",
       "4            <80 EUR          MPP   31     8  2020  \n",
       "\n",
       "[5 rows x 22 columns]"
      ]
     },
     "execution_count": 7,
     "metadata": {},
     "output_type": "execute_result"
    }
   ],
   "source": [
    "final_df[\"Date\"] = pd.to_datetime(final_df[\"Date\"], dayfirst=True)\n",
    "final_df[\"week\"] = final_df[\"Date\"].dt.week\n",
    "final_df[\"month\"] = final_df[\"Date\"].dt.month\n",
    "final_df[\"year\"] = final_df[\"Date\"].dt.year\n",
    "final_df.head()"
   ]
  },
  {
   "cell_type": "code",
   "execution_count": 8,
   "metadata": {},
   "outputs": [
    {
     "data": {
      "text/html": [
       "<div>\n",
       "<style scoped>\n",
       "    .dataframe tbody tr th:only-of-type {\n",
       "        vertical-align: middle;\n",
       "    }\n",
       "\n",
       "    .dataframe tbody tr th {\n",
       "        vertical-align: top;\n",
       "    }\n",
       "\n",
       "    .dataframe thead th {\n",
       "        text-align: right;\n",
       "    }\n",
       "</style>\n",
       "<table border=\"1\" class=\"dataframe\">\n",
       "  <thead>\n",
       "    <tr style=\"text-align: right;\">\n",
       "      <th></th>\n",
       "      <th></th>\n",
       "      <th>ASIN</th>\n",
       "      <th>Product Title</th>\n",
       "      <th>Ordered Revenue</th>\n",
       "      <th>Ordered Units</th>\n",
       "      <th>Average Sales Price</th>\n",
       "      <th>Glance Views</th>\n",
       "      <th>Conversion Rate</th>\n",
       "      <th>Country</th>\n",
       "      <th>Date</th>\n",
       "      <th>ID</th>\n",
       "      <th>...</th>\n",
       "      <th>communication_number</th>\n",
       "      <th>sioc_flag</th>\n",
       "      <th>name</th>\n",
       "      <th>top_theme</th>\n",
       "      <th>super_segment</th>\n",
       "      <th>Unnamed: 17</th>\n",
       "      <th>rrp_lead_range_eur</th>\n",
       "      <th>price_range</th>\n",
       "      <th>week</th>\n",
       "      <th>ASP</th>\n",
       "    </tr>\n",
       "    <tr>\n",
       "      <th>year</th>\n",
       "      <th>month</th>\n",
       "      <th></th>\n",
       "      <th></th>\n",
       "      <th></th>\n",
       "      <th></th>\n",
       "      <th></th>\n",
       "      <th></th>\n",
       "      <th></th>\n",
       "      <th></th>\n",
       "      <th></th>\n",
       "      <th></th>\n",
       "      <th></th>\n",
       "      <th></th>\n",
       "      <th></th>\n",
       "      <th></th>\n",
       "      <th></th>\n",
       "      <th></th>\n",
       "      <th></th>\n",
       "      <th></th>\n",
       "      <th></th>\n",
       "      <th></th>\n",
       "      <th></th>\n",
       "    </tr>\n",
       "  </thead>\n",
       "  <tbody>\n",
       "    <tr>\n",
       "      <th rowspan=\"5\" valign=\"top\">2020</th>\n",
       "      <th>8</th>\n",
       "      <td>2460</td>\n",
       "      <td>2460</td>\n",
       "      <td>2460</td>\n",
       "      <td>2460</td>\n",
       "      <td>2278</td>\n",
       "      <td>2460</td>\n",
       "      <td>2344</td>\n",
       "      <td>2460</td>\n",
       "      <td>2460</td>\n",
       "      <td>2460</td>\n",
       "      <td>...</td>\n",
       "      <td>2460</td>\n",
       "      <td>2460</td>\n",
       "      <td>2460</td>\n",
       "      <td>2460</td>\n",
       "      <td>2460</td>\n",
       "      <td>2460</td>\n",
       "      <td>2460</td>\n",
       "      <td>2460</td>\n",
       "      <td>2460</td>\n",
       "      <td>2281</td>\n",
       "    </tr>\n",
       "    <tr>\n",
       "      <th>9</th>\n",
       "      <td>2492</td>\n",
       "      <td>2492</td>\n",
       "      <td>2492</td>\n",
       "      <td>2492</td>\n",
       "      <td>2273</td>\n",
       "      <td>2492</td>\n",
       "      <td>2344</td>\n",
       "      <td>2492</td>\n",
       "      <td>2492</td>\n",
       "      <td>2492</td>\n",
       "      <td>...</td>\n",
       "      <td>2492</td>\n",
       "      <td>2492</td>\n",
       "      <td>2492</td>\n",
       "      <td>2492</td>\n",
       "      <td>2492</td>\n",
       "      <td>2492</td>\n",
       "      <td>2492</td>\n",
       "      <td>2492</td>\n",
       "      <td>2492</td>\n",
       "      <td>2276</td>\n",
       "    </tr>\n",
       "    <tr>\n",
       "      <th>10</th>\n",
       "      <td>5122</td>\n",
       "      <td>5122</td>\n",
       "      <td>5122</td>\n",
       "      <td>5122</td>\n",
       "      <td>4705</td>\n",
       "      <td>5122</td>\n",
       "      <td>4769</td>\n",
       "      <td>5122</td>\n",
       "      <td>5122</td>\n",
       "      <td>5122</td>\n",
       "      <td>...</td>\n",
       "      <td>5122</td>\n",
       "      <td>5122</td>\n",
       "      <td>5122</td>\n",
       "      <td>5122</td>\n",
       "      <td>5122</td>\n",
       "      <td>5122</td>\n",
       "      <td>5122</td>\n",
       "      <td>5122</td>\n",
       "      <td>5122</td>\n",
       "      <td>4709</td>\n",
       "    </tr>\n",
       "    <tr>\n",
       "      <th>11</th>\n",
       "      <td>4984</td>\n",
       "      <td>4984</td>\n",
       "      <td>4984</td>\n",
       "      <td>4984</td>\n",
       "      <td>4410</td>\n",
       "      <td>4984</td>\n",
       "      <td>4360</td>\n",
       "      <td>4984</td>\n",
       "      <td>4984</td>\n",
       "      <td>4984</td>\n",
       "      <td>...</td>\n",
       "      <td>4984</td>\n",
       "      <td>4984</td>\n",
       "      <td>4984</td>\n",
       "      <td>4984</td>\n",
       "      <td>4984</td>\n",
       "      <td>4984</td>\n",
       "      <td>4984</td>\n",
       "      <td>4984</td>\n",
       "      <td>4984</td>\n",
       "      <td>4420</td>\n",
       "    </tr>\n",
       "    <tr>\n",
       "      <th>12</th>\n",
       "      <td>5530</td>\n",
       "      <td>5530</td>\n",
       "      <td>5530</td>\n",
       "      <td>5530</td>\n",
       "      <td>4314</td>\n",
       "      <td>5508</td>\n",
       "      <td>4390</td>\n",
       "      <td>5530</td>\n",
       "      <td>5530</td>\n",
       "      <td>5530</td>\n",
       "      <td>...</td>\n",
       "      <td>5530</td>\n",
       "      <td>5530</td>\n",
       "      <td>5530</td>\n",
       "      <td>5530</td>\n",
       "      <td>5530</td>\n",
       "      <td>5530</td>\n",
       "      <td>5530</td>\n",
       "      <td>5530</td>\n",
       "      <td>5530</td>\n",
       "      <td>4340</td>\n",
       "    </tr>\n",
       "    <tr>\n",
       "      <th rowspan=\"11\" valign=\"top\">2021</th>\n",
       "      <th>1</th>\n",
       "      <td>3875</td>\n",
       "      <td>3239</td>\n",
       "      <td>3875</td>\n",
       "      <td>3875</td>\n",
       "      <td>0</td>\n",
       "      <td>3875</td>\n",
       "      <td>3465</td>\n",
       "      <td>3875</td>\n",
       "      <td>3875</td>\n",
       "      <td>3875</td>\n",
       "      <td>...</td>\n",
       "      <td>3875</td>\n",
       "      <td>3875</td>\n",
       "      <td>3875</td>\n",
       "      <td>3875</td>\n",
       "      <td>3875</td>\n",
       "      <td>3875</td>\n",
       "      <td>3875</td>\n",
       "      <td>3875</td>\n",
       "      <td>3875</td>\n",
       "      <td>3336</td>\n",
       "    </tr>\n",
       "    <tr>\n",
       "      <th>2</th>\n",
       "      <td>3436</td>\n",
       "      <td>2852</td>\n",
       "      <td>3436</td>\n",
       "      <td>3436</td>\n",
       "      <td>0</td>\n",
       "      <td>3436</td>\n",
       "      <td>3141</td>\n",
       "      <td>3436</td>\n",
       "      <td>3436</td>\n",
       "      <td>3436</td>\n",
       "      <td>...</td>\n",
       "      <td>3436</td>\n",
       "      <td>3436</td>\n",
       "      <td>3436</td>\n",
       "      <td>3436</td>\n",
       "      <td>3436</td>\n",
       "      <td>3436</td>\n",
       "      <td>3436</td>\n",
       "      <td>3436</td>\n",
       "      <td>3436</td>\n",
       "      <td>3088</td>\n",
       "    </tr>\n",
       "    <tr>\n",
       "      <th>3</th>\n",
       "      <td>3631</td>\n",
       "      <td>2994</td>\n",
       "      <td>3631</td>\n",
       "      <td>3631</td>\n",
       "      <td>0</td>\n",
       "      <td>3631</td>\n",
       "      <td>3196</td>\n",
       "      <td>3631</td>\n",
       "      <td>3631</td>\n",
       "      <td>3631</td>\n",
       "      <td>...</td>\n",
       "      <td>3631</td>\n",
       "      <td>3631</td>\n",
       "      <td>3631</td>\n",
       "      <td>3631</td>\n",
       "      <td>3631</td>\n",
       "      <td>3631</td>\n",
       "      <td>3631</td>\n",
       "      <td>3631</td>\n",
       "      <td>3631</td>\n",
       "      <td>3129</td>\n",
       "    </tr>\n",
       "    <tr>\n",
       "      <th>4</th>\n",
       "      <td>3511</td>\n",
       "      <td>2914</td>\n",
       "      <td>3511</td>\n",
       "      <td>3511</td>\n",
       "      <td>0</td>\n",
       "      <td>3511</td>\n",
       "      <td>2930</td>\n",
       "      <td>3511</td>\n",
       "      <td>3511</td>\n",
       "      <td>3511</td>\n",
       "      <td>...</td>\n",
       "      <td>3511</td>\n",
       "      <td>3511</td>\n",
       "      <td>3511</td>\n",
       "      <td>3511</td>\n",
       "      <td>3511</td>\n",
       "      <td>3511</td>\n",
       "      <td>3511</td>\n",
       "      <td>3511</td>\n",
       "      <td>3511</td>\n",
       "      <td>2806</td>\n",
       "    </tr>\n",
       "    <tr>\n",
       "      <th>5</th>\n",
       "      <td>3744</td>\n",
       "      <td>3098</td>\n",
       "      <td>3744</td>\n",
       "      <td>3744</td>\n",
       "      <td>0</td>\n",
       "      <td>3744</td>\n",
       "      <td>2953</td>\n",
       "      <td>3744</td>\n",
       "      <td>3744</td>\n",
       "      <td>3744</td>\n",
       "      <td>...</td>\n",
       "      <td>3744</td>\n",
       "      <td>3744</td>\n",
       "      <td>3744</td>\n",
       "      <td>3744</td>\n",
       "      <td>3744</td>\n",
       "      <td>3744</td>\n",
       "      <td>3744</td>\n",
       "      <td>3744</td>\n",
       "      <td>3744</td>\n",
       "      <td>2821</td>\n",
       "    </tr>\n",
       "    <tr>\n",
       "      <th>6</th>\n",
       "      <td>3308</td>\n",
       "      <td>2720</td>\n",
       "      <td>3308</td>\n",
       "      <td>3308</td>\n",
       "      <td>0</td>\n",
       "      <td>3308</td>\n",
       "      <td>2695</td>\n",
       "      <td>3308</td>\n",
       "      <td>3308</td>\n",
       "      <td>3308</td>\n",
       "      <td>...</td>\n",
       "      <td>3308</td>\n",
       "      <td>3308</td>\n",
       "      <td>3308</td>\n",
       "      <td>3308</td>\n",
       "      <td>3308</td>\n",
       "      <td>3308</td>\n",
       "      <td>3308</td>\n",
       "      <td>3308</td>\n",
       "      <td>3308</td>\n",
       "      <td>2583</td>\n",
       "    </tr>\n",
       "    <tr>\n",
       "      <th>7</th>\n",
       "      <td>3860</td>\n",
       "      <td>3229</td>\n",
       "      <td>3860</td>\n",
       "      <td>3860</td>\n",
       "      <td>0</td>\n",
       "      <td>3860</td>\n",
       "      <td>3184</td>\n",
       "      <td>3860</td>\n",
       "      <td>3860</td>\n",
       "      <td>3860</td>\n",
       "      <td>...</td>\n",
       "      <td>3860</td>\n",
       "      <td>3860</td>\n",
       "      <td>3860</td>\n",
       "      <td>3860</td>\n",
       "      <td>3860</td>\n",
       "      <td>3860</td>\n",
       "      <td>3860</td>\n",
       "      <td>3860</td>\n",
       "      <td>3860</td>\n",
       "      <td>3055</td>\n",
       "    </tr>\n",
       "    <tr>\n",
       "      <th>8</th>\n",
       "      <td>5036</td>\n",
       "      <td>5036</td>\n",
       "      <td>5036</td>\n",
       "      <td>5036</td>\n",
       "      <td>2021</td>\n",
       "      <td>5035</td>\n",
       "      <td>3953</td>\n",
       "      <td>5036</td>\n",
       "      <td>5036</td>\n",
       "      <td>5036</td>\n",
       "      <td>...</td>\n",
       "      <td>5036</td>\n",
       "      <td>5036</td>\n",
       "      <td>5036</td>\n",
       "      <td>5036</td>\n",
       "      <td>5036</td>\n",
       "      <td>5036</td>\n",
       "      <td>5036</td>\n",
       "      <td>5036</td>\n",
       "      <td>5036</td>\n",
       "      <td>3715</td>\n",
       "    </tr>\n",
       "    <tr>\n",
       "      <th>9</th>\n",
       "      <td>4989</td>\n",
       "      <td>4989</td>\n",
       "      <td>4989</td>\n",
       "      <td>4989</td>\n",
       "      <td>0</td>\n",
       "      <td>4989</td>\n",
       "      <td>3747</td>\n",
       "      <td>4989</td>\n",
       "      <td>4989</td>\n",
       "      <td>4989</td>\n",
       "      <td>...</td>\n",
       "      <td>4989</td>\n",
       "      <td>4989</td>\n",
       "      <td>4989</td>\n",
       "      <td>4989</td>\n",
       "      <td>4989</td>\n",
       "      <td>4989</td>\n",
       "      <td>4989</td>\n",
       "      <td>4989</td>\n",
       "      <td>4989</td>\n",
       "      <td>3513</td>\n",
       "    </tr>\n",
       "    <tr>\n",
       "      <th>10</th>\n",
       "      <td>5218</td>\n",
       "      <td>5218</td>\n",
       "      <td>5218</td>\n",
       "      <td>5218</td>\n",
       "      <td>0</td>\n",
       "      <td>5218</td>\n",
       "      <td>3922</td>\n",
       "      <td>5218</td>\n",
       "      <td>5218</td>\n",
       "      <td>5218</td>\n",
       "      <td>...</td>\n",
       "      <td>5218</td>\n",
       "      <td>5218</td>\n",
       "      <td>5218</td>\n",
       "      <td>5218</td>\n",
       "      <td>5218</td>\n",
       "      <td>5218</td>\n",
       "      <td>5218</td>\n",
       "      <td>5218</td>\n",
       "      <td>5218</td>\n",
       "      <td>3758</td>\n",
       "    </tr>\n",
       "    <tr>\n",
       "      <th>11</th>\n",
       "      <td>509</td>\n",
       "      <td>509</td>\n",
       "      <td>509</td>\n",
       "      <td>509</td>\n",
       "      <td>0</td>\n",
       "      <td>509</td>\n",
       "      <td>383</td>\n",
       "      <td>509</td>\n",
       "      <td>509</td>\n",
       "      <td>509</td>\n",
       "      <td>...</td>\n",
       "      <td>509</td>\n",
       "      <td>509</td>\n",
       "      <td>509</td>\n",
       "      <td>509</td>\n",
       "      <td>509</td>\n",
       "      <td>509</td>\n",
       "      <td>509</td>\n",
       "      <td>509</td>\n",
       "      <td>509</td>\n",
       "      <td>377</td>\n",
       "    </tr>\n",
       "  </tbody>\n",
       "</table>\n",
       "<p>16 rows × 21 columns</p>\n",
       "</div>"
      ],
      "text/plain": [
       "            ASIN  Product Title  Ordered Revenue  Ordered Units  \\\n",
       "year month                                                        \n",
       "2020 8      2460           2460             2460           2460   \n",
       "     9      2492           2492             2492           2492   \n",
       "     10     5122           5122             5122           5122   \n",
       "     11     4984           4984             4984           4984   \n",
       "     12     5530           5530             5530           5530   \n",
       "2021 1      3875           3239             3875           3875   \n",
       "     2      3436           2852             3436           3436   \n",
       "     3      3631           2994             3631           3631   \n",
       "     4      3511           2914             3511           3511   \n",
       "     5      3744           3098             3744           3744   \n",
       "     6      3308           2720             3308           3308   \n",
       "     7      3860           3229             3860           3860   \n",
       "     8      5036           5036             5036           5036   \n",
       "     9      4989           4989             4989           4989   \n",
       "     10     5218           5218             5218           5218   \n",
       "     11      509            509              509            509   \n",
       "\n",
       "            Average Sales Price  Glance Views  Conversion Rate  Country  Date  \\\n",
       "year month                                                                      \n",
       "2020 8                     2278          2460             2344     2460  2460   \n",
       "     9                     2273          2492             2344     2492  2492   \n",
       "     10                    4705          5122             4769     5122  5122   \n",
       "     11                    4410          4984             4360     4984  4984   \n",
       "     12                    4314          5508             4390     5530  5530   \n",
       "2021 1                        0          3875             3465     3875  3875   \n",
       "     2                        0          3436             3141     3436  3436   \n",
       "     3                        0          3631             3196     3631  3631   \n",
       "     4                        0          3511             2930     3511  3511   \n",
       "     5                        0          3744             2953     3744  3744   \n",
       "     6                        0          3308             2695     3308  3308   \n",
       "     7                        0          3860             3184     3860  3860   \n",
       "     8                     2021          5035             3953     5036  5036   \n",
       "     9                        0          4989             3747     4989  4989   \n",
       "     10                       0          5218             3922     5218  5218   \n",
       "     11                       0           509              383      509   509   \n",
       "\n",
       "              ID  ...  communication_number  sioc_flag  name  top_theme  \\\n",
       "year month        ...                                                     \n",
       "2020 8      2460  ...                  2460       2460  2460       2460   \n",
       "     9      2492  ...                  2492       2492  2492       2492   \n",
       "     10     5122  ...                  5122       5122  5122       5122   \n",
       "     11     4984  ...                  4984       4984  4984       4984   \n",
       "     12     5530  ...                  5530       5530  5530       5530   \n",
       "2021 1      3875  ...                  3875       3875  3875       3875   \n",
       "     2      3436  ...                  3436       3436  3436       3436   \n",
       "     3      3631  ...                  3631       3631  3631       3631   \n",
       "     4      3511  ...                  3511       3511  3511       3511   \n",
       "     5      3744  ...                  3744       3744  3744       3744   \n",
       "     6      3308  ...                  3308       3308  3308       3308   \n",
       "     7      3860  ...                  3860       3860  3860       3860   \n",
       "     8      5036  ...                  5036       5036  5036       5036   \n",
       "     9      4989  ...                  4989       4989  4989       4989   \n",
       "     10     5218  ...                  5218       5218  5218       5218   \n",
       "     11      509  ...                   509        509   509        509   \n",
       "\n",
       "            super_segment  Unnamed: 17  rrp_lead_range_eur  price_range  week  \\\n",
       "year month                                                                      \n",
       "2020 8               2460         2460                2460         2460  2460   \n",
       "     9               2492         2492                2492         2492  2492   \n",
       "     10              5122         5122                5122         5122  5122   \n",
       "     11              4984         4984                4984         4984  4984   \n",
       "     12              5530         5530                5530         5530  5530   \n",
       "2021 1               3875         3875                3875         3875  3875   \n",
       "     2               3436         3436                3436         3436  3436   \n",
       "     3               3631         3631                3631         3631  3631   \n",
       "     4               3511         3511                3511         3511  3511   \n",
       "     5               3744         3744                3744         3744  3744   \n",
       "     6               3308         3308                3308         3308  3308   \n",
       "     7               3860         3860                3860         3860  3860   \n",
       "     8               5036         5036                5036         5036  5036   \n",
       "     9               4989         4989                4989         4989  4989   \n",
       "     10              5218         5218                5218         5218  5218   \n",
       "     11               509          509                 509          509   509   \n",
       "\n",
       "             ASP  \n",
       "year month        \n",
       "2020 8      2281  \n",
       "     9      2276  \n",
       "     10     4709  \n",
       "     11     4420  \n",
       "     12     4340  \n",
       "2021 1      3336  \n",
       "     2      3088  \n",
       "     3      3129  \n",
       "     4      2806  \n",
       "     5      2821  \n",
       "     6      2583  \n",
       "     7      3055  \n",
       "     8      3715  \n",
       "     9      3513  \n",
       "     10     3758  \n",
       "     11      377  \n",
       "\n",
       "[16 rows x 21 columns]"
      ]
     },
     "execution_count": 8,
     "metadata": {},
     "output_type": "execute_result"
    }
   ],
   "source": [
    "# Formatting\n",
    "final_df = final_df.replace(\"—\", 0)\n",
    "final_df[\"ASP\"] = final_df[\"Ordered Revenue\"] / final_df[\"Ordered Units\"]"
   ]
  },
  {
   "cell_type": "code",
   "execution_count": 80,
   "metadata": {},
   "outputs": [
    {
     "data": {
      "text/html": [
       "<div>\n",
       "<style scoped>\n",
       "    .dataframe tbody tr th:only-of-type {\n",
       "        vertical-align: middle;\n",
       "    }\n",
       "\n",
       "    .dataframe tbody tr th {\n",
       "        vertical-align: top;\n",
       "    }\n",
       "\n",
       "    .dataframe thead th {\n",
       "        text-align: right;\n",
       "    }\n",
       "</style>\n",
       "<table border=\"1\" class=\"dataframe\">\n",
       "  <thead>\n",
       "    <tr style=\"text-align: right;\">\n",
       "      <th></th>\n",
       "      <th>year</th>\n",
       "      <th>month</th>\n",
       "      <th>week</th>\n",
       "      <th>ASIN</th>\n",
       "      <th>Product Title</th>\n",
       "      <th>Ordered Revenue</th>\n",
       "      <th>Ordered Units</th>\n",
       "      <th>ASP</th>\n",
       "      <th>Glance Views</th>\n",
       "      <th>Conversion Rate</th>\n",
       "    </tr>\n",
       "  </thead>\n",
       "  <tbody>\n",
       "    <tr>\n",
       "      <th>0</th>\n",
       "      <td>2020</td>\n",
       "      <td>8</td>\n",
       "      <td>31</td>\n",
       "      <td>B082WCVTVR</td>\n",
       "      <td>LEGO 71370 Super Mario Feuer-Mario - Anzug, Er...</td>\n",
       "      <td>1234.80000</td>\n",
       "      <td>147</td>\n",
       "      <td>8.400000</td>\n",
       "      <td>761.500000</td>\n",
       "      <td>0.093278</td>\n",
       "    </tr>\n",
       "    <tr>\n",
       "      <th>1</th>\n",
       "      <td>2020</td>\n",
       "      <td>8</td>\n",
       "      <td>31</td>\n",
       "      <td>B082WCVTVR</td>\n",
       "      <td>LEGO 71370 Super Mario Costume Mario de feu</td>\n",
       "      <td>216.32000</td>\n",
       "      <td>26</td>\n",
       "      <td>8.320000</td>\n",
       "      <td>195.500000</td>\n",
       "      <td>0.065980</td>\n",
       "    </tr>\n",
       "    <tr>\n",
       "      <th>2</th>\n",
       "      <td>2020</td>\n",
       "      <td>8</td>\n",
       "      <td>31</td>\n",
       "      <td>B082WCVTVR</td>\n",
       "      <td>LEGO Super Mario Fuoco - Power Up Pack, Espans...</td>\n",
       "      <td>171.99000</td>\n",
       "      <td>21</td>\n",
       "      <td>8.190000</td>\n",
       "      <td>226.500000</td>\n",
       "      <td>0.049299</td>\n",
       "    </tr>\n",
       "    <tr>\n",
       "      <th>3</th>\n",
       "      <td>2020</td>\n",
       "      <td>8</td>\n",
       "      <td>31</td>\n",
       "      <td>B082WCVTVR</td>\n",
       "      <td>LEGO 71370 Super Mario Fire Power-Up Pack Expa...</td>\n",
       "      <td>1219.73152</td>\n",
       "      <td>140</td>\n",
       "      <td>8.712368</td>\n",
       "      <td>551.500000</td>\n",
       "      <td>0.124886</td>\n",
       "    </tr>\n",
       "    <tr>\n",
       "      <th>4</th>\n",
       "      <td>2020</td>\n",
       "      <td>8</td>\n",
       "      <td>31</td>\n",
       "      <td>B082WCVTVR</td>\n",
       "      <td>LEGO 71370 Super Mario Pack Potenciador: Mario...</td>\n",
       "      <td>149.06000</td>\n",
       "      <td>13</td>\n",
       "      <td>10.213750</td>\n",
       "      <td>206.000000</td>\n",
       "      <td>0.031226</td>\n",
       "    </tr>\n",
       "    <tr>\n",
       "      <th>...</th>\n",
       "      <td>...</td>\n",
       "      <td>...</td>\n",
       "      <td>...</td>\n",
       "      <td>...</td>\n",
       "      <td>...</td>\n",
       "      <td>...</td>\n",
       "      <td>...</td>\n",
       "      <td>...</td>\n",
       "      <td>...</td>\n",
       "      <td>...</td>\n",
       "    </tr>\n",
       "    <tr>\n",
       "      <th>9274</th>\n",
       "      <td>2021</td>\n",
       "      <td>11</td>\n",
       "      <td>44</td>\n",
       "      <td>B0984RGDVH</td>\n",
       "      <td>LEGO 71391 Super Mario Bowsers Luftschiff – Er...</td>\n",
       "      <td>7148.98000</td>\n",
       "      <td>113</td>\n",
       "      <td>63.306087</td>\n",
       "      <td>720.000000</td>\n",
       "      <td>0.054046</td>\n",
       "    </tr>\n",
       "    <tr>\n",
       "      <th>9275</th>\n",
       "      <td>2021</td>\n",
       "      <td>11</td>\n",
       "      <td>44</td>\n",
       "      <td>B0984RGDVH</td>\n",
       "      <td>LEGO 71391 Super Mario Ensemble d’Extension La...</td>\n",
       "      <td>3599.52000</td>\n",
       "      <td>48</td>\n",
       "      <td>74.990000</td>\n",
       "      <td>279.000000</td>\n",
       "      <td>0.057966</td>\n",
       "    </tr>\n",
       "    <tr>\n",
       "      <th>9276</th>\n",
       "      <td>2021</td>\n",
       "      <td>11</td>\n",
       "      <td>44</td>\n",
       "      <td>B0984RGDVH</td>\n",
       "      <td>LEGO 71391 Super Mario Set de Expansión: Forta...</td>\n",
       "      <td>159.90000</td>\n",
       "      <td>2</td>\n",
       "      <td>79.950000</td>\n",
       "      <td>18.666667</td>\n",
       "      <td>0.034101</td>\n",
       "    </tr>\n",
       "    <tr>\n",
       "      <th>9277</th>\n",
       "      <td>2021</td>\n",
       "      <td>11</td>\n",
       "      <td>44</td>\n",
       "      <td>B0984RGDVH</td>\n",
       "      <td>LEGO Super Mario Il Veliero Volante di Bowser ...</td>\n",
       "      <td>510.58000</td>\n",
       "      <td>7</td>\n",
       "      <td>72.940000</td>\n",
       "      <td>117.666667</td>\n",
       "      <td>0.021328</td>\n",
       "    </tr>\n",
       "    <tr>\n",
       "      <th>9278</th>\n",
       "      <td>2021</td>\n",
       "      <td>11</td>\n",
       "      <td>44</td>\n",
       "      <td>B0984RGDVH</td>\n",
       "      <td>tbd-Leaf-12-2021</td>\n",
       "      <td>61.94000</td>\n",
       "      <td>1</td>\n",
       "      <td>61.940000</td>\n",
       "      <td>8.000000</td>\n",
       "      <td>0.125000</td>\n",
       "    </tr>\n",
       "  </tbody>\n",
       "</table>\n",
       "<p>9279 rows × 10 columns</p>\n",
       "</div>"
      ],
      "text/plain": [
       "      year  month  week        ASIN  \\\n",
       "0     2020      8    31  B082WCVTVR   \n",
       "1     2020      8    31  B082WCVTVR   \n",
       "2     2020      8    31  B082WCVTVR   \n",
       "3     2020      8    31  B082WCVTVR   \n",
       "4     2020      8    31  B082WCVTVR   \n",
       "...    ...    ...   ...         ...   \n",
       "9274  2021     11    44  B0984RGDVH   \n",
       "9275  2021     11    44  B0984RGDVH   \n",
       "9276  2021     11    44  B0984RGDVH   \n",
       "9277  2021     11    44  B0984RGDVH   \n",
       "9278  2021     11    44  B0984RGDVH   \n",
       "\n",
       "                                          Product Title  Ordered Revenue  \\\n",
       "0     LEGO 71370 Super Mario Feuer-Mario - Anzug, Er...       1234.80000   \n",
       "1           LEGO 71370 Super Mario Costume Mario de feu        216.32000   \n",
       "2     LEGO Super Mario Fuoco - Power Up Pack, Espans...        171.99000   \n",
       "3     LEGO 71370 Super Mario Fire Power-Up Pack Expa...       1219.73152   \n",
       "4     LEGO 71370 Super Mario Pack Potenciador: Mario...        149.06000   \n",
       "...                                                 ...              ...   \n",
       "9274  LEGO 71391 Super Mario Bowsers Luftschiff – Er...       7148.98000   \n",
       "9275  LEGO 71391 Super Mario Ensemble d’Extension La...       3599.52000   \n",
       "9276  LEGO 71391 Super Mario Set de Expansión: Forta...        159.90000   \n",
       "9277  LEGO Super Mario Il Veliero Volante di Bowser ...        510.58000   \n",
       "9278                                   tbd-Leaf-12-2021         61.94000   \n",
       "\n",
       "      Ordered Units        ASP  Glance Views  Conversion Rate  \n",
       "0               147   8.400000    761.500000         0.093278  \n",
       "1                26   8.320000    195.500000         0.065980  \n",
       "2                21   8.190000    226.500000         0.049299  \n",
       "3               140   8.712368    551.500000         0.124886  \n",
       "4                13  10.213750    206.000000         0.031226  \n",
       "...             ...        ...           ...              ...  \n",
       "9274            113  63.306087    720.000000         0.054046  \n",
       "9275             48  74.990000    279.000000         0.057966  \n",
       "9276              2  79.950000     18.666667         0.034101  \n",
       "9277              7  72.940000    117.666667         0.021328  \n",
       "9278              1  61.940000      8.000000         0.125000  \n",
       "\n",
       "[9279 rows x 10 columns]"
      ]
     },
     "execution_count": 80,
     "metadata": {},
     "output_type": "execute_result"
    }
   ],
   "source": [
    "grp_weekly_df = final_df.groupby([\"year\", \"month\", \"week\", \"ASIN\", \"Product Title\"]).agg({'Ordered Revenue':'sum', 'Ordered Units':'sum', 'ASP':'mean', 'Glance Views':'mean', \"Conversion Rate\": \"mean\"}).reset_index()\n",
    "grp_weekly_df"
   ]
  },
  {
   "cell_type": "code",
   "execution_count": 87,
   "metadata": {},
   "outputs": [
    {
     "data": {
      "text/html": [
       "<div>\n",
       "<style scoped>\n",
       "    .dataframe tbody tr th:only-of-type {\n",
       "        vertical-align: middle;\n",
       "    }\n",
       "\n",
       "    .dataframe tbody tr th {\n",
       "        vertical-align: top;\n",
       "    }\n",
       "\n",
       "    .dataframe thead th {\n",
       "        text-align: right;\n",
       "    }\n",
       "</style>\n",
       "<table border=\"1\" class=\"dataframe\">\n",
       "  <thead>\n",
       "    <tr style=\"text-align: right;\">\n",
       "      <th></th>\n",
       "      <th>year</th>\n",
       "      <th>month</th>\n",
       "      <th>Ordered Revenue</th>\n",
       "      <th>Ordered Units</th>\n",
       "      <th>ASP</th>\n",
       "      <th>Glance Views</th>\n",
       "      <th>Conversion Rate</th>\n",
       "      <th>year_month</th>\n",
       "    </tr>\n",
       "  </thead>\n",
       "  <tbody>\n",
       "    <tr>\n",
       "      <th>0</th>\n",
       "      <td>2020</td>\n",
       "      <td>8</td>\n",
       "      <td>2.560894e+06</td>\n",
       "      <td>83847</td>\n",
       "      <td>30.542464</td>\n",
       "      <td>620.632114</td>\n",
       "      <td>0.061471</td>\n",
       "      <td>2020_8</td>\n",
       "    </tr>\n",
       "    <tr>\n",
       "      <th>1</th>\n",
       "      <td>2020</td>\n",
       "      <td>9</td>\n",
       "      <td>1.905269e+06</td>\n",
       "      <td>65348</td>\n",
       "      <td>29.155742</td>\n",
       "      <td>417.778892</td>\n",
       "      <td>0.093087</td>\n",
       "      <td>2020_9</td>\n",
       "    </tr>\n",
       "    <tr>\n",
       "      <th>2</th>\n",
       "      <td>2020</td>\n",
       "      <td>10</td>\n",
       "      <td>3.770091e+06</td>\n",
       "      <td>138425</td>\n",
       "      <td>27.235620</td>\n",
       "      <td>392.895158</td>\n",
       "      <td>0.091554</td>\n",
       "      <td>2020_10</td>\n",
       "    </tr>\n",
       "    <tr>\n",
       "      <th>3</th>\n",
       "      <td>2020</td>\n",
       "      <td>11</td>\n",
       "      <td>6.438596e+06</td>\n",
       "      <td>249196</td>\n",
       "      <td>25.837479</td>\n",
       "      <td>633.742376</td>\n",
       "      <td>0.084144</td>\n",
       "      <td>2020_11</td>\n",
       "    </tr>\n",
       "    <tr>\n",
       "      <th>4</th>\n",
       "      <td>2020</td>\n",
       "      <td>12</td>\n",
       "      <td>5.185042e+06</td>\n",
       "      <td>226692</td>\n",
       "      <td>22.872629</td>\n",
       "      <td>463.219317</td>\n",
       "      <td>0.090089</td>\n",
       "      <td>2020_12</td>\n",
       "    </tr>\n",
       "    <tr>\n",
       "      <th>5</th>\n",
       "      <td>2021</td>\n",
       "      <td>1</td>\n",
       "      <td>1.343354e+06</td>\n",
       "      <td>69689</td>\n",
       "      <td>19.276409</td>\n",
       "      <td>231.235355</td>\n",
       "      <td>0.089914</td>\n",
       "      <td>2021_1</td>\n",
       "    </tr>\n",
       "    <tr>\n",
       "      <th>6</th>\n",
       "      <td>2021</td>\n",
       "      <td>2</td>\n",
       "      <td>1.210718e+06</td>\n",
       "      <td>66106</td>\n",
       "      <td>18.314791</td>\n",
       "      <td>207.261932</td>\n",
       "      <td>0.098764</td>\n",
       "      <td>2021_2</td>\n",
       "    </tr>\n",
       "    <tr>\n",
       "      <th>7</th>\n",
       "      <td>2021</td>\n",
       "      <td>3</td>\n",
       "      <td>1.275999e+06</td>\n",
       "      <td>74980</td>\n",
       "      <td>17.017856</td>\n",
       "      <td>196.881851</td>\n",
       "      <td>0.109245</td>\n",
       "      <td>2021_3</td>\n",
       "    </tr>\n",
       "    <tr>\n",
       "      <th>8</th>\n",
       "      <td>2021</td>\n",
       "      <td>4</td>\n",
       "      <td>7.742906e+05</td>\n",
       "      <td>49887</td>\n",
       "      <td>15.520890</td>\n",
       "      <td>131.697807</td>\n",
       "      <td>0.104582</td>\n",
       "      <td>2021_4</td>\n",
       "    </tr>\n",
       "    <tr>\n",
       "      <th>9</th>\n",
       "      <td>2021</td>\n",
       "      <td>5</td>\n",
       "      <td>7.589265e+05</td>\n",
       "      <td>40132</td>\n",
       "      <td>18.910757</td>\n",
       "      <td>123.681357</td>\n",
       "      <td>0.099016</td>\n",
       "      <td>2021_5</td>\n",
       "    </tr>\n",
       "    <tr>\n",
       "      <th>10</th>\n",
       "      <td>2021</td>\n",
       "      <td>6</td>\n",
       "      <td>7.815245e+05</td>\n",
       "      <td>33790</td>\n",
       "      <td>23.128871</td>\n",
       "      <td>125.057437</td>\n",
       "      <td>0.094176</td>\n",
       "      <td>2021_6</td>\n",
       "    </tr>\n",
       "    <tr>\n",
       "      <th>11</th>\n",
       "      <td>2021</td>\n",
       "      <td>7</td>\n",
       "      <td>7.061059e+05</td>\n",
       "      <td>32723</td>\n",
       "      <td>21.578276</td>\n",
       "      <td>101.743782</td>\n",
       "      <td>0.086737</td>\n",
       "      <td>2021_7</td>\n",
       "    </tr>\n",
       "    <tr>\n",
       "      <th>12</th>\n",
       "      <td>2021</td>\n",
       "      <td>8</td>\n",
       "      <td>1.544310e+06</td>\n",
       "      <td>59698</td>\n",
       "      <td>25.868704</td>\n",
       "      <td>151.621847</td>\n",
       "      <td>0.081922</td>\n",
       "      <td>2021_8</td>\n",
       "    </tr>\n",
       "    <tr>\n",
       "      <th>13</th>\n",
       "      <td>2021</td>\n",
       "      <td>9</td>\n",
       "      <td>1.271535e+06</td>\n",
       "      <td>48389</td>\n",
       "      <td>26.277353</td>\n",
       "      <td>124.912006</td>\n",
       "      <td>0.117716</td>\n",
       "      <td>2021_9</td>\n",
       "    </tr>\n",
       "    <tr>\n",
       "      <th>14</th>\n",
       "      <td>2021</td>\n",
       "      <td>10</td>\n",
       "      <td>1.477321e+06</td>\n",
       "      <td>55468</td>\n",
       "      <td>26.633751</td>\n",
       "      <td>130.369107</td>\n",
       "      <td>0.081551</td>\n",
       "      <td>2021_10</td>\n",
       "    </tr>\n",
       "    <tr>\n",
       "      <th>15</th>\n",
       "      <td>2021</td>\n",
       "      <td>11</td>\n",
       "      <td>3.091854e+05</td>\n",
       "      <td>12268</td>\n",
       "      <td>25.202590</td>\n",
       "      <td>249.848723</td>\n",
       "      <td>0.462101</td>\n",
       "      <td>2021_11</td>\n",
       "    </tr>\n",
       "  </tbody>\n",
       "</table>\n",
       "</div>"
      ],
      "text/plain": [
       "    year  month  Ordered Revenue  Ordered Units        ASP  Glance Views  \\\n",
       "0   2020      8     2.560894e+06          83847  30.542464    620.632114   \n",
       "1   2020      9     1.905269e+06          65348  29.155742    417.778892   \n",
       "2   2020     10     3.770091e+06         138425  27.235620    392.895158   \n",
       "3   2020     11     6.438596e+06         249196  25.837479    633.742376   \n",
       "4   2020     12     5.185042e+06         226692  22.872629    463.219317   \n",
       "5   2021      1     1.343354e+06          69689  19.276409    231.235355   \n",
       "6   2021      2     1.210718e+06          66106  18.314791    207.261932   \n",
       "7   2021      3     1.275999e+06          74980  17.017856    196.881851   \n",
       "8   2021      4     7.742906e+05          49887  15.520890    131.697807   \n",
       "9   2021      5     7.589265e+05          40132  18.910757    123.681357   \n",
       "10  2021      6     7.815245e+05          33790  23.128871    125.057437   \n",
       "11  2021      7     7.061059e+05          32723  21.578276    101.743782   \n",
       "12  2021      8     1.544310e+06          59698  25.868704    151.621847   \n",
       "13  2021      9     1.271535e+06          48389  26.277353    124.912006   \n",
       "14  2021     10     1.477321e+06          55468  26.633751    130.369107   \n",
       "15  2021     11     3.091854e+05          12268  25.202590    249.848723   \n",
       "\n",
       "    Conversion Rate year_month  \n",
       "0          0.061471     2020_8  \n",
       "1          0.093087     2020_9  \n",
       "2          0.091554    2020_10  \n",
       "3          0.084144    2020_11  \n",
       "4          0.090089    2020_12  \n",
       "5          0.089914     2021_1  \n",
       "6          0.098764     2021_2  \n",
       "7          0.109245     2021_3  \n",
       "8          0.104582     2021_4  \n",
       "9          0.099016     2021_5  \n",
       "10         0.094176     2021_6  \n",
       "11         0.086737     2021_7  \n",
       "12         0.081922     2021_8  \n",
       "13         0.117716     2021_9  \n",
       "14         0.081551    2021_10  \n",
       "15         0.462101    2021_11  "
      ]
     },
     "execution_count": 87,
     "metadata": {},
     "output_type": "execute_result"
    }
   ],
   "source": [
    "grp_monthly_df = final_df.groupby([\"year\", \"month\"]).agg({'Ordered Revenue':'sum', 'Ordered Units':'sum', 'ASP':'mean', 'Glance Views':'mean', \"Conversion Rate\": \"mean\"}).reset_index()\n",
    "grp_monthly_df[\"ASP\"] = grp_monthly_df[\"Ordered Revenue\"] / grp_monthly_df[\"Ordered Units\"]\n",
    "grp_monthly_df[\"year_month\"] = grp_monthly_df[\"year\"].astype(str) + \"_\" + grp_monthly_df[\"month\"].astype(str)\n",
    "grp_monthly_df"
   ]
  },
  {
   "cell_type": "code",
   "execution_count": 83,
   "metadata": {},
   "outputs": [
    {
     "data": {
      "application/vnd.plotly.v1+json": {
       "config": {
        "plotlyServerURL": "https://plot.ly"
       },
       "data": [
        {
         "type": "bar",
         "x": [
          "2020_8",
          "2020_9",
          "2020_10",
          "2020_11",
          "2020_12",
          "2021_1",
          "2021_2",
          "2021_3",
          "2021_4",
          "2021_5",
          "2021_6",
          "2021_7",
          "2021_8",
          "2021_9",
          "2021_10",
          "2021_11"
         ],
         "y": [
          30.542464387133712,
          29.155742271335008,
          27.23561988907495,
          25.837479094383138,
          22.8726289422044,
          19.27640895478483,
          18.314790565146886,
          17.017856421723124,
          15.520890018124962,
          18.910756531672977,
          23.12887081794318,
          21.578275722999116,
          25.868703980513583,
          26.27735311668561,
          26.633750632999206,
          25.202590490854252
         ]
        }
       ],
       "layout": {
        "template": {
         "data": {
          "bar": [
           {
            "error_x": {
             "color": "#2a3f5f"
            },
            "error_y": {
             "color": "#2a3f5f"
            },
            "marker": {
             "line": {
              "color": "#E5ECF6",
              "width": 0.5
             },
             "pattern": {
              "fillmode": "overlay",
              "size": 10,
              "solidity": 0.2
             }
            },
            "type": "bar"
           }
          ],
          "barpolar": [
           {
            "marker": {
             "line": {
              "color": "#E5ECF6",
              "width": 0.5
             },
             "pattern": {
              "fillmode": "overlay",
              "size": 10,
              "solidity": 0.2
             }
            },
            "type": "barpolar"
           }
          ],
          "carpet": [
           {
            "aaxis": {
             "endlinecolor": "#2a3f5f",
             "gridcolor": "white",
             "linecolor": "white",
             "minorgridcolor": "white",
             "startlinecolor": "#2a3f5f"
            },
            "baxis": {
             "endlinecolor": "#2a3f5f",
             "gridcolor": "white",
             "linecolor": "white",
             "minorgridcolor": "white",
             "startlinecolor": "#2a3f5f"
            },
            "type": "carpet"
           }
          ],
          "choropleth": [
           {
            "colorbar": {
             "outlinewidth": 0,
             "ticks": ""
            },
            "type": "choropleth"
           }
          ],
          "contour": [
           {
            "colorbar": {
             "outlinewidth": 0,
             "ticks": ""
            },
            "colorscale": [
             [
              0,
              "#0d0887"
             ],
             [
              0.1111111111111111,
              "#46039f"
             ],
             [
              0.2222222222222222,
              "#7201a8"
             ],
             [
              0.3333333333333333,
              "#9c179e"
             ],
             [
              0.4444444444444444,
              "#bd3786"
             ],
             [
              0.5555555555555556,
              "#d8576b"
             ],
             [
              0.6666666666666666,
              "#ed7953"
             ],
             [
              0.7777777777777778,
              "#fb9f3a"
             ],
             [
              0.8888888888888888,
              "#fdca26"
             ],
             [
              1,
              "#f0f921"
             ]
            ],
            "type": "contour"
           }
          ],
          "contourcarpet": [
           {
            "colorbar": {
             "outlinewidth": 0,
             "ticks": ""
            },
            "type": "contourcarpet"
           }
          ],
          "heatmap": [
           {
            "colorbar": {
             "outlinewidth": 0,
             "ticks": ""
            },
            "colorscale": [
             [
              0,
              "#0d0887"
             ],
             [
              0.1111111111111111,
              "#46039f"
             ],
             [
              0.2222222222222222,
              "#7201a8"
             ],
             [
              0.3333333333333333,
              "#9c179e"
             ],
             [
              0.4444444444444444,
              "#bd3786"
             ],
             [
              0.5555555555555556,
              "#d8576b"
             ],
             [
              0.6666666666666666,
              "#ed7953"
             ],
             [
              0.7777777777777778,
              "#fb9f3a"
             ],
             [
              0.8888888888888888,
              "#fdca26"
             ],
             [
              1,
              "#f0f921"
             ]
            ],
            "type": "heatmap"
           }
          ],
          "heatmapgl": [
           {
            "colorbar": {
             "outlinewidth": 0,
             "ticks": ""
            },
            "colorscale": [
             [
              0,
              "#0d0887"
             ],
             [
              0.1111111111111111,
              "#46039f"
             ],
             [
              0.2222222222222222,
              "#7201a8"
             ],
             [
              0.3333333333333333,
              "#9c179e"
             ],
             [
              0.4444444444444444,
              "#bd3786"
             ],
             [
              0.5555555555555556,
              "#d8576b"
             ],
             [
              0.6666666666666666,
              "#ed7953"
             ],
             [
              0.7777777777777778,
              "#fb9f3a"
             ],
             [
              0.8888888888888888,
              "#fdca26"
             ],
             [
              1,
              "#f0f921"
             ]
            ],
            "type": "heatmapgl"
           }
          ],
          "histogram": [
           {
            "marker": {
             "pattern": {
              "fillmode": "overlay",
              "size": 10,
              "solidity": 0.2
             }
            },
            "type": "histogram"
           }
          ],
          "histogram2d": [
           {
            "colorbar": {
             "outlinewidth": 0,
             "ticks": ""
            },
            "colorscale": [
             [
              0,
              "#0d0887"
             ],
             [
              0.1111111111111111,
              "#46039f"
             ],
             [
              0.2222222222222222,
              "#7201a8"
             ],
             [
              0.3333333333333333,
              "#9c179e"
             ],
             [
              0.4444444444444444,
              "#bd3786"
             ],
             [
              0.5555555555555556,
              "#d8576b"
             ],
             [
              0.6666666666666666,
              "#ed7953"
             ],
             [
              0.7777777777777778,
              "#fb9f3a"
             ],
             [
              0.8888888888888888,
              "#fdca26"
             ],
             [
              1,
              "#f0f921"
             ]
            ],
            "type": "histogram2d"
           }
          ],
          "histogram2dcontour": [
           {
            "colorbar": {
             "outlinewidth": 0,
             "ticks": ""
            },
            "colorscale": [
             [
              0,
              "#0d0887"
             ],
             [
              0.1111111111111111,
              "#46039f"
             ],
             [
              0.2222222222222222,
              "#7201a8"
             ],
             [
              0.3333333333333333,
              "#9c179e"
             ],
             [
              0.4444444444444444,
              "#bd3786"
             ],
             [
              0.5555555555555556,
              "#d8576b"
             ],
             [
              0.6666666666666666,
              "#ed7953"
             ],
             [
              0.7777777777777778,
              "#fb9f3a"
             ],
             [
              0.8888888888888888,
              "#fdca26"
             ],
             [
              1,
              "#f0f921"
             ]
            ],
            "type": "histogram2dcontour"
           }
          ],
          "mesh3d": [
           {
            "colorbar": {
             "outlinewidth": 0,
             "ticks": ""
            },
            "type": "mesh3d"
           }
          ],
          "parcoords": [
           {
            "line": {
             "colorbar": {
              "outlinewidth": 0,
              "ticks": ""
             }
            },
            "type": "parcoords"
           }
          ],
          "pie": [
           {
            "automargin": true,
            "type": "pie"
           }
          ],
          "scatter": [
           {
            "marker": {
             "colorbar": {
              "outlinewidth": 0,
              "ticks": ""
             }
            },
            "type": "scatter"
           }
          ],
          "scatter3d": [
           {
            "line": {
             "colorbar": {
              "outlinewidth": 0,
              "ticks": ""
             }
            },
            "marker": {
             "colorbar": {
              "outlinewidth": 0,
              "ticks": ""
             }
            },
            "type": "scatter3d"
           }
          ],
          "scattercarpet": [
           {
            "marker": {
             "colorbar": {
              "outlinewidth": 0,
              "ticks": ""
             }
            },
            "type": "scattercarpet"
           }
          ],
          "scattergeo": [
           {
            "marker": {
             "colorbar": {
              "outlinewidth": 0,
              "ticks": ""
             }
            },
            "type": "scattergeo"
           }
          ],
          "scattergl": [
           {
            "marker": {
             "colorbar": {
              "outlinewidth": 0,
              "ticks": ""
             }
            },
            "type": "scattergl"
           }
          ],
          "scattermapbox": [
           {
            "marker": {
             "colorbar": {
              "outlinewidth": 0,
              "ticks": ""
             }
            },
            "type": "scattermapbox"
           }
          ],
          "scatterpolar": [
           {
            "marker": {
             "colorbar": {
              "outlinewidth": 0,
              "ticks": ""
             }
            },
            "type": "scatterpolar"
           }
          ],
          "scatterpolargl": [
           {
            "marker": {
             "colorbar": {
              "outlinewidth": 0,
              "ticks": ""
             }
            },
            "type": "scatterpolargl"
           }
          ],
          "scatterternary": [
           {
            "marker": {
             "colorbar": {
              "outlinewidth": 0,
              "ticks": ""
             }
            },
            "type": "scatterternary"
           }
          ],
          "surface": [
           {
            "colorbar": {
             "outlinewidth": 0,
             "ticks": ""
            },
            "colorscale": [
             [
              0,
              "#0d0887"
             ],
             [
              0.1111111111111111,
              "#46039f"
             ],
             [
              0.2222222222222222,
              "#7201a8"
             ],
             [
              0.3333333333333333,
              "#9c179e"
             ],
             [
              0.4444444444444444,
              "#bd3786"
             ],
             [
              0.5555555555555556,
              "#d8576b"
             ],
             [
              0.6666666666666666,
              "#ed7953"
             ],
             [
              0.7777777777777778,
              "#fb9f3a"
             ],
             [
              0.8888888888888888,
              "#fdca26"
             ],
             [
              1,
              "#f0f921"
             ]
            ],
            "type": "surface"
           }
          ],
          "table": [
           {
            "cells": {
             "fill": {
              "color": "#EBF0F8"
             },
             "line": {
              "color": "white"
             }
            },
            "header": {
             "fill": {
              "color": "#C8D4E3"
             },
             "line": {
              "color": "white"
             }
            },
            "type": "table"
           }
          ]
         },
         "layout": {
          "annotationdefaults": {
           "arrowcolor": "#2a3f5f",
           "arrowhead": 0,
           "arrowwidth": 1
          },
          "autotypenumbers": "strict",
          "coloraxis": {
           "colorbar": {
            "outlinewidth": 0,
            "ticks": ""
           }
          },
          "colorscale": {
           "diverging": [
            [
             0,
             "#8e0152"
            ],
            [
             0.1,
             "#c51b7d"
            ],
            [
             0.2,
             "#de77ae"
            ],
            [
             0.3,
             "#f1b6da"
            ],
            [
             0.4,
             "#fde0ef"
            ],
            [
             0.5,
             "#f7f7f7"
            ],
            [
             0.6,
             "#e6f5d0"
            ],
            [
             0.7,
             "#b8e186"
            ],
            [
             0.8,
             "#7fbc41"
            ],
            [
             0.9,
             "#4d9221"
            ],
            [
             1,
             "#276419"
            ]
           ],
           "sequential": [
            [
             0,
             "#0d0887"
            ],
            [
             0.1111111111111111,
             "#46039f"
            ],
            [
             0.2222222222222222,
             "#7201a8"
            ],
            [
             0.3333333333333333,
             "#9c179e"
            ],
            [
             0.4444444444444444,
             "#bd3786"
            ],
            [
             0.5555555555555556,
             "#d8576b"
            ],
            [
             0.6666666666666666,
             "#ed7953"
            ],
            [
             0.7777777777777778,
             "#fb9f3a"
            ],
            [
             0.8888888888888888,
             "#fdca26"
            ],
            [
             1,
             "#f0f921"
            ]
           ],
           "sequentialminus": [
            [
             0,
             "#0d0887"
            ],
            [
             0.1111111111111111,
             "#46039f"
            ],
            [
             0.2222222222222222,
             "#7201a8"
            ],
            [
             0.3333333333333333,
             "#9c179e"
            ],
            [
             0.4444444444444444,
             "#bd3786"
            ],
            [
             0.5555555555555556,
             "#d8576b"
            ],
            [
             0.6666666666666666,
             "#ed7953"
            ],
            [
             0.7777777777777778,
             "#fb9f3a"
            ],
            [
             0.8888888888888888,
             "#fdca26"
            ],
            [
             1,
             "#f0f921"
            ]
           ]
          },
          "colorway": [
           "#636efa",
           "#EF553B",
           "#00cc96",
           "#ab63fa",
           "#FFA15A",
           "#19d3f3",
           "#FF6692",
           "#B6E880",
           "#FF97FF",
           "#FECB52"
          ],
          "font": {
           "color": "#2a3f5f"
          },
          "geo": {
           "bgcolor": "white",
           "lakecolor": "white",
           "landcolor": "#E5ECF6",
           "showlakes": true,
           "showland": true,
           "subunitcolor": "white"
          },
          "hoverlabel": {
           "align": "left"
          },
          "hovermode": "closest",
          "mapbox": {
           "style": "light"
          },
          "paper_bgcolor": "white",
          "plot_bgcolor": "#E5ECF6",
          "polar": {
           "angularaxis": {
            "gridcolor": "white",
            "linecolor": "white",
            "ticks": ""
           },
           "bgcolor": "#E5ECF6",
           "radialaxis": {
            "gridcolor": "white",
            "linecolor": "white",
            "ticks": ""
           }
          },
          "scene": {
           "xaxis": {
            "backgroundcolor": "#E5ECF6",
            "gridcolor": "white",
            "gridwidth": 2,
            "linecolor": "white",
            "showbackground": true,
            "ticks": "",
            "zerolinecolor": "white"
           },
           "yaxis": {
            "backgroundcolor": "#E5ECF6",
            "gridcolor": "white",
            "gridwidth": 2,
            "linecolor": "white",
            "showbackground": true,
            "ticks": "",
            "zerolinecolor": "white"
           },
           "zaxis": {
            "backgroundcolor": "#E5ECF6",
            "gridcolor": "white",
            "gridwidth": 2,
            "linecolor": "white",
            "showbackground": true,
            "ticks": "",
            "zerolinecolor": "white"
           }
          },
          "shapedefaults": {
           "line": {
            "color": "#2a3f5f"
           }
          },
          "ternary": {
           "aaxis": {
            "gridcolor": "white",
            "linecolor": "white",
            "ticks": ""
           },
           "baxis": {
            "gridcolor": "white",
            "linecolor": "white",
            "ticks": ""
           },
           "bgcolor": "#E5ECF6",
           "caxis": {
            "gridcolor": "white",
            "linecolor": "white",
            "ticks": ""
           }
          },
          "title": {
           "x": 0.05
          },
          "xaxis": {
           "automargin": true,
           "gridcolor": "white",
           "linecolor": "white",
           "ticks": "",
           "title": {
            "standoff": 15
           },
           "zerolinecolor": "white",
           "zerolinewidth": 2
          },
          "yaxis": {
           "automargin": true,
           "gridcolor": "white",
           "linecolor": "white",
           "ticks": "",
           "title": {
            "standoff": 15
           },
           "zerolinecolor": "white",
           "zerolinewidth": 2
          }
         }
        }
       }
      }
     },
     "metadata": {},
     "output_type": "display_data"
    }
   ],
   "source": [
    "import plotly.graph_objects as go\n",
    "\n",
    "fig = go.Figure()\n",
    "fig.add_trace(go.Bar(\n",
    "    x=grp_monthly_df[\"year_month\"], y=grp_monthly_df[\"ASP\"],\n",
    "))\n",
    "fig.show()"
   ]
  },
  {
   "cell_type": "code",
   "execution_count": 84,
   "metadata": {},
   "outputs": [
    {
     "data": {
      "application/vnd.plotly.v1+json": {
       "config": {
        "plotlyServerURL": "https://plot.ly"
       },
       "data": [
        {
         "type": "bar",
         "x": [
          "2020_8",
          "2020_9",
          "2020_10",
          "2020_11",
          "2020_12",
          "2021_1",
          "2021_2",
          "2021_3",
          "2021_4",
          "2021_5",
          "2021_6",
          "2021_7",
          "2021_8",
          "2021_9",
          "2021_10",
          "2021_11"
         ],
         "y": [
          1526755,
          1041105,
          2012409,
          3158572,
          2551412,
          896037,
          712152,
          714878,
          462391,
          463063,
          413690,
          392731,
          763416,
          623186,
          680266,
          127173
         ]
        }
       ],
       "layout": {
        "template": {
         "data": {
          "bar": [
           {
            "error_x": {
             "color": "#2a3f5f"
            },
            "error_y": {
             "color": "#2a3f5f"
            },
            "marker": {
             "line": {
              "color": "#E5ECF6",
              "width": 0.5
             },
             "pattern": {
              "fillmode": "overlay",
              "size": 10,
              "solidity": 0.2
             }
            },
            "type": "bar"
           }
          ],
          "barpolar": [
           {
            "marker": {
             "line": {
              "color": "#E5ECF6",
              "width": 0.5
             },
             "pattern": {
              "fillmode": "overlay",
              "size": 10,
              "solidity": 0.2
             }
            },
            "type": "barpolar"
           }
          ],
          "carpet": [
           {
            "aaxis": {
             "endlinecolor": "#2a3f5f",
             "gridcolor": "white",
             "linecolor": "white",
             "minorgridcolor": "white",
             "startlinecolor": "#2a3f5f"
            },
            "baxis": {
             "endlinecolor": "#2a3f5f",
             "gridcolor": "white",
             "linecolor": "white",
             "minorgridcolor": "white",
             "startlinecolor": "#2a3f5f"
            },
            "type": "carpet"
           }
          ],
          "choropleth": [
           {
            "colorbar": {
             "outlinewidth": 0,
             "ticks": ""
            },
            "type": "choropleth"
           }
          ],
          "contour": [
           {
            "colorbar": {
             "outlinewidth": 0,
             "ticks": ""
            },
            "colorscale": [
             [
              0,
              "#0d0887"
             ],
             [
              0.1111111111111111,
              "#46039f"
             ],
             [
              0.2222222222222222,
              "#7201a8"
             ],
             [
              0.3333333333333333,
              "#9c179e"
             ],
             [
              0.4444444444444444,
              "#bd3786"
             ],
             [
              0.5555555555555556,
              "#d8576b"
             ],
             [
              0.6666666666666666,
              "#ed7953"
             ],
             [
              0.7777777777777778,
              "#fb9f3a"
             ],
             [
              0.8888888888888888,
              "#fdca26"
             ],
             [
              1,
              "#f0f921"
             ]
            ],
            "type": "contour"
           }
          ],
          "contourcarpet": [
           {
            "colorbar": {
             "outlinewidth": 0,
             "ticks": ""
            },
            "type": "contourcarpet"
           }
          ],
          "heatmap": [
           {
            "colorbar": {
             "outlinewidth": 0,
             "ticks": ""
            },
            "colorscale": [
             [
              0,
              "#0d0887"
             ],
             [
              0.1111111111111111,
              "#46039f"
             ],
             [
              0.2222222222222222,
              "#7201a8"
             ],
             [
              0.3333333333333333,
              "#9c179e"
             ],
             [
              0.4444444444444444,
              "#bd3786"
             ],
             [
              0.5555555555555556,
              "#d8576b"
             ],
             [
              0.6666666666666666,
              "#ed7953"
             ],
             [
              0.7777777777777778,
              "#fb9f3a"
             ],
             [
              0.8888888888888888,
              "#fdca26"
             ],
             [
              1,
              "#f0f921"
             ]
            ],
            "type": "heatmap"
           }
          ],
          "heatmapgl": [
           {
            "colorbar": {
             "outlinewidth": 0,
             "ticks": ""
            },
            "colorscale": [
             [
              0,
              "#0d0887"
             ],
             [
              0.1111111111111111,
              "#46039f"
             ],
             [
              0.2222222222222222,
              "#7201a8"
             ],
             [
              0.3333333333333333,
              "#9c179e"
             ],
             [
              0.4444444444444444,
              "#bd3786"
             ],
             [
              0.5555555555555556,
              "#d8576b"
             ],
             [
              0.6666666666666666,
              "#ed7953"
             ],
             [
              0.7777777777777778,
              "#fb9f3a"
             ],
             [
              0.8888888888888888,
              "#fdca26"
             ],
             [
              1,
              "#f0f921"
             ]
            ],
            "type": "heatmapgl"
           }
          ],
          "histogram": [
           {
            "marker": {
             "pattern": {
              "fillmode": "overlay",
              "size": 10,
              "solidity": 0.2
             }
            },
            "type": "histogram"
           }
          ],
          "histogram2d": [
           {
            "colorbar": {
             "outlinewidth": 0,
             "ticks": ""
            },
            "colorscale": [
             [
              0,
              "#0d0887"
             ],
             [
              0.1111111111111111,
              "#46039f"
             ],
             [
              0.2222222222222222,
              "#7201a8"
             ],
             [
              0.3333333333333333,
              "#9c179e"
             ],
             [
              0.4444444444444444,
              "#bd3786"
             ],
             [
              0.5555555555555556,
              "#d8576b"
             ],
             [
              0.6666666666666666,
              "#ed7953"
             ],
             [
              0.7777777777777778,
              "#fb9f3a"
             ],
             [
              0.8888888888888888,
              "#fdca26"
             ],
             [
              1,
              "#f0f921"
             ]
            ],
            "type": "histogram2d"
           }
          ],
          "histogram2dcontour": [
           {
            "colorbar": {
             "outlinewidth": 0,
             "ticks": ""
            },
            "colorscale": [
             [
              0,
              "#0d0887"
             ],
             [
              0.1111111111111111,
              "#46039f"
             ],
             [
              0.2222222222222222,
              "#7201a8"
             ],
             [
              0.3333333333333333,
              "#9c179e"
             ],
             [
              0.4444444444444444,
              "#bd3786"
             ],
             [
              0.5555555555555556,
              "#d8576b"
             ],
             [
              0.6666666666666666,
              "#ed7953"
             ],
             [
              0.7777777777777778,
              "#fb9f3a"
             ],
             [
              0.8888888888888888,
              "#fdca26"
             ],
             [
              1,
              "#f0f921"
             ]
            ],
            "type": "histogram2dcontour"
           }
          ],
          "mesh3d": [
           {
            "colorbar": {
             "outlinewidth": 0,
             "ticks": ""
            },
            "type": "mesh3d"
           }
          ],
          "parcoords": [
           {
            "line": {
             "colorbar": {
              "outlinewidth": 0,
              "ticks": ""
             }
            },
            "type": "parcoords"
           }
          ],
          "pie": [
           {
            "automargin": true,
            "type": "pie"
           }
          ],
          "scatter": [
           {
            "marker": {
             "colorbar": {
              "outlinewidth": 0,
              "ticks": ""
             }
            },
            "type": "scatter"
           }
          ],
          "scatter3d": [
           {
            "line": {
             "colorbar": {
              "outlinewidth": 0,
              "ticks": ""
             }
            },
            "marker": {
             "colorbar": {
              "outlinewidth": 0,
              "ticks": ""
             }
            },
            "type": "scatter3d"
           }
          ],
          "scattercarpet": [
           {
            "marker": {
             "colorbar": {
              "outlinewidth": 0,
              "ticks": ""
             }
            },
            "type": "scattercarpet"
           }
          ],
          "scattergeo": [
           {
            "marker": {
             "colorbar": {
              "outlinewidth": 0,
              "ticks": ""
             }
            },
            "type": "scattergeo"
           }
          ],
          "scattergl": [
           {
            "marker": {
             "colorbar": {
              "outlinewidth": 0,
              "ticks": ""
             }
            },
            "type": "scattergl"
           }
          ],
          "scattermapbox": [
           {
            "marker": {
             "colorbar": {
              "outlinewidth": 0,
              "ticks": ""
             }
            },
            "type": "scattermapbox"
           }
          ],
          "scatterpolar": [
           {
            "marker": {
             "colorbar": {
              "outlinewidth": 0,
              "ticks": ""
             }
            },
            "type": "scatterpolar"
           }
          ],
          "scatterpolargl": [
           {
            "marker": {
             "colorbar": {
              "outlinewidth": 0,
              "ticks": ""
             }
            },
            "type": "scatterpolargl"
           }
          ],
          "scatterternary": [
           {
            "marker": {
             "colorbar": {
              "outlinewidth": 0,
              "ticks": ""
             }
            },
            "type": "scatterternary"
           }
          ],
          "surface": [
           {
            "colorbar": {
             "outlinewidth": 0,
             "ticks": ""
            },
            "colorscale": [
             [
              0,
              "#0d0887"
             ],
             [
              0.1111111111111111,
              "#46039f"
             ],
             [
              0.2222222222222222,
              "#7201a8"
             ],
             [
              0.3333333333333333,
              "#9c179e"
             ],
             [
              0.4444444444444444,
              "#bd3786"
             ],
             [
              0.5555555555555556,
              "#d8576b"
             ],
             [
              0.6666666666666666,
              "#ed7953"
             ],
             [
              0.7777777777777778,
              "#fb9f3a"
             ],
             [
              0.8888888888888888,
              "#fdca26"
             ],
             [
              1,
              "#f0f921"
             ]
            ],
            "type": "surface"
           }
          ],
          "table": [
           {
            "cells": {
             "fill": {
              "color": "#EBF0F8"
             },
             "line": {
              "color": "white"
             }
            },
            "header": {
             "fill": {
              "color": "#C8D4E3"
             },
             "line": {
              "color": "white"
             }
            },
            "type": "table"
           }
          ]
         },
         "layout": {
          "annotationdefaults": {
           "arrowcolor": "#2a3f5f",
           "arrowhead": 0,
           "arrowwidth": 1
          },
          "autotypenumbers": "strict",
          "coloraxis": {
           "colorbar": {
            "outlinewidth": 0,
            "ticks": ""
           }
          },
          "colorscale": {
           "diverging": [
            [
             0,
             "#8e0152"
            ],
            [
             0.1,
             "#c51b7d"
            ],
            [
             0.2,
             "#de77ae"
            ],
            [
             0.3,
             "#f1b6da"
            ],
            [
             0.4,
             "#fde0ef"
            ],
            [
             0.5,
             "#f7f7f7"
            ],
            [
             0.6,
             "#e6f5d0"
            ],
            [
             0.7,
             "#b8e186"
            ],
            [
             0.8,
             "#7fbc41"
            ],
            [
             0.9,
             "#4d9221"
            ],
            [
             1,
             "#276419"
            ]
           ],
           "sequential": [
            [
             0,
             "#0d0887"
            ],
            [
             0.1111111111111111,
             "#46039f"
            ],
            [
             0.2222222222222222,
             "#7201a8"
            ],
            [
             0.3333333333333333,
             "#9c179e"
            ],
            [
             0.4444444444444444,
             "#bd3786"
            ],
            [
             0.5555555555555556,
             "#d8576b"
            ],
            [
             0.6666666666666666,
             "#ed7953"
            ],
            [
             0.7777777777777778,
             "#fb9f3a"
            ],
            [
             0.8888888888888888,
             "#fdca26"
            ],
            [
             1,
             "#f0f921"
            ]
           ],
           "sequentialminus": [
            [
             0,
             "#0d0887"
            ],
            [
             0.1111111111111111,
             "#46039f"
            ],
            [
             0.2222222222222222,
             "#7201a8"
            ],
            [
             0.3333333333333333,
             "#9c179e"
            ],
            [
             0.4444444444444444,
             "#bd3786"
            ],
            [
             0.5555555555555556,
             "#d8576b"
            ],
            [
             0.6666666666666666,
             "#ed7953"
            ],
            [
             0.7777777777777778,
             "#fb9f3a"
            ],
            [
             0.8888888888888888,
             "#fdca26"
            ],
            [
             1,
             "#f0f921"
            ]
           ]
          },
          "colorway": [
           "#636efa",
           "#EF553B",
           "#00cc96",
           "#ab63fa",
           "#FFA15A",
           "#19d3f3",
           "#FF6692",
           "#B6E880",
           "#FF97FF",
           "#FECB52"
          ],
          "font": {
           "color": "#2a3f5f"
          },
          "geo": {
           "bgcolor": "white",
           "lakecolor": "white",
           "landcolor": "#E5ECF6",
           "showlakes": true,
           "showland": true,
           "subunitcolor": "white"
          },
          "hoverlabel": {
           "align": "left"
          },
          "hovermode": "closest",
          "mapbox": {
           "style": "light"
          },
          "paper_bgcolor": "white",
          "plot_bgcolor": "#E5ECF6",
          "polar": {
           "angularaxis": {
            "gridcolor": "white",
            "linecolor": "white",
            "ticks": ""
           },
           "bgcolor": "#E5ECF6",
           "radialaxis": {
            "gridcolor": "white",
            "linecolor": "white",
            "ticks": ""
           }
          },
          "scene": {
           "xaxis": {
            "backgroundcolor": "#E5ECF6",
            "gridcolor": "white",
            "gridwidth": 2,
            "linecolor": "white",
            "showbackground": true,
            "ticks": "",
            "zerolinecolor": "white"
           },
           "yaxis": {
            "backgroundcolor": "#E5ECF6",
            "gridcolor": "white",
            "gridwidth": 2,
            "linecolor": "white",
            "showbackground": true,
            "ticks": "",
            "zerolinecolor": "white"
           },
           "zaxis": {
            "backgroundcolor": "#E5ECF6",
            "gridcolor": "white",
            "gridwidth": 2,
            "linecolor": "white",
            "showbackground": true,
            "ticks": "",
            "zerolinecolor": "white"
           }
          },
          "shapedefaults": {
           "line": {
            "color": "#2a3f5f"
           }
          },
          "ternary": {
           "aaxis": {
            "gridcolor": "white",
            "linecolor": "white",
            "ticks": ""
           },
           "baxis": {
            "gridcolor": "white",
            "linecolor": "white",
            "ticks": ""
           },
           "bgcolor": "#E5ECF6",
           "caxis": {
            "gridcolor": "white",
            "linecolor": "white",
            "ticks": ""
           }
          },
          "title": {
           "x": 0.05
          },
          "xaxis": {
           "automargin": true,
           "gridcolor": "white",
           "linecolor": "white",
           "ticks": "",
           "title": {
            "standoff": 15
           },
           "zerolinecolor": "white",
           "zerolinewidth": 2
          },
          "yaxis": {
           "automargin": true,
           "gridcolor": "white",
           "linecolor": "white",
           "ticks": "",
           "title": {
            "standoff": 15
           },
           "zerolinecolor": "white",
           "zerolinewidth": 2
          }
         }
        }
       }
      }
     },
     "metadata": {},
     "output_type": "display_data"
    }
   ],
   "source": [
    "fig = go.Figure()\n",
    "fig.add_trace(go.Bar(\n",
    "    x=grp_monthly_df[\"year_month\"], y=grp_monthly_df[\"Glance Views\"],\n",
    "))\n",
    "fig.show()"
   ]
  },
  {
   "cell_type": "code",
   "execution_count": 85,
   "metadata": {},
   "outputs": [
    {
     "data": {
      "application/vnd.plotly.v1+json": {
       "config": {
        "plotlyServerURL": "https://plot.ly"
       },
       "data": [
        {
         "type": "bar",
         "x": [
          "2020_8",
          "2020_9",
          "2020_10",
          "2020_11",
          "2020_12",
          "2021_1",
          "2021_2",
          "2021_3",
          "2021_4",
          "2021_5",
          "2021_6",
          "2021_7",
          "2021_8",
          "2021_9",
          "2021_10",
          "2021_11"
         ],
         "y": [
          0.061471374483361776,
          0.0930865824496587,
          0.09155388427657789,
          0.08414371770963303,
          0.0900894809425968,
          0.08991447826060606,
          0.09876404412320917,
          0.1092452525707134,
          0.10458225804095563,
          0.09901559440399593,
          0.09417556495955473,
          0.08673745762437186,
          0.08192156833164685,
          0.11771574051774752,
          0.08155071384956654,
          0.4621012576214099
         ]
        }
       ],
       "layout": {
        "template": {
         "data": {
          "bar": [
           {
            "error_x": {
             "color": "#2a3f5f"
            },
            "error_y": {
             "color": "#2a3f5f"
            },
            "marker": {
             "line": {
              "color": "#E5ECF6",
              "width": 0.5
             },
             "pattern": {
              "fillmode": "overlay",
              "size": 10,
              "solidity": 0.2
             }
            },
            "type": "bar"
           }
          ],
          "barpolar": [
           {
            "marker": {
             "line": {
              "color": "#E5ECF6",
              "width": 0.5
             },
             "pattern": {
              "fillmode": "overlay",
              "size": 10,
              "solidity": 0.2
             }
            },
            "type": "barpolar"
           }
          ],
          "carpet": [
           {
            "aaxis": {
             "endlinecolor": "#2a3f5f",
             "gridcolor": "white",
             "linecolor": "white",
             "minorgridcolor": "white",
             "startlinecolor": "#2a3f5f"
            },
            "baxis": {
             "endlinecolor": "#2a3f5f",
             "gridcolor": "white",
             "linecolor": "white",
             "minorgridcolor": "white",
             "startlinecolor": "#2a3f5f"
            },
            "type": "carpet"
           }
          ],
          "choropleth": [
           {
            "colorbar": {
             "outlinewidth": 0,
             "ticks": ""
            },
            "type": "choropleth"
           }
          ],
          "contour": [
           {
            "colorbar": {
             "outlinewidth": 0,
             "ticks": ""
            },
            "colorscale": [
             [
              0,
              "#0d0887"
             ],
             [
              0.1111111111111111,
              "#46039f"
             ],
             [
              0.2222222222222222,
              "#7201a8"
             ],
             [
              0.3333333333333333,
              "#9c179e"
             ],
             [
              0.4444444444444444,
              "#bd3786"
             ],
             [
              0.5555555555555556,
              "#d8576b"
             ],
             [
              0.6666666666666666,
              "#ed7953"
             ],
             [
              0.7777777777777778,
              "#fb9f3a"
             ],
             [
              0.8888888888888888,
              "#fdca26"
             ],
             [
              1,
              "#f0f921"
             ]
            ],
            "type": "contour"
           }
          ],
          "contourcarpet": [
           {
            "colorbar": {
             "outlinewidth": 0,
             "ticks": ""
            },
            "type": "contourcarpet"
           }
          ],
          "heatmap": [
           {
            "colorbar": {
             "outlinewidth": 0,
             "ticks": ""
            },
            "colorscale": [
             [
              0,
              "#0d0887"
             ],
             [
              0.1111111111111111,
              "#46039f"
             ],
             [
              0.2222222222222222,
              "#7201a8"
             ],
             [
              0.3333333333333333,
              "#9c179e"
             ],
             [
              0.4444444444444444,
              "#bd3786"
             ],
             [
              0.5555555555555556,
              "#d8576b"
             ],
             [
              0.6666666666666666,
              "#ed7953"
             ],
             [
              0.7777777777777778,
              "#fb9f3a"
             ],
             [
              0.8888888888888888,
              "#fdca26"
             ],
             [
              1,
              "#f0f921"
             ]
            ],
            "type": "heatmap"
           }
          ],
          "heatmapgl": [
           {
            "colorbar": {
             "outlinewidth": 0,
             "ticks": ""
            },
            "colorscale": [
             [
              0,
              "#0d0887"
             ],
             [
              0.1111111111111111,
              "#46039f"
             ],
             [
              0.2222222222222222,
              "#7201a8"
             ],
             [
              0.3333333333333333,
              "#9c179e"
             ],
             [
              0.4444444444444444,
              "#bd3786"
             ],
             [
              0.5555555555555556,
              "#d8576b"
             ],
             [
              0.6666666666666666,
              "#ed7953"
             ],
             [
              0.7777777777777778,
              "#fb9f3a"
             ],
             [
              0.8888888888888888,
              "#fdca26"
             ],
             [
              1,
              "#f0f921"
             ]
            ],
            "type": "heatmapgl"
           }
          ],
          "histogram": [
           {
            "marker": {
             "pattern": {
              "fillmode": "overlay",
              "size": 10,
              "solidity": 0.2
             }
            },
            "type": "histogram"
           }
          ],
          "histogram2d": [
           {
            "colorbar": {
             "outlinewidth": 0,
             "ticks": ""
            },
            "colorscale": [
             [
              0,
              "#0d0887"
             ],
             [
              0.1111111111111111,
              "#46039f"
             ],
             [
              0.2222222222222222,
              "#7201a8"
             ],
             [
              0.3333333333333333,
              "#9c179e"
             ],
             [
              0.4444444444444444,
              "#bd3786"
             ],
             [
              0.5555555555555556,
              "#d8576b"
             ],
             [
              0.6666666666666666,
              "#ed7953"
             ],
             [
              0.7777777777777778,
              "#fb9f3a"
             ],
             [
              0.8888888888888888,
              "#fdca26"
             ],
             [
              1,
              "#f0f921"
             ]
            ],
            "type": "histogram2d"
           }
          ],
          "histogram2dcontour": [
           {
            "colorbar": {
             "outlinewidth": 0,
             "ticks": ""
            },
            "colorscale": [
             [
              0,
              "#0d0887"
             ],
             [
              0.1111111111111111,
              "#46039f"
             ],
             [
              0.2222222222222222,
              "#7201a8"
             ],
             [
              0.3333333333333333,
              "#9c179e"
             ],
             [
              0.4444444444444444,
              "#bd3786"
             ],
             [
              0.5555555555555556,
              "#d8576b"
             ],
             [
              0.6666666666666666,
              "#ed7953"
             ],
             [
              0.7777777777777778,
              "#fb9f3a"
             ],
             [
              0.8888888888888888,
              "#fdca26"
             ],
             [
              1,
              "#f0f921"
             ]
            ],
            "type": "histogram2dcontour"
           }
          ],
          "mesh3d": [
           {
            "colorbar": {
             "outlinewidth": 0,
             "ticks": ""
            },
            "type": "mesh3d"
           }
          ],
          "parcoords": [
           {
            "line": {
             "colorbar": {
              "outlinewidth": 0,
              "ticks": ""
             }
            },
            "type": "parcoords"
           }
          ],
          "pie": [
           {
            "automargin": true,
            "type": "pie"
           }
          ],
          "scatter": [
           {
            "marker": {
             "colorbar": {
              "outlinewidth": 0,
              "ticks": ""
             }
            },
            "type": "scatter"
           }
          ],
          "scatter3d": [
           {
            "line": {
             "colorbar": {
              "outlinewidth": 0,
              "ticks": ""
             }
            },
            "marker": {
             "colorbar": {
              "outlinewidth": 0,
              "ticks": ""
             }
            },
            "type": "scatter3d"
           }
          ],
          "scattercarpet": [
           {
            "marker": {
             "colorbar": {
              "outlinewidth": 0,
              "ticks": ""
             }
            },
            "type": "scattercarpet"
           }
          ],
          "scattergeo": [
           {
            "marker": {
             "colorbar": {
              "outlinewidth": 0,
              "ticks": ""
             }
            },
            "type": "scattergeo"
           }
          ],
          "scattergl": [
           {
            "marker": {
             "colorbar": {
              "outlinewidth": 0,
              "ticks": ""
             }
            },
            "type": "scattergl"
           }
          ],
          "scattermapbox": [
           {
            "marker": {
             "colorbar": {
              "outlinewidth": 0,
              "ticks": ""
             }
            },
            "type": "scattermapbox"
           }
          ],
          "scatterpolar": [
           {
            "marker": {
             "colorbar": {
              "outlinewidth": 0,
              "ticks": ""
             }
            },
            "type": "scatterpolar"
           }
          ],
          "scatterpolargl": [
           {
            "marker": {
             "colorbar": {
              "outlinewidth": 0,
              "ticks": ""
             }
            },
            "type": "scatterpolargl"
           }
          ],
          "scatterternary": [
           {
            "marker": {
             "colorbar": {
              "outlinewidth": 0,
              "ticks": ""
             }
            },
            "type": "scatterternary"
           }
          ],
          "surface": [
           {
            "colorbar": {
             "outlinewidth": 0,
             "ticks": ""
            },
            "colorscale": [
             [
              0,
              "#0d0887"
             ],
             [
              0.1111111111111111,
              "#46039f"
             ],
             [
              0.2222222222222222,
              "#7201a8"
             ],
             [
              0.3333333333333333,
              "#9c179e"
             ],
             [
              0.4444444444444444,
              "#bd3786"
             ],
             [
              0.5555555555555556,
              "#d8576b"
             ],
             [
              0.6666666666666666,
              "#ed7953"
             ],
             [
              0.7777777777777778,
              "#fb9f3a"
             ],
             [
              0.8888888888888888,
              "#fdca26"
             ],
             [
              1,
              "#f0f921"
             ]
            ],
            "type": "surface"
           }
          ],
          "table": [
           {
            "cells": {
             "fill": {
              "color": "#EBF0F8"
             },
             "line": {
              "color": "white"
             }
            },
            "header": {
             "fill": {
              "color": "#C8D4E3"
             },
             "line": {
              "color": "white"
             }
            },
            "type": "table"
           }
          ]
         },
         "layout": {
          "annotationdefaults": {
           "arrowcolor": "#2a3f5f",
           "arrowhead": 0,
           "arrowwidth": 1
          },
          "autotypenumbers": "strict",
          "coloraxis": {
           "colorbar": {
            "outlinewidth": 0,
            "ticks": ""
           }
          },
          "colorscale": {
           "diverging": [
            [
             0,
             "#8e0152"
            ],
            [
             0.1,
             "#c51b7d"
            ],
            [
             0.2,
             "#de77ae"
            ],
            [
             0.3,
             "#f1b6da"
            ],
            [
             0.4,
             "#fde0ef"
            ],
            [
             0.5,
             "#f7f7f7"
            ],
            [
             0.6,
             "#e6f5d0"
            ],
            [
             0.7,
             "#b8e186"
            ],
            [
             0.8,
             "#7fbc41"
            ],
            [
             0.9,
             "#4d9221"
            ],
            [
             1,
             "#276419"
            ]
           ],
           "sequential": [
            [
             0,
             "#0d0887"
            ],
            [
             0.1111111111111111,
             "#46039f"
            ],
            [
             0.2222222222222222,
             "#7201a8"
            ],
            [
             0.3333333333333333,
             "#9c179e"
            ],
            [
             0.4444444444444444,
             "#bd3786"
            ],
            [
             0.5555555555555556,
             "#d8576b"
            ],
            [
             0.6666666666666666,
             "#ed7953"
            ],
            [
             0.7777777777777778,
             "#fb9f3a"
            ],
            [
             0.8888888888888888,
             "#fdca26"
            ],
            [
             1,
             "#f0f921"
            ]
           ],
           "sequentialminus": [
            [
             0,
             "#0d0887"
            ],
            [
             0.1111111111111111,
             "#46039f"
            ],
            [
             0.2222222222222222,
             "#7201a8"
            ],
            [
             0.3333333333333333,
             "#9c179e"
            ],
            [
             0.4444444444444444,
             "#bd3786"
            ],
            [
             0.5555555555555556,
             "#d8576b"
            ],
            [
             0.6666666666666666,
             "#ed7953"
            ],
            [
             0.7777777777777778,
             "#fb9f3a"
            ],
            [
             0.8888888888888888,
             "#fdca26"
            ],
            [
             1,
             "#f0f921"
            ]
           ]
          },
          "colorway": [
           "#636efa",
           "#EF553B",
           "#00cc96",
           "#ab63fa",
           "#FFA15A",
           "#19d3f3",
           "#FF6692",
           "#B6E880",
           "#FF97FF",
           "#FECB52"
          ],
          "font": {
           "color": "#2a3f5f"
          },
          "geo": {
           "bgcolor": "white",
           "lakecolor": "white",
           "landcolor": "#E5ECF6",
           "showlakes": true,
           "showland": true,
           "subunitcolor": "white"
          },
          "hoverlabel": {
           "align": "left"
          },
          "hovermode": "closest",
          "mapbox": {
           "style": "light"
          },
          "paper_bgcolor": "white",
          "plot_bgcolor": "#E5ECF6",
          "polar": {
           "angularaxis": {
            "gridcolor": "white",
            "linecolor": "white",
            "ticks": ""
           },
           "bgcolor": "#E5ECF6",
           "radialaxis": {
            "gridcolor": "white",
            "linecolor": "white",
            "ticks": ""
           }
          },
          "scene": {
           "xaxis": {
            "backgroundcolor": "#E5ECF6",
            "gridcolor": "white",
            "gridwidth": 2,
            "linecolor": "white",
            "showbackground": true,
            "ticks": "",
            "zerolinecolor": "white"
           },
           "yaxis": {
            "backgroundcolor": "#E5ECF6",
            "gridcolor": "white",
            "gridwidth": 2,
            "linecolor": "white",
            "showbackground": true,
            "ticks": "",
            "zerolinecolor": "white"
           },
           "zaxis": {
            "backgroundcolor": "#E5ECF6",
            "gridcolor": "white",
            "gridwidth": 2,
            "linecolor": "white",
            "showbackground": true,
            "ticks": "",
            "zerolinecolor": "white"
           }
          },
          "shapedefaults": {
           "line": {
            "color": "#2a3f5f"
           }
          },
          "ternary": {
           "aaxis": {
            "gridcolor": "white",
            "linecolor": "white",
            "ticks": ""
           },
           "baxis": {
            "gridcolor": "white",
            "linecolor": "white",
            "ticks": ""
           },
           "bgcolor": "#E5ECF6",
           "caxis": {
            "gridcolor": "white",
            "linecolor": "white",
            "ticks": ""
           }
          },
          "title": {
           "x": 0.05
          },
          "xaxis": {
           "automargin": true,
           "gridcolor": "white",
           "linecolor": "white",
           "ticks": "",
           "title": {
            "standoff": 15
           },
           "zerolinecolor": "white",
           "zerolinewidth": 2
          },
          "yaxis": {
           "automargin": true,
           "gridcolor": "white",
           "linecolor": "white",
           "ticks": "",
           "title": {
            "standoff": 15
           },
           "zerolinecolor": "white",
           "zerolinewidth": 2
          }
         }
        }
       }
      }
     },
     "metadata": {},
     "output_type": "display_data"
    }
   ],
   "source": [
    "fig = go.Figure()\n",
    "fig.add_trace(go.Bar(\n",
    "    x=grp_monthly_df[\"year_month\"], y=grp_monthly_df[\"Conversion Rate\"],\n",
    "))\n",
    "fig.show()"
   ]
  },
  {
   "cell_type": "code",
   "execution_count": 19,
   "metadata": {},
   "outputs": [
    {
     "name": "stdout",
     "output_type": "stream",
     "text": [
      "2020_8 14\n",
      "2020_9 14\n",
      "2020_10 14\n",
      "2020_11 14\n",
      "2020_12 21\n",
      "2021_1 21\n",
      "2021_2 21\n",
      "2021_3 21\n",
      "2021_4 22\n",
      "2021_5 22\n",
      "2021_6 23\n",
      "2021_7 23\n",
      "2021_8 29\n",
      "2021_9 30\n",
      "2021_10 30\n",
      "2021_11 30\n"
     ]
    }
   ],
   "source": [
    "# ASINs by Month/Market\n",
    "final_df[\"year_month\"] = final_df[\"year\"].astype(str) + \"_\" + final_df[\"month\"].astype(str)\n",
    "\n",
    "for time in final_df[\"year_month\"].unique():\n",
    "    df = final_df[final_df[\"year_month\"] == time]\n",
    "    print(time, len(df[\"ASIN\"].unique()))"
   ]
  },
  {
   "cell_type": "code",
   "execution_count": 34,
   "metadata": {},
   "outputs": [
    {
     "data": {
      "text/html": [
       "<div>\n",
       "<style scoped>\n",
       "    .dataframe tbody tr th:only-of-type {\n",
       "        vertical-align: middle;\n",
       "    }\n",
       "\n",
       "    .dataframe tbody tr th {\n",
       "        vertical-align: top;\n",
       "    }\n",
       "\n",
       "    .dataframe thead th {\n",
       "        text-align: right;\n",
       "    }\n",
       "</style>\n",
       "<table border=\"1\" class=\"dataframe\">\n",
       "  <thead>\n",
       "    <tr style=\"text-align: right;\">\n",
       "      <th></th>\n",
       "      <th>year</th>\n",
       "      <th>month</th>\n",
       "      <th>Ordered Revenue</th>\n",
       "      <th>Ordered Units</th>\n",
       "      <th>ASP</th>\n",
       "      <th>Glance Views</th>\n",
       "      <th>Conversion Rate</th>\n",
       "      <th>year_month</th>\n",
       "    </tr>\n",
       "  </thead>\n",
       "  <tbody>\n",
       "    <tr>\n",
       "      <th>0</th>\n",
       "      <td>2020</td>\n",
       "      <td>8</td>\n",
       "      <td>37535.10</td>\n",
       "      <td>1137</td>\n",
       "      <td>33.012401</td>\n",
       "      <td>17166.0</td>\n",
       "      <td>0.087317</td>\n",
       "      <td>2020_8</td>\n",
       "    </tr>\n",
       "    <tr>\n",
       "      <th>1</th>\n",
       "      <td>2020</td>\n",
       "      <td>9</td>\n",
       "      <td>35881.02</td>\n",
       "      <td>1425</td>\n",
       "      <td>25.179663</td>\n",
       "      <td>22487.0</td>\n",
       "      <td>0.094885</td>\n",
       "      <td>2020_9</td>\n",
       "    </tr>\n",
       "    <tr>\n",
       "      <th>2</th>\n",
       "      <td>2020</td>\n",
       "      <td>10</td>\n",
       "      <td>79111.74</td>\n",
       "      <td>4254</td>\n",
       "      <td>18.597024</td>\n",
       "      <td>43568.0</td>\n",
       "      <td>0.123918</td>\n",
       "      <td>2020_10</td>\n",
       "    </tr>\n",
       "    <tr>\n",
       "      <th>3</th>\n",
       "      <td>2020</td>\n",
       "      <td>11</td>\n",
       "      <td>276832.88</td>\n",
       "      <td>17938</td>\n",
       "      <td>15.432762</td>\n",
       "      <td>152830.0</td>\n",
       "      <td>0.101580</td>\n",
       "      <td>2020_11</td>\n",
       "    </tr>\n",
       "    <tr>\n",
       "      <th>4</th>\n",
       "      <td>2020</td>\n",
       "      <td>12</td>\n",
       "      <td>98435.40</td>\n",
       "      <td>5398</td>\n",
       "      <td>18.235532</td>\n",
       "      <td>64442.0</td>\n",
       "      <td>0.078886</td>\n",
       "      <td>2020_12</td>\n",
       "    </tr>\n",
       "    <tr>\n",
       "      <th>5</th>\n",
       "      <td>2021</td>\n",
       "      <td>1</td>\n",
       "      <td>52324.17</td>\n",
       "      <td>2730</td>\n",
       "      <td>19.166363</td>\n",
       "      <td>29800.0</td>\n",
       "      <td>0.100458</td>\n",
       "      <td>2021_1</td>\n",
       "    </tr>\n",
       "    <tr>\n",
       "      <th>6</th>\n",
       "      <td>2021</td>\n",
       "      <td>2</td>\n",
       "      <td>30683.43</td>\n",
       "      <td>2016</td>\n",
       "      <td>15.219955</td>\n",
       "      <td>18508.0</td>\n",
       "      <td>0.135413</td>\n",
       "      <td>2021_2</td>\n",
       "    </tr>\n",
       "    <tr>\n",
       "      <th>7</th>\n",
       "      <td>2021</td>\n",
       "      <td>3</td>\n",
       "      <td>41442.02</td>\n",
       "      <td>2553</td>\n",
       "      <td>16.232675</td>\n",
       "      <td>24447.0</td>\n",
       "      <td>0.098992</td>\n",
       "      <td>2021_3</td>\n",
       "    </tr>\n",
       "    <tr>\n",
       "      <th>8</th>\n",
       "      <td>2021</td>\n",
       "      <td>4</td>\n",
       "      <td>15782.91</td>\n",
       "      <td>1167</td>\n",
       "      <td>13.524344</td>\n",
       "      <td>16062.0</td>\n",
       "      <td>0.080444</td>\n",
       "      <td>2021_4</td>\n",
       "    </tr>\n",
       "    <tr>\n",
       "      <th>9</th>\n",
       "      <td>2021</td>\n",
       "      <td>5</td>\n",
       "      <td>21223.41</td>\n",
       "      <td>1302</td>\n",
       "      <td>16.300622</td>\n",
       "      <td>17784.0</td>\n",
       "      <td>0.085646</td>\n",
       "      <td>2021_5</td>\n",
       "    </tr>\n",
       "    <tr>\n",
       "      <th>10</th>\n",
       "      <td>2021</td>\n",
       "      <td>6</td>\n",
       "      <td>52702.49</td>\n",
       "      <td>2495</td>\n",
       "      <td>21.123242</td>\n",
       "      <td>27372.0</td>\n",
       "      <td>0.097759</td>\n",
       "      <td>2021_6</td>\n",
       "    </tr>\n",
       "    <tr>\n",
       "      <th>11</th>\n",
       "      <td>2021</td>\n",
       "      <td>7</td>\n",
       "      <td>41061.19</td>\n",
       "      <td>1972</td>\n",
       "      <td>20.822104</td>\n",
       "      <td>30151.0</td>\n",
       "      <td>0.079584</td>\n",
       "      <td>2021_7</td>\n",
       "    </tr>\n",
       "    <tr>\n",
       "      <th>12</th>\n",
       "      <td>2021</td>\n",
       "      <td>8</td>\n",
       "      <td>20954.33</td>\n",
       "      <td>1193</td>\n",
       "      <td>17.564401</td>\n",
       "      <td>16313.0</td>\n",
       "      <td>0.099865</td>\n",
       "      <td>2021_8</td>\n",
       "    </tr>\n",
       "    <tr>\n",
       "      <th>13</th>\n",
       "      <td>2021</td>\n",
       "      <td>9</td>\n",
       "      <td>23710.96</td>\n",
       "      <td>1562</td>\n",
       "      <td>15.179872</td>\n",
       "      <td>17166.0</td>\n",
       "      <td>0.095028</td>\n",
       "      <td>2021_9</td>\n",
       "    </tr>\n",
       "    <tr>\n",
       "      <th>14</th>\n",
       "      <td>2021</td>\n",
       "      <td>10</td>\n",
       "      <td>46027.49</td>\n",
       "      <td>2594</td>\n",
       "      <td>17.743828</td>\n",
       "      <td>26731.0</td>\n",
       "      <td>0.097465</td>\n",
       "      <td>2021_10</td>\n",
       "    </tr>\n",
       "    <tr>\n",
       "      <th>15</th>\n",
       "      <td>2021</td>\n",
       "      <td>11</td>\n",
       "      <td>11129.64</td>\n",
       "      <td>484</td>\n",
       "      <td>22.995124</td>\n",
       "      <td>7053.0</td>\n",
       "      <td>0.092095</td>\n",
       "      <td>2021_11</td>\n",
       "    </tr>\n",
       "  </tbody>\n",
       "</table>\n",
       "</div>"
      ],
      "text/plain": [
       "    year  month  Ordered Revenue  Ordered Units        ASP  Glance Views  \\\n",
       "0   2020      8         37535.10           1137  33.012401       17166.0   \n",
       "1   2020      9         35881.02           1425  25.179663       22487.0   \n",
       "2   2020     10         79111.74           4254  18.597024       43568.0   \n",
       "3   2020     11        276832.88          17938  15.432762      152830.0   \n",
       "4   2020     12         98435.40           5398  18.235532       64442.0   \n",
       "5   2021      1         52324.17           2730  19.166363       29800.0   \n",
       "6   2021      2         30683.43           2016  15.219955       18508.0   \n",
       "7   2021      3         41442.02           2553  16.232675       24447.0   \n",
       "8   2021      4         15782.91           1167  13.524344       16062.0   \n",
       "9   2021      5         21223.41           1302  16.300622       17784.0   \n",
       "10  2021      6         52702.49           2495  21.123242       27372.0   \n",
       "11  2021      7         41061.19           1972  20.822104       30151.0   \n",
       "12  2021      8         20954.33           1193  17.564401       16313.0   \n",
       "13  2021      9         23710.96           1562  15.179872       17166.0   \n",
       "14  2021     10         46027.49           2594  17.743828       26731.0   \n",
       "15  2021     11         11129.64            484  22.995124        7053.0   \n",
       "\n",
       "    Conversion Rate year_month  \n",
       "0          0.087317     2020_8  \n",
       "1          0.094885     2020_9  \n",
       "2          0.123918    2020_10  \n",
       "3          0.101580    2020_11  \n",
       "4          0.078886    2020_12  \n",
       "5          0.100458     2021_1  \n",
       "6          0.135413     2021_2  \n",
       "7          0.098992     2021_3  \n",
       "8          0.080444     2021_4  \n",
       "9          0.085646     2021_5  \n",
       "10         0.097759     2021_6  \n",
       "11         0.079584     2021_7  \n",
       "12         0.099865     2021_8  \n",
       "13         0.095028     2021_9  \n",
       "14         0.097465    2021_10  \n",
       "15         0.092095    2021_11  "
      ]
     },
     "execution_count": 34,
     "metadata": {},
     "output_type": "execute_result"
    }
   ],
   "source": [
    "de = final_df[final_df[\"Country\"] == \"NL\"]\n",
    "grp_monthly_df = de.groupby([\"year\", \"month\"]).agg({'Ordered Revenue':'sum', 'Ordered Units':'sum', 'ASP':'mean', 'Glance Views':'sum', \"Conversion Rate\": \"mean\"}).reset_index()\n",
    "grp_monthly_df[\"ASP\"] = grp_monthly_df[\"Ordered Revenue\"] / grp_monthly_df[\"Ordered Units\"]\n",
    "grp_monthly_df[\"year_month\"] = grp_monthly_df[\"year\"].astype(str) + \"_\" + grp_monthly_df[\"month\"].astype(str)\n",
    "grp_monthly_df"
   ]
  },
  {
   "cell_type": "code",
   "execution_count": 28,
   "metadata": {},
   "outputs": [
    {
     "data": {
      "text/html": [
       "<div>\n",
       "<style scoped>\n",
       "    .dataframe tbody tr th:only-of-type {\n",
       "        vertical-align: middle;\n",
       "    }\n",
       "\n",
       "    .dataframe tbody tr th {\n",
       "        vertical-align: top;\n",
       "    }\n",
       "\n",
       "    .dataframe thead th {\n",
       "        text-align: right;\n",
       "    }\n",
       "</style>\n",
       "<table border=\"1\" class=\"dataframe\">\n",
       "  <thead>\n",
       "    <tr style=\"text-align: right;\">\n",
       "      <th></th>\n",
       "      <th>ASIN</th>\n",
       "      <th>Product Title</th>\n",
       "      <th>Ordered Revenue</th>\n",
       "      <th>Ordered Units</th>\n",
       "      <th>Average Sales Price</th>\n",
       "      <th>Glance Views</th>\n",
       "      <th>Conversion Rate</th>\n",
       "      <th>Country</th>\n",
       "      <th>Date</th>\n",
       "      <th>ID</th>\n",
       "      <th>...</th>\n",
       "      <th>top_theme</th>\n",
       "      <th>super_segment</th>\n",
       "      <th>Unnamed: 17</th>\n",
       "      <th>rrp_lead_range_eur</th>\n",
       "      <th>price_range</th>\n",
       "      <th>week</th>\n",
       "      <th>month</th>\n",
       "      <th>year</th>\n",
       "      <th>ASP</th>\n",
       "      <th>year_month</th>\n",
       "    </tr>\n",
       "  </thead>\n",
       "  <tbody>\n",
       "    <tr>\n",
       "      <th>0</th>\n",
       "      <td>B082WDQHZQ</td>\n",
       "      <td>LEGO 71360 Super Mario Abenteuer mit Mario – S...</td>\n",
       "      <td>37998.37</td>\n",
       "      <td>938</td>\n",
       "      <td>40.509989</td>\n",
       "      <td>29410.0</td>\n",
       "      <td>0.031894</td>\n",
       "      <td>DE</td>\n",
       "      <td>2020-08-01</td>\n",
       "      <td>B082WDQHZQ_DE_01/08/2020</td>\n",
       "      <td>...</td>\n",
       "      <td>SUPER MARIO</td>\n",
       "      <td>Boys</td>\n",
       "      <td>59.99</td>\n",
       "      <td>&lt;80 EUR</td>\n",
       "      <td>MPP</td>\n",
       "      <td>31</td>\n",
       "      <td>8</td>\n",
       "      <td>2020</td>\n",
       "      <td>40.509989</td>\n",
       "      <td>2020_8</td>\n",
       "    </tr>\n",
       "    <tr>\n",
       "      <th>1</th>\n",
       "      <td>B082WF8MVV</td>\n",
       "      <td>LEGO 71369 Super Mario Bowsers Festung – Erwei...</td>\n",
       "      <td>9123.23</td>\n",
       "      <td>109</td>\n",
       "      <td>83.699358</td>\n",
       "      <td>6049.0</td>\n",
       "      <td>0.018020</td>\n",
       "      <td>DE</td>\n",
       "      <td>2020-08-01</td>\n",
       "      <td>B082WF8MVV_DE_01/08/2020</td>\n",
       "      <td>...</td>\n",
       "      <td>SUPER MARIO</td>\n",
       "      <td>Boys</td>\n",
       "      <td>99.99</td>\n",
       "      <td>&lt;150 EUR</td>\n",
       "      <td>HPP</td>\n",
       "      <td>31</td>\n",
       "      <td>8</td>\n",
       "      <td>2020</td>\n",
       "      <td>83.699358</td>\n",
       "      <td>2020_8</td>\n",
       "    </tr>\n",
       "    <tr>\n",
       "      <th>2</th>\n",
       "      <td>B082WF8MB5</td>\n",
       "      <td>LEGO 71367 Super Mario Marios Haus und Yoshi –...</td>\n",
       "      <td>5348.33</td>\n",
       "      <td>216</td>\n",
       "      <td>24.760787</td>\n",
       "      <td>4500.0</td>\n",
       "      <td>0.048000</td>\n",
       "      <td>DE</td>\n",
       "      <td>2020-08-01</td>\n",
       "      <td>B082WF8MB5_DE_01/08/2020</td>\n",
       "      <td>...</td>\n",
       "      <td>SUPER MARIO</td>\n",
       "      <td>Boys</td>\n",
       "      <td>29.99</td>\n",
       "      <td>&lt;50 EUR</td>\n",
       "      <td>LPP</td>\n",
       "      <td>31</td>\n",
       "      <td>8</td>\n",
       "      <td>2020</td>\n",
       "      <td>24.760787</td>\n",
       "      <td>2020_8</td>\n",
       "    </tr>\n",
       "    <tr>\n",
       "      <th>3</th>\n",
       "      <td>B082WF7Z4Q</td>\n",
       "      <td>LEGO 71362 Super Mario Bewachte Festung – Erwe...</td>\n",
       "      <td>3360.80</td>\n",
       "      <td>80</td>\n",
       "      <td>42.010000</td>\n",
       "      <td>5529.0</td>\n",
       "      <td>0.014469</td>\n",
       "      <td>DE</td>\n",
       "      <td>2020-08-01</td>\n",
       "      <td>B082WF7Z4Q_DE_01/08/2020</td>\n",
       "      <td>...</td>\n",
       "      <td>SUPER MARIO</td>\n",
       "      <td>Boys</td>\n",
       "      <td>49.99</td>\n",
       "      <td>&lt;50 EUR</td>\n",
       "      <td>LPP</td>\n",
       "      <td>31</td>\n",
       "      <td>8</td>\n",
       "      <td>2020</td>\n",
       "      <td>42.010000</td>\n",
       "      <td>2020_8</td>\n",
       "    </tr>\n",
       "    <tr>\n",
       "      <th>4</th>\n",
       "      <td>B082WDZM4T</td>\n",
       "      <td>LEGO 71368 Super Mario Toads Schatzsuche – Erw...</td>\n",
       "      <td>2661.91</td>\n",
       "      <td>40</td>\n",
       "      <td>66.547750</td>\n",
       "      <td>2233.0</td>\n",
       "      <td>0.017913</td>\n",
       "      <td>DE</td>\n",
       "      <td>2020-08-01</td>\n",
       "      <td>B082WDZM4T_DE_01/08/2020</td>\n",
       "      <td>...</td>\n",
       "      <td>SUPER MARIO</td>\n",
       "      <td>Boys</td>\n",
       "      <td>79.99</td>\n",
       "      <td>&lt;80 EUR</td>\n",
       "      <td>MPP</td>\n",
       "      <td>31</td>\n",
       "      <td>8</td>\n",
       "      <td>2020</td>\n",
       "      <td>66.547750</td>\n",
       "      <td>2020_8</td>\n",
       "    </tr>\n",
       "    <tr>\n",
       "      <th>...</th>\n",
       "      <td>...</td>\n",
       "      <td>...</td>\n",
       "      <td>...</td>\n",
       "      <td>...</td>\n",
       "      <td>...</td>\n",
       "      <td>...</td>\n",
       "      <td>...</td>\n",
       "      <td>...</td>\n",
       "      <td>...</td>\n",
       "      <td>...</td>\n",
       "      <td>...</td>\n",
       "      <td>...</td>\n",
       "      <td>...</td>\n",
       "      <td>...</td>\n",
       "      <td>...</td>\n",
       "      <td>...</td>\n",
       "      <td>...</td>\n",
       "      <td>...</td>\n",
       "      <td>...</td>\n",
       "      <td>...</td>\n",
       "      <td>...</td>\n",
       "    </tr>\n",
       "    <tr>\n",
       "      <th>2386</th>\n",
       "      <td>B082WCVTVR</td>\n",
       "      <td>LEGO 71370 Super Mario Feuer-Mario - Anzug, Er...</td>\n",
       "      <td>509.32</td>\n",
       "      <td>68</td>\n",
       "      <td>7.490000</td>\n",
       "      <td>505.0</td>\n",
       "      <td>0.134653</td>\n",
       "      <td>DE</td>\n",
       "      <td>2020-08-31</td>\n",
       "      <td>B082WCVTVR_DE_31/08/2020</td>\n",
       "      <td>...</td>\n",
       "      <td>SUPER MARIO</td>\n",
       "      <td>Boys</td>\n",
       "      <td>9.99</td>\n",
       "      <td>&lt;10 EUR</td>\n",
       "      <td>LPP</td>\n",
       "      <td>36</td>\n",
       "      <td>8</td>\n",
       "      <td>2020</td>\n",
       "      <td>7.490000</td>\n",
       "      <td>2020_8</td>\n",
       "    </tr>\n",
       "    <tr>\n",
       "      <th>2387</th>\n",
       "      <td>B082WDX6F8</td>\n",
       "      <td>LEGO 71371 Super Mario Propeller-Mario - Anzug...</td>\n",
       "      <td>477.40</td>\n",
       "      <td>62</td>\n",
       "      <td>7.700000</td>\n",
       "      <td>536.0</td>\n",
       "      <td>0.115672</td>\n",
       "      <td>DE</td>\n",
       "      <td>2020-08-31</td>\n",
       "      <td>B082WDX6F8_DE_31/08/2020</td>\n",
       "      <td>...</td>\n",
       "      <td>SUPER MARIO</td>\n",
       "      <td>Boys</td>\n",
       "      <td>9.99</td>\n",
       "      <td>&lt;10 EUR</td>\n",
       "      <td>LPP</td>\n",
       "      <td>36</td>\n",
       "      <td>8</td>\n",
       "      <td>2020</td>\n",
       "      <td>7.700000</td>\n",
       "      <td>2020_8</td>\n",
       "    </tr>\n",
       "    <tr>\n",
       "      <th>2388</th>\n",
       "      <td>B082WD5BV6</td>\n",
       "      <td>LEGO 71372 Super Mario Katzen-Mario - Anzug, E...</td>\n",
       "      <td>458.85</td>\n",
       "      <td>61</td>\n",
       "      <td>7.522131</td>\n",
       "      <td>430.0</td>\n",
       "      <td>0.141860</td>\n",
       "      <td>DE</td>\n",
       "      <td>2020-08-31</td>\n",
       "      <td>B082WD5BV6_DE_31/08/2020</td>\n",
       "      <td>...</td>\n",
       "      <td>SUPER MARIO</td>\n",
       "      <td>Boys</td>\n",
       "      <td>9.99</td>\n",
       "      <td>&lt;10 EUR</td>\n",
       "      <td>LPP</td>\n",
       "      <td>36</td>\n",
       "      <td>8</td>\n",
       "      <td>2020</td>\n",
       "      <td>7.522131</td>\n",
       "      <td>2020_8</td>\n",
       "    </tr>\n",
       "    <tr>\n",
       "      <th>2389</th>\n",
       "      <td>B082WDYKC2</td>\n",
       "      <td>LEGO 71373 Super Mario Baumeister-Mario - Anzu...</td>\n",
       "      <td>258.85</td>\n",
       "      <td>31</td>\n",
       "      <td>8.350000</td>\n",
       "      <td>330.0</td>\n",
       "      <td>0.093939</td>\n",
       "      <td>DE</td>\n",
       "      <td>2020-08-31</td>\n",
       "      <td>B082WDYKC2_DE_31/08/2020</td>\n",
       "      <td>...</td>\n",
       "      <td>SUPER MARIO</td>\n",
       "      <td>Boys</td>\n",
       "      <td>9.99</td>\n",
       "      <td>&lt;10 EUR</td>\n",
       "      <td>LPP</td>\n",
       "      <td>36</td>\n",
       "      <td>8</td>\n",
       "      <td>2020</td>\n",
       "      <td>8.350000</td>\n",
       "      <td>2020_8</td>\n",
       "    </tr>\n",
       "    <tr>\n",
       "      <th>2390</th>\n",
       "      <td>B082WF5QLL</td>\n",
       "      <td>LEGO 71361 Super Mario Mario-Charaktere-Serie</td>\n",
       "      <td>0.00</td>\n",
       "      <td>0</td>\n",
       "      <td>NaN</td>\n",
       "      <td>0.0</td>\n",
       "      <td>NaN</td>\n",
       "      <td>DE</td>\n",
       "      <td>2020-08-31</td>\n",
       "      <td>B082WF5QLL_DE_31/08/2020</td>\n",
       "      <td>...</td>\n",
       "      <td>SUPER MARIO</td>\n",
       "      <td>Boys</td>\n",
       "      <td>3.89</td>\n",
       "      <td>&lt;10 EUR</td>\n",
       "      <td>LPP</td>\n",
       "      <td>36</td>\n",
       "      <td>8</td>\n",
       "      <td>2020</td>\n",
       "      <td>NaN</td>\n",
       "      <td>2020_8</td>\n",
       "    </tr>\n",
       "  </tbody>\n",
       "</table>\n",
       "<p>431 rows × 24 columns</p>\n",
       "</div>"
      ],
      "text/plain": [
       "            ASIN                                      Product Title  \\\n",
       "0     B082WDQHZQ  LEGO 71360 Super Mario Abenteuer mit Mario – S...   \n",
       "1     B082WF8MVV  LEGO 71369 Super Mario Bowsers Festung – Erwei...   \n",
       "2     B082WF8MB5  LEGO 71367 Super Mario Marios Haus und Yoshi –...   \n",
       "3     B082WF7Z4Q  LEGO 71362 Super Mario Bewachte Festung – Erwe...   \n",
       "4     B082WDZM4T  LEGO 71368 Super Mario Toads Schatzsuche – Erw...   \n",
       "...          ...                                                ...   \n",
       "2386  B082WCVTVR  LEGO 71370 Super Mario Feuer-Mario - Anzug, Er...   \n",
       "2387  B082WDX6F8  LEGO 71371 Super Mario Propeller-Mario - Anzug...   \n",
       "2388  B082WD5BV6  LEGO 71372 Super Mario Katzen-Mario - Anzug, E...   \n",
       "2389  B082WDYKC2  LEGO 71373 Super Mario Baumeister-Mario - Anzu...   \n",
       "2390  B082WF5QLL      LEGO 71361 Super Mario Mario-Charaktere-Serie   \n",
       "\n",
       "      Ordered Revenue  Ordered Units  Average Sales Price  Glance Views  \\\n",
       "0            37998.37            938            40.509989       29410.0   \n",
       "1             9123.23            109            83.699358        6049.0   \n",
       "2             5348.33            216            24.760787        4500.0   \n",
       "3             3360.80             80            42.010000        5529.0   \n",
       "4             2661.91             40            66.547750        2233.0   \n",
       "...               ...            ...                  ...           ...   \n",
       "2386           509.32             68             7.490000         505.0   \n",
       "2387           477.40             62             7.700000         536.0   \n",
       "2388           458.85             61             7.522131         430.0   \n",
       "2389           258.85             31             8.350000         330.0   \n",
       "2390             0.00              0                  NaN           0.0   \n",
       "\n",
       "      Conversion Rate Country       Date                        ID  ...  \\\n",
       "0            0.031894      DE 2020-08-01  B082WDQHZQ_DE_01/08/2020  ...   \n",
       "1            0.018020      DE 2020-08-01  B082WF8MVV_DE_01/08/2020  ...   \n",
       "2            0.048000      DE 2020-08-01  B082WF8MB5_DE_01/08/2020  ...   \n",
       "3            0.014469      DE 2020-08-01  B082WF7Z4Q_DE_01/08/2020  ...   \n",
       "4            0.017913      DE 2020-08-01  B082WDZM4T_DE_01/08/2020  ...   \n",
       "...               ...     ...        ...                       ...  ...   \n",
       "2386         0.134653      DE 2020-08-31  B082WCVTVR_DE_31/08/2020  ...   \n",
       "2387         0.115672      DE 2020-08-31  B082WDX6F8_DE_31/08/2020  ...   \n",
       "2388         0.141860      DE 2020-08-31  B082WD5BV6_DE_31/08/2020  ...   \n",
       "2389         0.093939      DE 2020-08-31  B082WDYKC2_DE_31/08/2020  ...   \n",
       "2390              NaN      DE 2020-08-31  B082WF5QLL_DE_31/08/2020  ...   \n",
       "\n",
       "        top_theme  super_segment  Unnamed: 17 rrp_lead_range_eur price_range  \\\n",
       "0     SUPER MARIO           Boys        59.99            <80 EUR         MPP   \n",
       "1     SUPER MARIO           Boys        99.99           <150 EUR         HPP   \n",
       "2     SUPER MARIO           Boys        29.99            <50 EUR         LPP   \n",
       "3     SUPER MARIO           Boys        49.99            <50 EUR         LPP   \n",
       "4     SUPER MARIO           Boys        79.99            <80 EUR         MPP   \n",
       "...           ...            ...          ...                ...         ...   \n",
       "2386  SUPER MARIO           Boys         9.99            <10 EUR         LPP   \n",
       "2387  SUPER MARIO           Boys         9.99            <10 EUR         LPP   \n",
       "2388  SUPER MARIO           Boys         9.99            <10 EUR         LPP   \n",
       "2389  SUPER MARIO           Boys         9.99            <10 EUR         LPP   \n",
       "2390  SUPER MARIO           Boys         3.89            <10 EUR         LPP   \n",
       "\n",
       "     week  month  year        ASP  year_month  \n",
       "0      31      8  2020  40.509989      2020_8  \n",
       "1      31      8  2020  83.699358      2020_8  \n",
       "2      31      8  2020  24.760787      2020_8  \n",
       "3      31      8  2020  42.010000      2020_8  \n",
       "4      31      8  2020  66.547750      2020_8  \n",
       "...   ...    ...   ...        ...         ...  \n",
       "2386   36      8  2020   7.490000      2020_8  \n",
       "2387   36      8  2020   7.700000      2020_8  \n",
       "2388   36      8  2020   7.522131      2020_8  \n",
       "2389   36      8  2020   8.350000      2020_8  \n",
       "2390   36      8  2020        NaN      2020_8  \n",
       "\n",
       "[431 rows x 24 columns]"
      ]
     },
     "execution_count": 28,
     "metadata": {},
     "output_type": "execute_result"
    }
   ],
   "source": [
    "de[de[\"year_month\"] == \"2020_8\"]"
   ]
  },
  {
   "cell_type": "code",
   "execution_count": 23,
   "metadata": {},
   "outputs": [
    {
     "data": {
      "text/html": [
       "<div>\n",
       "<style scoped>\n",
       "    .dataframe tbody tr th:only-of-type {\n",
       "        vertical-align: middle;\n",
       "    }\n",
       "\n",
       "    .dataframe tbody tr th {\n",
       "        vertical-align: top;\n",
       "    }\n",
       "\n",
       "    .dataframe thead th {\n",
       "        text-align: right;\n",
       "    }\n",
       "</style>\n",
       "<table border=\"1\" class=\"dataframe\">\n",
       "  <thead>\n",
       "    <tr style=\"text-align: right;\">\n",
       "      <th></th>\n",
       "      <th>year</th>\n",
       "      <th>month</th>\n",
       "      <th>Ordered Revenue</th>\n",
       "      <th>Ordered Units</th>\n",
       "      <th>ASP</th>\n",
       "      <th>Glance Views</th>\n",
       "      <th>Conversion Rate</th>\n",
       "    </tr>\n",
       "  </thead>\n",
       "  <tbody>\n",
       "    <tr>\n",
       "      <th>0</th>\n",
       "      <td>2020</td>\n",
       "      <td>8</td>\n",
       "      <td>1112415.67</td>\n",
       "      <td>36647</td>\n",
       "      <td>25.449184</td>\n",
       "      <td>1563.060325</td>\n",
       "      <td>0.067282</td>\n",
       "    </tr>\n",
       "    <tr>\n",
       "      <th>1</th>\n",
       "      <td>2020</td>\n",
       "      <td>9</td>\n",
       "      <td>692803.48</td>\n",
       "      <td>26889</td>\n",
       "      <td>22.277647</td>\n",
       "      <td>899.918854</td>\n",
       "      <td>0.133793</td>\n",
       "    </tr>\n",
       "    <tr>\n",
       "      <th>2</th>\n",
       "      <td>2020</td>\n",
       "      <td>10</td>\n",
       "      <td>1089063.90</td>\n",
       "      <td>42590</td>\n",
       "      <td>NaN</td>\n",
       "      <td>680.658986</td>\n",
       "      <td>0.124954</td>\n",
       "    </tr>\n",
       "    <tr>\n",
       "      <th>3</th>\n",
       "      <td>2020</td>\n",
       "      <td>11</td>\n",
       "      <td>1752885.56</td>\n",
       "      <td>61492</td>\n",
       "      <td>NaN</td>\n",
       "      <td>856.019048</td>\n",
       "      <td>0.092070</td>\n",
       "    </tr>\n",
       "    <tr>\n",
       "      <th>4</th>\n",
       "      <td>2020</td>\n",
       "      <td>12</td>\n",
       "      <td>1172306.48</td>\n",
       "      <td>44386</td>\n",
       "      <td>NaN</td>\n",
       "      <td>508.781385</td>\n",
       "      <td>0.105466</td>\n",
       "    </tr>\n",
       "    <tr>\n",
       "      <th>5</th>\n",
       "      <td>2021</td>\n",
       "      <td>1</td>\n",
       "      <td>414511.68</td>\n",
       "      <td>22254</td>\n",
       "      <td>NaN</td>\n",
       "      <td>394.895223</td>\n",
       "      <td>0.106154</td>\n",
       "    </tr>\n",
       "    <tr>\n",
       "      <th>6</th>\n",
       "      <td>2021</td>\n",
       "      <td>2</td>\n",
       "      <td>349633.54</td>\n",
       "      <td>21113</td>\n",
       "      <td>NaN</td>\n",
       "      <td>355.686644</td>\n",
       "      <td>0.118491</td>\n",
       "    </tr>\n",
       "    <tr>\n",
       "      <th>7</th>\n",
       "      <td>2021</td>\n",
       "      <td>3</td>\n",
       "      <td>472137.74</td>\n",
       "      <td>28662</td>\n",
       "      <td>19.411857</td>\n",
       "      <td>434.787167</td>\n",
       "      <td>0.119723</td>\n",
       "    </tr>\n",
       "    <tr>\n",
       "      <th>8</th>\n",
       "      <td>2021</td>\n",
       "      <td>4</td>\n",
       "      <td>160782.83</td>\n",
       "      <td>9311</td>\n",
       "      <td>19.538748</td>\n",
       "      <td>181.755337</td>\n",
       "      <td>0.095831</td>\n",
       "    </tr>\n",
       "    <tr>\n",
       "      <th>9</th>\n",
       "      <td>2021</td>\n",
       "      <td>5</td>\n",
       "      <td>148040.46</td>\n",
       "      <td>8359</td>\n",
       "      <td>25.724835</td>\n",
       "      <td>160.676145</td>\n",
       "      <td>0.096202</td>\n",
       "    </tr>\n",
       "    <tr>\n",
       "      <th>10</th>\n",
       "      <td>2021</td>\n",
       "      <td>6</td>\n",
       "      <td>245059.94</td>\n",
       "      <td>9618</td>\n",
       "      <td>28.795360</td>\n",
       "      <td>241.052734</td>\n",
       "      <td>0.089462</td>\n",
       "    </tr>\n",
       "    <tr>\n",
       "      <th>11</th>\n",
       "      <td>2021</td>\n",
       "      <td>7</td>\n",
       "      <td>188105.35</td>\n",
       "      <td>9152</td>\n",
       "      <td>NaN</td>\n",
       "      <td>167.497623</td>\n",
       "      <td>0.102500</td>\n",
       "    </tr>\n",
       "    <tr>\n",
       "      <th>12</th>\n",
       "      <td>2021</td>\n",
       "      <td>8</td>\n",
       "      <td>555654.90</td>\n",
       "      <td>19530</td>\n",
       "      <td>26.509863</td>\n",
       "      <td>272.211285</td>\n",
       "      <td>0.095640</td>\n",
       "    </tr>\n",
       "    <tr>\n",
       "      <th>13</th>\n",
       "      <td>2021</td>\n",
       "      <td>9</td>\n",
       "      <td>344069.78</td>\n",
       "      <td>10533</td>\n",
       "      <td>NaN</td>\n",
       "      <td>180.722721</td>\n",
       "      <td>0.092401</td>\n",
       "    </tr>\n",
       "    <tr>\n",
       "      <th>14</th>\n",
       "      <td>2021</td>\n",
       "      <td>10</td>\n",
       "      <td>390741.05</td>\n",
       "      <td>13341</td>\n",
       "      <td>28.640129</td>\n",
       "      <td>201.760047</td>\n",
       "      <td>0.097652</td>\n",
       "    </tr>\n",
       "    <tr>\n",
       "      <th>15</th>\n",
       "      <td>2021</td>\n",
       "      <td>11</td>\n",
       "      <td>104276.96</td>\n",
       "      <td>3441</td>\n",
       "      <td>26.976563</td>\n",
       "      <td>494.965116</td>\n",
       "      <td>0.082564</td>\n",
       "    </tr>\n",
       "  </tbody>\n",
       "</table>\n",
       "</div>"
      ],
      "text/plain": [
       "    year  month  Ordered Revenue  Ordered Units        ASP  Glance Views  \\\n",
       "0   2020      8       1112415.67          36647  25.449184   1563.060325   \n",
       "1   2020      9        692803.48          26889  22.277647    899.918854   \n",
       "2   2020     10       1089063.90          42590        NaN    680.658986   \n",
       "3   2020     11       1752885.56          61492        NaN    856.019048   \n",
       "4   2020     12       1172306.48          44386        NaN    508.781385   \n",
       "5   2021      1        414511.68          22254        NaN    394.895223   \n",
       "6   2021      2        349633.54          21113        NaN    355.686644   \n",
       "7   2021      3        472137.74          28662  19.411857    434.787167   \n",
       "8   2021      4        160782.83           9311  19.538748    181.755337   \n",
       "9   2021      5        148040.46           8359  25.724835    160.676145   \n",
       "10  2021      6        245059.94           9618  28.795360    241.052734   \n",
       "11  2021      7        188105.35           9152        NaN    167.497623   \n",
       "12  2021      8        555654.90          19530  26.509863    272.211285   \n",
       "13  2021      9        344069.78          10533        NaN    180.722721   \n",
       "14  2021     10        390741.05          13341  28.640129    201.760047   \n",
       "15  2021     11        104276.96           3441  26.976563    494.965116   \n",
       "\n",
       "    Conversion Rate  \n",
       "0          0.067282  \n",
       "1          0.133793  \n",
       "2          0.124954  \n",
       "3          0.092070  \n",
       "4          0.105466  \n",
       "5          0.106154  \n",
       "6          0.118491  \n",
       "7          0.119723  \n",
       "8          0.095831  \n",
       "9          0.096202  \n",
       "10         0.089462  \n",
       "11         0.102500  \n",
       "12         0.095640  \n",
       "13         0.092401  \n",
       "14         0.097652  \n",
       "15         0.082564  "
      ]
     },
     "execution_count": 23,
     "metadata": {},
     "output_type": "execute_result"
    }
   ],
   "source": [
    "de.groupby([\"year\", \"month\"]).agg({'Ordered Revenue':'sum', 'Ordered Units':'sum', 'ASP':'mean', 'Glance Views':'mean', \"Conversion Rate\": \"mean\"}).reset_index()"
   ]
  }
 ],
 "metadata": {
  "interpreter": {
   "hash": "2421ef479f76be4d0f56dd0ef8c5008563aac21f9c617c72c7bcd97ef30a27da"
  },
  "kernelspec": {
   "display_name": "Python 3.7.1 32-bit ('venv_miscellaneous': venv)",
   "name": "python3"
  },
  "language_info": {
   "codemirror_mode": {
    "name": "ipython",
    "version": 3
   },
   "file_extension": ".py",
   "mimetype": "text/x-python",
   "name": "python",
   "nbconvert_exporter": "python",
   "pygments_lexer": "ipython3",
   "version": "3.7.1"
  },
  "orig_nbformat": 4
 },
 "nbformat": 4,
 "nbformat_minor": 2
}
