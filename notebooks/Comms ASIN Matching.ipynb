{
 "cells": [
  {
   "cell_type": "code",
   "execution_count": 9,
   "outputs": [
    {
     "name": "stdout",
     "output_type": "stream",
     "text": [
      "{'project_id': '3011', 'product_group_id': '4281', 'website_url': 'http://amazon.de'}\n",
      "{'project_id': '1181', 'product_group_id': '3357', 'website_url': 'http://amazon.co.uk'}\n",
      "{'project_id': '3013', 'product_group_id': '4077', 'website_url': 'http://amazon.fr'}\n",
      "{'project_id': '3015', 'product_group_id': '4076', 'website_url': 'http://amazon.es'}\n",
      "{'project_id': '3017', 'product_group_id': '4274', 'website_url': 'http://amazon.it'}\n",
      "{'project_id': '3790', 'product_group_id': '5061', 'website_url': 'amazon.nl'}\n",
      "{'project_id': '3728', 'product_group_id': '4713', 'website_url': 'amazon.se'}\n"
     ]
    }
   ],
   "source": [
    "REGION_DICTIONARY = {\n",
    "        'de': {'project_id': '3011', 'product_group_id': '4281', 'website_url': 'http://amazon.de'},\n",
    "        'uk': {'project_id': '1181', 'product_group_id': '3357', 'website_url': 'http://amazon.co.uk'},\n",
    "        'fr': {'project_id': '3013', 'product_group_id': '4077', 'website_url': 'http://amazon.fr'},\n",
    "        'es': {'project_id': '3015', 'product_group_id': '4076', 'website_url': 'http://amazon.es'},\n",
    "        'it': {'project_id': '3017', 'product_group_id': '4274', 'website_url': 'http://amazon.it'},\n",
    "        'nl': {'project_id': '3790', 'product_group_id': '5061', 'website_url': 'amazon.nl'},\n",
    "        'se': {'project_id': '3728', 'product_group_id': '4713', 'website_url': 'amazon.se'}\n",
    "}\n",
    "\n",
    "\n",
    "\n"
   ],
   "metadata": {
    "collapsed": false,
    "pycharm": {
     "name": "#%%\n"
    }
   }
  },
  {
   "cell_type": "code",
   "execution_count": null,
   "outputs": [],
   "source": [],
   "metadata": {
    "collapsed": false,
    "pycharm": {
     "name": "#%%\n"
    }
   }
  },
  {
   "cell_type": "code",
   "execution_count": 10,
   "outputs": [
    {
     "data": {
      "text/plain": "'3728'"
     },
     "execution_count": 10,
     "metadata": {},
     "output_type": "execute_result"
    }
   ],
   "source": [],
   "metadata": {
    "collapsed": false,
    "pycharm": {
     "name": "#%%\n"
    }
   }
  },
  {
   "cell_type": "markdown",
   "source": [
    "# Comms ASIN Matching"
   ],
   "metadata": {
    "collapsed": false,
    "pycharm": {
     "name": "#%% md\n"
    }
   }
  },
  {
   "cell_type": "code",
   "execution_count": 8,
   "outputs": [],
   "source": [
    "import pandas as pd"
   ],
   "metadata": {
    "collapsed": false,
    "pycharm": {
     "name": "#%%\n"
    }
   }
  },
  {
   "cell_type": "markdown",
   "source": [
    "## ASIN & ASIN Name"
   ],
   "metadata": {
    "collapsed": false,
    "pycharm": {
     "name": "#%% md\n"
    }
   }
  },
  {
   "cell_type": "code",
   "execution_count": 115,
   "outputs": [
    {
     "data": {
      "text/plain": "         asin                                     product_title\n0  024121713X                   LEGO Ninjago Diccionario visual\n1  0241238862  Minifiguras LEGO® año a año: Una historia visual\n2  0241238862                        LEGO Minifiguras año a año\n3  078695535X                           LEGO Harry Potter 10132\n4  1409341771             LEGO® Star Wars. Las crónicas de Yoda",
      "text/html": "<div>\n<style scoped>\n    .dataframe tbody tr th:only-of-type {\n        vertical-align: middle;\n    }\n\n    .dataframe tbody tr th {\n        vertical-align: top;\n    }\n\n    .dataframe thead th {\n        text-align: right;\n    }\n</style>\n<table border=\"1\" class=\"dataframe\">\n  <thead>\n    <tr style=\"text-align: right;\">\n      <th></th>\n      <th>asin</th>\n      <th>product_title</th>\n    </tr>\n  </thead>\n  <tbody>\n    <tr>\n      <th>0</th>\n      <td>024121713X</td>\n      <td>LEGO Ninjago Diccionario visual</td>\n    </tr>\n    <tr>\n      <th>1</th>\n      <td>0241238862</td>\n      <td>Minifiguras LEGO® año a año: Una historia visual</td>\n    </tr>\n    <tr>\n      <th>2</th>\n      <td>0241238862</td>\n      <td>LEGO Minifiguras año a año</td>\n    </tr>\n    <tr>\n      <th>3</th>\n      <td>078695535X</td>\n      <td>LEGO Harry Potter 10132</td>\n    </tr>\n    <tr>\n      <th>4</th>\n      <td>1409341771</td>\n      <td>LEGO® Star Wars. Las crónicas de Yoda</td>\n    </tr>\n  </tbody>\n</table>\n</div>"
     },
     "execution_count": 115,
     "metadata": {},
     "output_type": "execute_result"
    }
   ],
   "source": [
    "asin_name_df = pd.read_csv(r\"C:\\Users\\gbjaudom\\Onedrive - LEGO\\Documents\\python_projects\\miscellaneous\\data\\raw\\asin_asin_name.csv\")\n",
    "asin_name_df.head()"
   ],
   "metadata": {
    "collapsed": false,
    "pycharm": {
     "name": "#%%\n"
    }
   }
  },
  {
   "cell_type": "markdown",
   "source": [
    "## ASIN & Comms Masterfile"
   ],
   "metadata": {
    "collapsed": false,
    "pycharm": {
     "name": "#%% md\n"
    }
   }
  },
  {
   "cell_type": "code",
   "execution_count": 116,
   "outputs": [
    {
     "data": {
      "text/plain": "      file_year  comms  material asin\n133        2022  21056   6333038  NaN\n160        2022  21187   6379577  NaN\n165        2022  21318   6278924  NaN\n167        2022  21321   6301658  NaN\n169        2022  21324   6316436  NaN\n...         ...    ...       ...  ...\n2118       2020  75293   6310257  NaN\n2123       2020  75810   6265596  NaN\n2130       2020  75931   6219616  NaN\n2133       2020  75936   6250530  NaN\n2161       2020  75980   6296655  NaN\n\n[276 rows x 4 columns]",
      "text/html": "<div>\n<style scoped>\n    .dataframe tbody tr th:only-of-type {\n        vertical-align: middle;\n    }\n\n    .dataframe tbody tr th {\n        vertical-align: top;\n    }\n\n    .dataframe thead th {\n        text-align: right;\n    }\n</style>\n<table border=\"1\" class=\"dataframe\">\n  <thead>\n    <tr style=\"text-align: right;\">\n      <th></th>\n      <th>file_year</th>\n      <th>comms</th>\n      <th>material</th>\n      <th>asin</th>\n    </tr>\n  </thead>\n  <tbody>\n    <tr>\n      <th>133</th>\n      <td>2022</td>\n      <td>21056</td>\n      <td>6333038</td>\n      <td>NaN</td>\n    </tr>\n    <tr>\n      <th>160</th>\n      <td>2022</td>\n      <td>21187</td>\n      <td>6379577</td>\n      <td>NaN</td>\n    </tr>\n    <tr>\n      <th>165</th>\n      <td>2022</td>\n      <td>21318</td>\n      <td>6278924</td>\n      <td>NaN</td>\n    </tr>\n    <tr>\n      <th>167</th>\n      <td>2022</td>\n      <td>21321</td>\n      <td>6301658</td>\n      <td>NaN</td>\n    </tr>\n    <tr>\n      <th>169</th>\n      <td>2022</td>\n      <td>21324</td>\n      <td>6316436</td>\n      <td>NaN</td>\n    </tr>\n    <tr>\n      <th>...</th>\n      <td>...</td>\n      <td>...</td>\n      <td>...</td>\n      <td>...</td>\n    </tr>\n    <tr>\n      <th>2118</th>\n      <td>2020</td>\n      <td>75293</td>\n      <td>6310257</td>\n      <td>NaN</td>\n    </tr>\n    <tr>\n      <th>2123</th>\n      <td>2020</td>\n      <td>75810</td>\n      <td>6265596</td>\n      <td>NaN</td>\n    </tr>\n    <tr>\n      <th>2130</th>\n      <td>2020</td>\n      <td>75931</td>\n      <td>6219616</td>\n      <td>NaN</td>\n    </tr>\n    <tr>\n      <th>2133</th>\n      <td>2020</td>\n      <td>75936</td>\n      <td>6250530</td>\n      <td>NaN</td>\n    </tr>\n    <tr>\n      <th>2161</th>\n      <td>2020</td>\n      <td>75980</td>\n      <td>6296655</td>\n      <td>NaN</td>\n    </tr>\n  </tbody>\n</table>\n<p>276 rows × 4 columns</p>\n</div>"
     },
     "execution_count": 116,
     "metadata": {},
     "output_type": "execute_result"
    }
   ],
   "source": [
    "comms_df = pd.read_excel(r\"C:\\Users\\gbjaudom\\Onedrive - LEGO\\Documents\\python_projects\\miscellaneous\\data\\raw\\ASIN_MASTERFILE.xlsx\")\n",
    "comms_na_df = comms_df[comms_df[\"asin\"].isna()]\n",
    "comms_na_df"
   ],
   "metadata": {
    "collapsed": false,
    "pycharm": {
     "name": "#%%\n"
    }
   }
  },
  {
   "cell_type": "markdown",
   "source": [
    "### Logic for Matching"
   ],
   "metadata": {
    "collapsed": false,
    "pycharm": {
     "name": "#%% md\n"
    }
   }
  },
  {
   "cell_type": "code",
   "execution_count": 125,
   "outputs": [],
   "source": [
    "comms_list = list(comms_na_df[\"comms\"])\n",
    "\n",
    "comms_asin_dict = dict()\n",
    "\n",
    "for comms in comms_list:\n",
    "    string_to_search = \"LEGO \" + str(comms)\n",
    "    filterd_df = asin_name_df[asin_name_df['product_title'].str.contains(string_to_search)]\n",
    "    if len(filterd_df) == 0:\n",
    "        comms_asin_dict[comms] = \"-\"\n",
    "    elif len(filterd_df) > 0 and len(filterd_df[\"asin\"].unique()):\n",
    "        comms_asin_dict[comms] = filterd_df[\"asin\"].unique()[0]\n",
    "    else:\n",
    "        comms_asin_dict[comms] = \"QWERTYUIOP\"\n"
   ],
   "metadata": {
    "collapsed": false,
    "pycharm": {
     "name": "#%%\n"
    }
   }
  },
  {
   "cell_type": "code",
   "execution_count": 129,
   "outputs": [
    {
     "data": {
      "text/plain": "{21056: '-',\n 21187: '-',\n 21318: '-',\n 21321: 'B0844WLH35',\n 21324: '-',\n 21325: '-',\n 21326: '-',\n 21327: '-',\n 21330: '-',\n 21332: '-',\n 21333: '-',\n 21334: '-',\n 21335: '-',\n 21336: '-',\n 31120: '-',\n 31121: '-',\n 31122: '-',\n 31130: '-',\n 31203: '-',\n 31204: '-',\n 41691: '-',\n 41693: '-',\n 41721: '-',\n 41945: '-',\n 41961: '-',\n 42136: '-',\n 42146: '-',\n 43179: 'B08BRXGPQ1',\n 43197: '-',\n 43203: '-',\n 51516: '-',\n 60277: '-',\n 60305: '-',\n 60307: '-',\n 60308: '-',\n 60313: '-',\n 60326: '-',\n 60327: '-',\n 60336: '-',\n 60351: '-',\n 71032: 'B09BNX6F7T',\n 71043: 'B07BLDTWVW',\n 71374: '-',\n 71395: '-',\n 71412: '-',\n 71741: '-',\n 71742: '-',\n 71776: '-',\n 75192: 'B075PT2JH9',\n 75252: 'B07G3S9XPP',\n 75290: '-',\n 75296: '-',\n 75308: '-',\n 75309: '-',\n 75313: '-',\n 75315: '-',\n 75316: '-',\n 75319: '-',\n 75338: '-',\n 75339: '-',\n 75341: '-',\n 75342: '-',\n 75343: '-',\n 75980: 'B087KBB5J4',\n 76161: '-',\n 76178: '-',\n 76188: '-',\n 76198: '-',\n 76199: '-',\n 76200: '-',\n 76201: '-',\n 76209: '-',\n 76214: '-',\n 76232: '-',\n 76237: '-',\n 76238: '-',\n 76391: '-',\n 76392: '-',\n 76393: '-',\n 76394: '-',\n 76395: '-',\n 76408: '-',\n 76905: '-',\n 76909: '-',\n 76956: '-',\n 77012: '-',\n 77013: '-',\n 77014: '-',\n 77015: '-',\n 10775: '-',\n 60306: '-',\n 60250: 'B081T15NHQ',\n 60267: '-',\n 60270: '-',\n 60272: '-',\n 60273: '-',\n 60274: '-',\n 60271: '-',\n 10255: 'B01N5LSM4U',\n 10258: '-',\n 10261: 'B07C8DSTCP',\n 10262: 'B07BLG43GR',\n 10264: 'B07G3D9TT6',\n 10267: 'B07WM9S3V7',\n 10269: '-',\n 10270: '-',\n 10271: '-',\n 10272: '-',\n 10273: '-',\n 10275: '-',\n 10277: '-',\n 10278: '-',\n 10279: '-',\n 10283: '-',\n 10284: '-',\n 10289: '-',\n 10291: '-',\n 10292: '-',\n 10293: '-',\n 10294: '-',\n 10295: '-',\n 71044: '-',\n 10887: '-',\n 10934: '-',\n 10958: '-',\n 75936: '-',\n 10717: 'B07BLDTWVZ',\n 11011: '-',\n 11016: '-',\n 11717: 'B08G4LZVTW',\n 41390: '-',\n 41431: '-',\n 41432: '-',\n 41433: '-',\n 41447: '-',\n 41692: '-',\n 21320: '-',\n 21322: '-',\n 71701: '-',\n 75571: '-',\n 75572: 'B09QFN7SYZ',\n 75573: '-',\n 75574: 'B09QFX2N68',\n 75274: 'B085LGR5TT',\n 75275: 'B087ZN6GH3',\n 75291: '-',\n 75293: '-',\n 75810: 'B07NY8BQ44',\n 76139: '-',\n 76151: '-',\n 76162: 'B084GFM3JM',\n 76163: '-',\n 76179: 'B09BNWD23B',\n 76181: 'B09BNVMNDG',\n 76183: 'B09BNWB2ZS',\n 71376: '-',\n 71377: '-',\n 42127: 'B09BNXPW7K',\n 41258: '-',\n 10220: '-',\n 10252: 'B01D9QO6TM',\n 10256: 'B077TZTDF6',\n 10260: '-',\n 10268: 'B07BLG2LZX',\n 11005: '-',\n 21316: 'B07P3L13FG',\n 21317: 'B07P1BW3NK',\n 31098: 'B07G3S23F9',\n 41256: 'B082WGNKBH',\n 43182: '-',\n 43183: 'B081F8NR76',\n 60229: 'B07G3DB14Q',\n 60230: 'B07G3S9Z3C',\n 66643: '-',\n 70679: 'B07G3P73Y5',\n 71040: '-',\n 71699: '-',\n 71713: '-',\n 75159: 'B01D9QON2W',\n 75244: 'B07G3T672X',\n 75931: 'B078K66KLJ'}"
     },
     "execution_count": 129,
     "metadata": {},
     "output_type": "execute_result"
    }
   ],
   "source": [
    "comms_asin_dict"
   ],
   "metadata": {
    "collapsed": false,
    "pycharm": {
     "name": "#%%\n"
    }
   }
  },
  {
   "cell_type": "markdown",
   "source": [
    "## Adding Matched Comms to Original"
   ],
   "metadata": {
    "collapsed": false,
    "pycharm": {
     "name": "#%% md\n"
    }
   }
  },
  {
   "cell_type": "code",
   "execution_count": 119,
   "outputs": [],
   "source": [
    "m = comms_df[\"asin\"].isna()\n",
    "comms_df.loc[m,'asin'] = comms_df[\"comms\"].map(comms_asin_dict)"
   ],
   "metadata": {
    "collapsed": false,
    "pycharm": {
     "name": "#%%\n"
    }
   }
  },
  {
   "cell_type": "code",
   "execution_count": 121,
   "outputs": [
    {
     "data": {
      "text/plain": "      file_year  comms  material        asin\n0          2022   2304   6292181  B00027YG88\n1          2022  10255   6174033  B01N5LSM4U\n2          2022  10265   6250884  B07G3D9TT6\n3          2022  10266   6250888  B07G3WS3KV\n4          2022  10270   6294055           -\n...         ...    ...       ...         ...\n2205       2020  76897   6289093  B07W6Q9G1R\n2206       2020  76898   6289095  B07W5PXDYZ\n2207       2020  76899   6289097  B07W6Q9G1Y\n2208       2020  92176   6340373  B08GNXNPR6\n2209       2020  92177   6340394  B08GPG92V1\n\n[2210 rows x 4 columns]",
      "text/html": "<div>\n<style scoped>\n    .dataframe tbody tr th:only-of-type {\n        vertical-align: middle;\n    }\n\n    .dataframe tbody tr th {\n        vertical-align: top;\n    }\n\n    .dataframe thead th {\n        text-align: right;\n    }\n</style>\n<table border=\"1\" class=\"dataframe\">\n  <thead>\n    <tr style=\"text-align: right;\">\n      <th></th>\n      <th>file_year</th>\n      <th>comms</th>\n      <th>material</th>\n      <th>asin</th>\n    </tr>\n  </thead>\n  <tbody>\n    <tr>\n      <th>0</th>\n      <td>2022</td>\n      <td>2304</td>\n      <td>6292181</td>\n      <td>B00027YG88</td>\n    </tr>\n    <tr>\n      <th>1</th>\n      <td>2022</td>\n      <td>10255</td>\n      <td>6174033</td>\n      <td>B01N5LSM4U</td>\n    </tr>\n    <tr>\n      <th>2</th>\n      <td>2022</td>\n      <td>10265</td>\n      <td>6250884</td>\n      <td>B07G3D9TT6</td>\n    </tr>\n    <tr>\n      <th>3</th>\n      <td>2022</td>\n      <td>10266</td>\n      <td>6250888</td>\n      <td>B07G3WS3KV</td>\n    </tr>\n    <tr>\n      <th>4</th>\n      <td>2022</td>\n      <td>10270</td>\n      <td>6294055</td>\n      <td>-</td>\n    </tr>\n    <tr>\n      <th>...</th>\n      <td>...</td>\n      <td>...</td>\n      <td>...</td>\n      <td>...</td>\n    </tr>\n    <tr>\n      <th>2205</th>\n      <td>2020</td>\n      <td>76897</td>\n      <td>6289093</td>\n      <td>B07W6Q9G1R</td>\n    </tr>\n    <tr>\n      <th>2206</th>\n      <td>2020</td>\n      <td>76898</td>\n      <td>6289095</td>\n      <td>B07W5PXDYZ</td>\n    </tr>\n    <tr>\n      <th>2207</th>\n      <td>2020</td>\n      <td>76899</td>\n      <td>6289097</td>\n      <td>B07W6Q9G1Y</td>\n    </tr>\n    <tr>\n      <th>2208</th>\n      <td>2020</td>\n      <td>92176</td>\n      <td>6340373</td>\n      <td>B08GNXNPR6</td>\n    </tr>\n    <tr>\n      <th>2209</th>\n      <td>2020</td>\n      <td>92177</td>\n      <td>6340394</td>\n      <td>B08GPG92V1</td>\n    </tr>\n  </tbody>\n</table>\n<p>2210 rows × 4 columns</p>\n</div>"
     },
     "execution_count": 121,
     "metadata": {},
     "output_type": "execute_result"
    }
   ],
   "source": [
    "comms_df"
   ],
   "metadata": {
    "collapsed": false,
    "pycharm": {
     "name": "#%%\n"
    }
   }
  },
  {
   "cell_type": "markdown",
   "source": [
    "## Validation"
   ],
   "metadata": {
    "collapsed": false,
    "pycharm": {
     "name": "#%% md\n"
    }
   }
  },
  {
   "cell_type": "code",
   "execution_count": 122,
   "outputs": [
    {
     "data": {
      "text/plain": "      file_year  comms  material        asin\n167        2022  21321   6301658  B0844WLH35\n1252       2021  21321   6301658  B0844WLH35\n1751       2020  21321   6301658  B0844WLH35",
      "text/html": "<div>\n<style scoped>\n    .dataframe tbody tr th:only-of-type {\n        vertical-align: middle;\n    }\n\n    .dataframe tbody tr th {\n        vertical-align: top;\n    }\n\n    .dataframe thead th {\n        text-align: right;\n    }\n</style>\n<table border=\"1\" class=\"dataframe\">\n  <thead>\n    <tr style=\"text-align: right;\">\n      <th></th>\n      <th>file_year</th>\n      <th>comms</th>\n      <th>material</th>\n      <th>asin</th>\n    </tr>\n  </thead>\n  <tbody>\n    <tr>\n      <th>167</th>\n      <td>2022</td>\n      <td>21321</td>\n      <td>6301658</td>\n      <td>B0844WLH35</td>\n    </tr>\n    <tr>\n      <th>1252</th>\n      <td>2021</td>\n      <td>21321</td>\n      <td>6301658</td>\n      <td>B0844WLH35</td>\n    </tr>\n    <tr>\n      <th>1751</th>\n      <td>2020</td>\n      <td>21321</td>\n      <td>6301658</td>\n      <td>B0844WLH35</td>\n    </tr>\n  </tbody>\n</table>\n</div>"
     },
     "execution_count": 122,
     "metadata": {},
     "output_type": "execute_result"
    }
   ],
   "source": [
    "comms_df[comms_df[\"comms\"] == 21321]"
   ],
   "metadata": {
    "collapsed": false,
    "pycharm": {
     "name": "#%%\n"
    }
   }
  },
  {
   "cell_type": "markdown",
   "source": [
    "## Saving"
   ],
   "metadata": {
    "collapsed": false,
    "pycharm": {
     "name": "#%% md\n"
    }
   }
  },
  {
   "cell_type": "code",
   "execution_count": 124,
   "outputs": [],
   "source": [
    "comms_df.to_excel(r\"C:\\Users\\gbjaudom\\Onedrive - LEGO\\Documents\\python_projects\\miscellaneous\\data\\processed\\preliminary_ASIN_MASTERFILE.xlsx\")"
   ],
   "metadata": {
    "collapsed": false,
    "pycharm": {
     "name": "#%%\n"
    }
   }
  },
  {
   "cell_type": "markdown",
   "source": [
    "## Stats"
   ],
   "metadata": {
    "collapsed": false,
    "pycharm": {
     "name": "#%% md\n"
    }
   }
  },
  {
   "cell_type": "code",
   "execution_count": 136,
   "outputs": [
    {
     "data": {
      "text/plain": "181"
     },
     "execution_count": 136,
     "metadata": {},
     "output_type": "execute_result"
    }
   ],
   "source": [
    "#\n",
    "len(comms_asin_dict)"
   ],
   "metadata": {
    "collapsed": false,
    "pycharm": {
     "name": "#%%\n"
    }
   }
  },
  {
   "cell_type": "code",
   "execution_count": 137,
   "outputs": [
    {
     "data": {
      "text/plain": "142"
     },
     "execution_count": 137,
     "metadata": {},
     "output_type": "execute_result"
    }
   ],
   "source": [
    "import collections\n",
    "\n",
    "collections.Counter(comms_asin_dict.values())[\"-\"]"
   ],
   "metadata": {
    "collapsed": false,
    "pycharm": {
     "name": "#%%\n"
    }
   }
  },
  {
   "cell_type": "code",
   "execution_count": 141,
   "outputs": [
    {
     "data": {
      "text/plain": "39"
     },
     "execution_count": 141,
     "metadata": {},
     "output_type": "execute_result"
    }
   ],
   "source": [
    "181 - 142"
   ],
   "metadata": {
    "collapsed": false,
    "pycharm": {
     "name": "#%%\n"
    }
   }
  }
 ],
 "metadata": {
  "kernelspec": {
   "display_name": "Python 3",
   "language": "python",
   "name": "python3"
  },
  "language_info": {
   "codemirror_mode": {
    "name": "ipython",
    "version": 2
   },
   "file_extension": ".py",
   "mimetype": "text/x-python",
   "name": "python",
   "nbconvert_exporter": "python",
   "pygments_lexer": "ipython2",
   "version": "2.7.6"
  }
 },
 "nbformat": 4,
 "nbformat_minor": 0
}