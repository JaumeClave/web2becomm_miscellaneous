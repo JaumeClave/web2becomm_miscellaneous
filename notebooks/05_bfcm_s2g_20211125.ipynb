{
 "cells": [
  {
   "cell_type": "markdown",
   "metadata": {},
   "source": [
    "# BFCM S2G"
   ]
  },
  {
   "cell_type": "code",
   "execution_count": 27,
   "metadata": {},
   "outputs": [],
   "source": [
    "import pandas as pd\n",
    "import gc\n",
    "import warnings\n",
    "warnings.filterwarnings('ignore')"
   ]
  },
  {
   "cell_type": "code",
   "execution_count": 28,
   "metadata": {},
   "outputs": [],
   "source": [
    "def make_daily_country_theme_or(master_file_path, date):\n",
    "    \"\"\"\n",
    "    \"\"\"\n",
    "    data = pd.read_csv(master_file_path)\n",
    "    data[\"Date\"] = pd.to_datetime(data[\"Date\"], dayfirst=True)\n",
    "    data_cols = data[[\"Country\", \"Date\", \"ASIN\", \"top_theme\", \"Ordered Revenue\"]]\n",
    "    df = data_cols[data_cols[\"Date\"] == date]\n",
    "    del data\n",
    "    gc.collect()\n",
    "    return df"
   ]
  },
  {
   "cell_type": "code",
   "execution_count": 29,
   "metadata": {},
   "outputs": [],
   "source": [
    "def make_master_daily_country_theme_or(date):\n",
    "    uk = make_daily_country_theme_or(r\"C:\\Users\\gbjaudom\\LEGO\\WE eComm CoE Analytics Team - Documents\\Data\\daily_vc_data\\uk_2021_master_aba_vc_data.csv\", date)\n",
    "    es = make_daily_country_theme_or(r\"C:\\Users\\gbjaudom\\LEGO\\WE eComm CoE Analytics Team - Documents\\Data\\daily_vc_data\\es_2021_master_aba_vc_data.csv\", date)\n",
    "    fr = make_daily_country_theme_or(r\"C:\\Users\\gbjaudom\\LEGO\\WE eComm CoE Analytics Team - Documents\\Data\\daily_vc_data\\fr_2021_master_aba_vc_data.csv\", date)\n",
    "    it = make_daily_country_theme_or(r\"C:\\Users\\gbjaudom\\LEGO\\WE eComm CoE Analytics Team - Documents\\Data\\daily_vc_data\\it_2021_master_aba_vc_data.csv\", date)\n",
    "    nl = make_daily_country_theme_or(r\"C:\\Users\\gbjaudom\\LEGO\\WE eComm CoE Analytics Team - Documents\\Data\\daily_vc_data\\nl_2021_master_aba_vc_data.csv\", date)\n",
    "    de = make_daily_country_theme_or(r\"C:\\Users\\gbjaudom\\LEGO\\WE eComm CoE Analytics Team - Documents\\Data\\daily_vc_data\\de_2021_master_aba_vc_data.csv\", date)\n",
    "    final = pd.concat([uk, es, fr, it, nl, de])\n",
    "    final = final.groupby([\"Country\", \"top_theme\"]).sum().reset_index()\n",
    "    final[\"id\"] = final[\"Country\"].astype(str) + \"_\" + final[\"top_theme\"].astype(str)\n",
    "    return final\n"
   ]
  },
  {
   "cell_type": "code",
   "execution_count": 4,
   "metadata": {},
   "outputs": [
    {
     "data": {
      "text/html": [
       "<div>\n",
       "<style scoped>\n",
       "    .dataframe tbody tr th:only-of-type {\n",
       "        vertical-align: middle;\n",
       "    }\n",
       "\n",
       "    .dataframe tbody tr th {\n",
       "        vertical-align: top;\n",
       "    }\n",
       "\n",
       "    .dataframe thead th {\n",
       "        text-align: right;\n",
       "    }\n",
       "</style>\n",
       "<table border=\"1\" class=\"dataframe\">\n",
       "  <thead>\n",
       "    <tr style=\"text-align: right;\">\n",
       "      <th></th>\n",
       "      <th>Country</th>\n",
       "      <th>top_theme</th>\n",
       "      <th>Ordered Revenue</th>\n",
       "      <th>id</th>\n",
       "    </tr>\n",
       "  </thead>\n",
       "  <tbody>\n",
       "    <tr>\n",
       "      <th>0</th>\n",
       "      <td>DE</td>\n",
       "      <td>4+</td>\n",
       "      <td>-64.79</td>\n",
       "      <td>DE_4+</td>\n",
       "    </tr>\n",
       "    <tr>\n",
       "      <th>1</th>\n",
       "      <td>DE</td>\n",
       "      <td>ARCHITECTURE</td>\n",
       "      <td>52753.75</td>\n",
       "      <td>DE_ARCHITECTURE</td>\n",
       "    </tr>\n",
       "    <tr>\n",
       "      <th>2</th>\n",
       "      <td>DE</td>\n",
       "      <td>ART</td>\n",
       "      <td>13835.79</td>\n",
       "      <td>DE_ART</td>\n",
       "    </tr>\n",
       "    <tr>\n",
       "      <th>3</th>\n",
       "      <td>DE</td>\n",
       "      <td>BATMAN MOVIE</td>\n",
       "      <td>0.00</td>\n",
       "      <td>DE_BATMAN MOVIE</td>\n",
       "    </tr>\n",
       "    <tr>\n",
       "      <th>4</th>\n",
       "      <td>DE</td>\n",
       "      <td>BOOST</td>\n",
       "      <td>74815.86</td>\n",
       "      <td>DE_BOOST</td>\n",
       "    </tr>\n",
       "  </tbody>\n",
       "</table>\n",
       "</div>"
      ],
      "text/plain": [
       "  Country     top_theme  Ordered Revenue               id\n",
       "0      DE            4+           -64.79            DE_4+\n",
       "1      DE  ARCHITECTURE         52753.75  DE_ARCHITECTURE\n",
       "2      DE           ART         13835.79           DE_ART\n",
       "3      DE  BATMAN MOVIE             0.00  DE_BATMAN MOVIE\n",
       "4      DE         BOOST         74815.86         DE_BOOST"
      ]
     },
     "execution_count": 4,
     "metadata": {},
     "output_type": "execute_result"
    }
   ],
   "source": [
    "master_or_df = make_master_daily_country_theme_or(\"2021-11-21\")\n",
    "master_or_df.head()"
   ]
  },
  {
   "cell_type": "code",
   "execution_count": 5,
   "metadata": {},
   "outputs": [
    {
     "data": {
      "text/plain": [
       "array(['DE', 'ES', 'FR', 'IT', 'NL', 'UK'], dtype=object)"
      ]
     },
     "execution_count": 5,
     "metadata": {},
     "output_type": "execute_result"
    }
   ],
   "source": [
    "master_or_df[\"Country\"].unique()"
   ]
  },
  {
   "cell_type": "markdown",
   "metadata": {},
   "source": [
    "## Creating S2G Share"
   ]
  },
  {
   "cell_type": "code",
   "execution_count": 6,
   "metadata": {},
   "outputs": [
    {
     "data": {
      "text/html": [
       "<div>\n",
       "<style scoped>\n",
       "    .dataframe tbody tr th:only-of-type {\n",
       "        vertical-align: middle;\n",
       "    }\n",
       "\n",
       "    .dataframe tbody tr th {\n",
       "        vertical-align: top;\n",
       "    }\n",
       "\n",
       "    .dataframe thead th {\n",
       "        text-align: right;\n",
       "    }\n",
       "</style>\n",
       "<table border=\"1\" class=\"dataframe\">\n",
       "  <thead>\n",
       "    <tr style=\"text-align: right;\">\n",
       "      <th></th>\n",
       "      <th>Theme</th>\n",
       "      <th>NL</th>\n",
       "      <th>DE</th>\n",
       "      <th>FR</th>\n",
       "      <th>IT</th>\n",
       "      <th>UK</th>\n",
       "    </tr>\n",
       "  </thead>\n",
       "  <tbody>\n",
       "    <tr>\n",
       "      <th>0</th>\n",
       "      <td>4+</td>\n",
       "      <td>0.21</td>\n",
       "      <td>0.19</td>\n",
       "      <td>0.18</td>\n",
       "      <td>0.19</td>\n",
       "      <td>0.17</td>\n",
       "    </tr>\n",
       "    <tr>\n",
       "      <th>1</th>\n",
       "      <td>ARCHITECTURE</td>\n",
       "      <td>0.03</td>\n",
       "      <td>0.03</td>\n",
       "      <td>0.05</td>\n",
       "      <td>0.04</td>\n",
       "      <td>0.04</td>\n",
       "    </tr>\n",
       "    <tr>\n",
       "      <th>2</th>\n",
       "      <td>ART</td>\n",
       "      <td>0.03</td>\n",
       "      <td>0.03</td>\n",
       "      <td>0.03</td>\n",
       "      <td>0.02</td>\n",
       "      <td>0.03</td>\n",
       "    </tr>\n",
       "    <tr>\n",
       "      <th>3</th>\n",
       "      <td>BATMAN MOVIE</td>\n",
       "      <td>0.01</td>\n",
       "      <td>0.02</td>\n",
       "      <td>0.01</td>\n",
       "      <td>0.02</td>\n",
       "      <td>0.02</td>\n",
       "    </tr>\n",
       "    <tr>\n",
       "      <th>4</th>\n",
       "      <td>BOOST</td>\n",
       "      <td>0.13</td>\n",
       "      <td>0.09</td>\n",
       "      <td>0.12</td>\n",
       "      <td>0.13</td>\n",
       "      <td>0.12</td>\n",
       "    </tr>\n",
       "  </tbody>\n",
       "</table>\n",
       "</div>"
      ],
      "text/plain": [
       "          Theme    NL    DE    FR    IT    UK\n",
       "0            4+  0.21  0.19  0.18  0.19  0.17\n",
       "1  ARCHITECTURE  0.03  0.03  0.05  0.04  0.04\n",
       "2           ART  0.03  0.03  0.03  0.02  0.03\n",
       "3  BATMAN MOVIE  0.01  0.02  0.01  0.02  0.02\n",
       "4         BOOST  0.13  0.09  0.12  0.13  0.12"
      ]
     },
     "execution_count": 6,
     "metadata": {},
     "output_type": "execute_result"
    }
   ],
   "source": [
    "s2g_share = pd.read_csv(r\"C:\\Users\\gbjaudom\\LEGO\\WE eComm CoE Analytics Team - Documents\\Insights Projects\\11_21 Black Friday\\s2g_share_by_bu_theme.csv\")\n",
    "s2g_share.head()"
   ]
  },
  {
   "cell_type": "code",
   "execution_count": 7,
   "metadata": {},
   "outputs": [],
   "source": [
    "def make_country_s2g_share(master_s2g_file, country):\n",
    "    \"\"\"\n",
    "    \"\"\"\n",
    "    df = pd.DataFrame()\n",
    "    df[\"id\"] = country + \"_\" + master_s2g_file[\"Theme\"]\n",
    "    df[\"Theme\"] = master_s2g_file[\"Theme\"]\n",
    "    df[country] = master_s2g_file[country]\n",
    "    return df"
   ]
  },
  {
   "cell_type": "code",
   "execution_count": 8,
   "metadata": {},
   "outputs": [
    {
     "data": {
      "text/html": [
       "<div>\n",
       "<style scoped>\n",
       "    .dataframe tbody tr th:only-of-type {\n",
       "        vertical-align: middle;\n",
       "    }\n",
       "\n",
       "    .dataframe tbody tr th {\n",
       "        vertical-align: top;\n",
       "    }\n",
       "\n",
       "    .dataframe thead th {\n",
       "        text-align: right;\n",
       "    }\n",
       "</style>\n",
       "<table border=\"1\" class=\"dataframe\">\n",
       "  <thead>\n",
       "    <tr style=\"text-align: right;\">\n",
       "      <th></th>\n",
       "      <th>id</th>\n",
       "      <th>Theme</th>\n",
       "      <th>FR</th>\n",
       "    </tr>\n",
       "  </thead>\n",
       "  <tbody>\n",
       "    <tr>\n",
       "      <th>0</th>\n",
       "      <td>FR_4+</td>\n",
       "      <td>4+</td>\n",
       "      <td>0.18</td>\n",
       "    </tr>\n",
       "    <tr>\n",
       "      <th>1</th>\n",
       "      <td>FR_ARCHITECTURE</td>\n",
       "      <td>ARCHITECTURE</td>\n",
       "      <td>0.05</td>\n",
       "    </tr>\n",
       "    <tr>\n",
       "      <th>2</th>\n",
       "      <td>FR_ART</td>\n",
       "      <td>ART</td>\n",
       "      <td>0.03</td>\n",
       "    </tr>\n",
       "    <tr>\n",
       "      <th>3</th>\n",
       "      <td>FR_BATMAN MOVIE</td>\n",
       "      <td>BATMAN MOVIE</td>\n",
       "      <td>0.01</td>\n",
       "    </tr>\n",
       "    <tr>\n",
       "      <th>4</th>\n",
       "      <td>FR_BOOST</td>\n",
       "      <td>BOOST</td>\n",
       "      <td>0.12</td>\n",
       "    </tr>\n",
       "    <tr>\n",
       "      <th>5</th>\n",
       "      <td>FR_BRAND CAMPAIGN PRODUCTS</td>\n",
       "      <td>BRAND CAMPAIGN PRODUCTS</td>\n",
       "      <td>0.27</td>\n",
       "    </tr>\n",
       "    <tr>\n",
       "      <th>6</th>\n",
       "      <td>FR_BRICKHEADZ</td>\n",
       "      <td>BRICKHEADZ</td>\n",
       "      <td>0.07</td>\n",
       "    </tr>\n",
       "    <tr>\n",
       "      <th>7</th>\n",
       "      <td>FR_CHINESE FESTIVALS</td>\n",
       "      <td>CHINESE FESTIVALS</td>\n",
       "      <td>0.09</td>\n",
       "    </tr>\n",
       "    <tr>\n",
       "      <th>8</th>\n",
       "      <td>FR_CITY</td>\n",
       "      <td>CITY</td>\n",
       "      <td>0.06</td>\n",
       "    </tr>\n",
       "    <tr>\n",
       "      <th>9</th>\n",
       "      <td>FR_CONSTRACTION OTHERS</td>\n",
       "      <td>CONSTRACTION OTHERS</td>\n",
       "      <td>0.01</td>\n",
       "    </tr>\n",
       "    <tr>\n",
       "      <th>10</th>\n",
       "      <td>FR_CONSTRACTION STAR WARS</td>\n",
       "      <td>CONSTRACTION STAR WARS</td>\n",
       "      <td>0.02</td>\n",
       "    </tr>\n",
       "    <tr>\n",
       "      <th>11</th>\n",
       "      <td>FR_CREATOR</td>\n",
       "      <td>CREATOR</td>\n",
       "      <td>0.07</td>\n",
       "    </tr>\n",
       "    <tr>\n",
       "      <th>12</th>\n",
       "      <td>FR_DC SUPERHERO GIRLS</td>\n",
       "      <td>DC SUPERHERO GIRLS</td>\n",
       "      <td>0.82</td>\n",
       "    </tr>\n",
       "    <tr>\n",
       "      <th>13</th>\n",
       "      <td>FR_DIMENSIONS</td>\n",
       "      <td>DIMENSIONS</td>\n",
       "      <td>0.00</td>\n",
       "    </tr>\n",
       "    <tr>\n",
       "      <th>14</th>\n",
       "      <td>FR_DISNEY PRINCESS</td>\n",
       "      <td>DISNEY PRINCESS</td>\n",
       "      <td>0.82</td>\n",
       "    </tr>\n",
       "    <tr>\n",
       "      <th>15</th>\n",
       "      <td>FR_DISNEY SPECIALS</td>\n",
       "      <td>DISNEY SPECIALS</td>\n",
       "      <td>0.08</td>\n",
       "    </tr>\n",
       "    <tr>\n",
       "      <th>16</th>\n",
       "      <td>FR_DOTS</td>\n",
       "      <td>DOTS</td>\n",
       "      <td>0.80</td>\n",
       "    </tr>\n",
       "    <tr>\n",
       "      <th>17</th>\n",
       "      <td>FR_DUPLO</td>\n",
       "      <td>DUPLO</td>\n",
       "      <td>0.14</td>\n",
       "    </tr>\n",
       "    <tr>\n",
       "      <th>18</th>\n",
       "      <td>FR_ELVES</td>\n",
       "      <td>ELVES</td>\n",
       "      <td>0.80</td>\n",
       "    </tr>\n",
       "    <tr>\n",
       "      <th>19</th>\n",
       "      <td>FR_FRIENDS</td>\n",
       "      <td>FRIENDS</td>\n",
       "      <td>0.92</td>\n",
       "    </tr>\n",
       "    <tr>\n",
       "      <th>20</th>\n",
       "      <td>FR_GHOSTBUSTERS</td>\n",
       "      <td>GHOSTBUSTERS</td>\n",
       "      <td>0.00</td>\n",
       "    </tr>\n",
       "    <tr>\n",
       "      <th>21</th>\n",
       "      <td>FR_GIRLS OTHERS</td>\n",
       "      <td>GIRLS OTHERS</td>\n",
       "      <td>0.00</td>\n",
       "    </tr>\n",
       "    <tr>\n",
       "      <th>22</th>\n",
       "      <td>FR_HARRY POTTER TM</td>\n",
       "      <td>HARRY POTTER TM</td>\n",
       "      <td>0.21</td>\n",
       "    </tr>\n",
       "    <tr>\n",
       "      <th>23</th>\n",
       "      <td>FR_HIDDEN SIDE</td>\n",
       "      <td>HIDDEN SIDE</td>\n",
       "      <td>0.07</td>\n",
       "    </tr>\n",
       "    <tr>\n",
       "      <th>24</th>\n",
       "      <td>FR_ICONS</td>\n",
       "      <td>ICONS</td>\n",
       "      <td>0.02</td>\n",
       "    </tr>\n",
       "    <tr>\n",
       "      <th>25</th>\n",
       "      <td>FR_JURASSIC WORLD</td>\n",
       "      <td>JURASSIC WORLD</td>\n",
       "      <td>0.04</td>\n",
       "    </tr>\n",
       "    <tr>\n",
       "      <th>26</th>\n",
       "      <td>FR_LEGO CLASSIC</td>\n",
       "      <td>LEGO CLASSIC</td>\n",
       "      <td>0.27</td>\n",
       "    </tr>\n",
       "    <tr>\n",
       "      <th>27</th>\n",
       "      <td>FR_LEGO IDEAS</td>\n",
       "      <td>LEGO IDEAS</td>\n",
       "      <td>0.03</td>\n",
       "    </tr>\n",
       "    <tr>\n",
       "      <th>28</th>\n",
       "      <td>FR_LEGO MOVIE</td>\n",
       "      <td>LEGO MOVIE</td>\n",
       "      <td>0.18</td>\n",
       "    </tr>\n",
       "    <tr>\n",
       "      <th>29</th>\n",
       "      <td>FR_LEGO OVERWATCH</td>\n",
       "      <td>LEGO OVERWATCH</td>\n",
       "      <td>0.03</td>\n",
       "    </tr>\n",
       "    <tr>\n",
       "      <th>30</th>\n",
       "      <td>FR_MICKEY AND FRIENDS</td>\n",
       "      <td>MICKEY AND FRIENDS</td>\n",
       "      <td>0.41</td>\n",
       "    </tr>\n",
       "    <tr>\n",
       "      <th>31</th>\n",
       "      <td>FR_MINDSTORMS</td>\n",
       "      <td>MINDSTORMS</td>\n",
       "      <td>0.06</td>\n",
       "    </tr>\n",
       "    <tr>\n",
       "      <th>32</th>\n",
       "      <td>FR_MINECRAFT</td>\n",
       "      <td>MINECRAFT</td>\n",
       "      <td>0.07</td>\n",
       "    </tr>\n",
       "    <tr>\n",
       "      <th>33</th>\n",
       "      <td>FR_MINIONS</td>\n",
       "      <td>MINIONS</td>\n",
       "      <td>0.13</td>\n",
       "    </tr>\n",
       "    <tr>\n",
       "      <th>34</th>\n",
       "      <td>FR_MIXELS</td>\n",
       "      <td>MIXELS</td>\n",
       "      <td>0.11</td>\n",
       "    </tr>\n",
       "    <tr>\n",
       "      <th>35</th>\n",
       "      <td>FR_MONKIE KID</td>\n",
       "      <td>MONKIE KID</td>\n",
       "      <td>0.04</td>\n",
       "    </tr>\n",
       "    <tr>\n",
       "      <th>36</th>\n",
       "      <td>FR_NEXO KNIGHTS</td>\n",
       "      <td>NEXO KNIGHTS</td>\n",
       "      <td>0.01</td>\n",
       "    </tr>\n",
       "    <tr>\n",
       "      <th>37</th>\n",
       "      <td>FR_NINJAGO</td>\n",
       "      <td>NINJAGO</td>\n",
       "      <td>0.04</td>\n",
       "    </tr>\n",
       "    <tr>\n",
       "      <th>38</th>\n",
       "      <td>FR_OTHERS</td>\n",
       "      <td>OTHERS</td>\n",
       "      <td>0.00</td>\n",
       "    </tr>\n",
       "    <tr>\n",
       "      <th>39</th>\n",
       "      <td>FR_PLAY THEMES IP OTHERS</td>\n",
       "      <td>PLAY THEMES IP OTHERS</td>\n",
       "      <td>0.05</td>\n",
       "    </tr>\n",
       "    <tr>\n",
       "      <th>40</th>\n",
       "      <td>FR_PLAY THEMES OTHERS</td>\n",
       "      <td>PLAY THEMES OTHERS</td>\n",
       "      <td>0.09</td>\n",
       "    </tr>\n",
       "    <tr>\n",
       "      <th>41</th>\n",
       "      <td>FR_POWERPUFF GIRLS</td>\n",
       "      <td>POWERPUFF GIRLS</td>\n",
       "      <td>0.58</td>\n",
       "    </tr>\n",
       "    <tr>\n",
       "      <th>42</th>\n",
       "      <td>FR_SPEED CHAMPIONS</td>\n",
       "      <td>SPEED CHAMPIONS</td>\n",
       "      <td>0.03</td>\n",
       "    </tr>\n",
       "    <tr>\n",
       "      <th>43</th>\n",
       "      <td>FR_STAR WARS TM</td>\n",
       "      <td>STAR WARS TM</td>\n",
       "      <td>0.02</td>\n",
       "    </tr>\n",
       "    <tr>\n",
       "      <th>44</th>\n",
       "      <td>FR_STRANGER THINGS</td>\n",
       "      <td>STRANGER THINGS</td>\n",
       "      <td>0.05</td>\n",
       "    </tr>\n",
       "    <tr>\n",
       "      <th>45</th>\n",
       "      <td>FR_SUPER HEROES</td>\n",
       "      <td>SUPER HEROES</td>\n",
       "      <td>0.03</td>\n",
       "    </tr>\n",
       "    <tr>\n",
       "      <th>46</th>\n",
       "      <td>FR_SUPER MARIO</td>\n",
       "      <td>SUPER MARIO</td>\n",
       "      <td>0.08</td>\n",
       "    </tr>\n",
       "    <tr>\n",
       "      <th>47</th>\n",
       "      <td>FR_TECHNIC</td>\n",
       "      <td>TECHNIC</td>\n",
       "      <td>0.02</td>\n",
       "    </tr>\n",
       "    <tr>\n",
       "      <th>48</th>\n",
       "      <td>FR_TROLLS</td>\n",
       "      <td>TROLLS</td>\n",
       "      <td>0.78</td>\n",
       "    </tr>\n",
       "    <tr>\n",
       "      <th>49</th>\n",
       "      <td>FR_UNIKITTY</td>\n",
       "      <td>UNIKITTY</td>\n",
       "      <td>0.48</td>\n",
       "    </tr>\n",
       "    <tr>\n",
       "      <th>50</th>\n",
       "      <td>FR_VIDIYO</td>\n",
       "      <td>VIDIYO</td>\n",
       "      <td>0.26</td>\n",
       "    </tr>\n",
       "  </tbody>\n",
       "</table>\n",
       "</div>"
      ],
      "text/plain": [
       "                            id                    Theme    FR\n",
       "0                        FR_4+                       4+  0.18\n",
       "1              FR_ARCHITECTURE             ARCHITECTURE  0.05\n",
       "2                       FR_ART                      ART  0.03\n",
       "3              FR_BATMAN MOVIE             BATMAN MOVIE  0.01\n",
       "4                     FR_BOOST                    BOOST  0.12\n",
       "5   FR_BRAND CAMPAIGN PRODUCTS  BRAND CAMPAIGN PRODUCTS  0.27\n",
       "6                FR_BRICKHEADZ               BRICKHEADZ  0.07\n",
       "7         FR_CHINESE FESTIVALS        CHINESE FESTIVALS  0.09\n",
       "8                      FR_CITY                     CITY  0.06\n",
       "9       FR_CONSTRACTION OTHERS      CONSTRACTION OTHERS  0.01\n",
       "10   FR_CONSTRACTION STAR WARS   CONSTRACTION STAR WARS  0.02\n",
       "11                  FR_CREATOR                  CREATOR  0.07\n",
       "12       FR_DC SUPERHERO GIRLS       DC SUPERHERO GIRLS  0.82\n",
       "13               FR_DIMENSIONS               DIMENSIONS  0.00\n",
       "14          FR_DISNEY PRINCESS          DISNEY PRINCESS  0.82\n",
       "15          FR_DISNEY SPECIALS          DISNEY SPECIALS  0.08\n",
       "16                     FR_DOTS                     DOTS  0.80\n",
       "17                    FR_DUPLO                    DUPLO  0.14\n",
       "18                    FR_ELVES                    ELVES  0.80\n",
       "19                  FR_FRIENDS                  FRIENDS  0.92\n",
       "20             FR_GHOSTBUSTERS             GHOSTBUSTERS  0.00\n",
       "21             FR_GIRLS OTHERS             GIRLS OTHERS  0.00\n",
       "22          FR_HARRY POTTER TM          HARRY POTTER TM  0.21\n",
       "23              FR_HIDDEN SIDE              HIDDEN SIDE  0.07\n",
       "24                    FR_ICONS                    ICONS  0.02\n",
       "25           FR_JURASSIC WORLD           JURASSIC WORLD  0.04\n",
       "26             FR_LEGO CLASSIC             LEGO CLASSIC  0.27\n",
       "27               FR_LEGO IDEAS               LEGO IDEAS  0.03\n",
       "28               FR_LEGO MOVIE               LEGO MOVIE  0.18\n",
       "29           FR_LEGO OVERWATCH           LEGO OVERWATCH  0.03\n",
       "30       FR_MICKEY AND FRIENDS       MICKEY AND FRIENDS  0.41\n",
       "31               FR_MINDSTORMS               MINDSTORMS  0.06\n",
       "32                FR_MINECRAFT                MINECRAFT  0.07\n",
       "33                  FR_MINIONS                  MINIONS  0.13\n",
       "34                   FR_MIXELS                   MIXELS  0.11\n",
       "35               FR_MONKIE KID               MONKIE KID  0.04\n",
       "36             FR_NEXO KNIGHTS             NEXO KNIGHTS  0.01\n",
       "37                  FR_NINJAGO                  NINJAGO  0.04\n",
       "38                   FR_OTHERS                   OTHERS  0.00\n",
       "39    FR_PLAY THEMES IP OTHERS    PLAY THEMES IP OTHERS  0.05\n",
       "40       FR_PLAY THEMES OTHERS       PLAY THEMES OTHERS  0.09\n",
       "41          FR_POWERPUFF GIRLS          POWERPUFF GIRLS  0.58\n",
       "42          FR_SPEED CHAMPIONS          SPEED CHAMPIONS  0.03\n",
       "43             FR_STAR WARS TM             STAR WARS TM  0.02\n",
       "44          FR_STRANGER THINGS          STRANGER THINGS  0.05\n",
       "45             FR_SUPER HEROES             SUPER HEROES  0.03\n",
       "46              FR_SUPER MARIO              SUPER MARIO  0.08\n",
       "47                  FR_TECHNIC                  TECHNIC  0.02\n",
       "48                   FR_TROLLS                   TROLLS  0.78\n",
       "49                 FR_UNIKITTY                 UNIKITTY  0.48\n",
       "50                   FR_VIDIYO                   VIDIYO  0.26"
      ]
     },
     "execution_count": 8,
     "metadata": {},
     "output_type": "execute_result"
    }
   ],
   "source": [
    "a = make_country_s2g_share(s2g_share, \"FR\")\n",
    "a"
   ]
  },
  {
   "cell_type": "code",
   "execution_count": 9,
   "metadata": {},
   "outputs": [],
   "source": [
    "nl = master_or_df[master_or_df[\"Country\"] == \"NL\"]"
   ]
  },
  {
   "cell_type": "code",
   "execution_count": 10,
   "metadata": {},
   "outputs": [],
   "source": [
    "def make_country_daily_s2g_share(master_s2g_file, master_or_df, country):\n",
    "    \"\"\"\n",
    "    \"\"\"\n",
    "    if country != \"ES\":\n",
    "        country_s2g = make_country_s2g_share(master_s2g_file, country)\n",
    "        country_or = master_or_df[master_or_df[\"Country\"] == country]\n",
    "        merged_df = country_or.merge(country_s2g, how=\"left\")\n",
    "        merged_df[\"cs_girls\"] = merged_df[\"Ordered Revenue\"] * merged_df[country] \n",
    "        merged_df[[\"id\", \"top_theme\", \"Ordered Revenue\", \"cs_girls\"]]\n",
    "    else:\n",
    "        country = \"FR\"\n",
    "        country_s2g = make_country_s2g_share(master_s2g_file, country)\n",
    "        country_s2g.drop(\"id\", axis=1, inplace=True)\n",
    "        country_s2g[\"id\"] = \"ES\" + \"_\" + country_s2g[\"Theme\"]\n",
    "        country = \"ES\"\n",
    "        country_or = master_or_df[master_or_df[\"Country\"] == country]\n",
    "        merged_df = country_or.merge(country_s2g, how=\"left\")\n",
    "        merged_df[\"ES\"] = merged_df[\"FR\"]\n",
    "        merged_df.drop(\"FR\", axis=1, inplace=True)\n",
    "        merged_df[\"cs_girls\"] = merged_df[\"Ordered Revenue\"] * merged_df[country] \n",
    "        merged_df[[\"id\", \"top_theme\", \"Ordered Revenue\", \"cs_girls\"]]\n",
    "    return merged_df[\"cs_girls\"].sum() / merged_df[\"Ordered Revenue\"].sum(), merged_df[\"cs_girls\"].sum(), merged_df[\"Ordered Revenue\"].sum()\n",
    "    # return merged_df"
   ]
  },
  {
   "cell_type": "code",
   "execution_count": 11,
   "metadata": {},
   "outputs": [
    {
     "data": {
      "text/plain": [
       "(0.196869589520326, 24238.556300000004, 123119.86)"
      ]
     },
     "execution_count": 11,
     "metadata": {},
     "output_type": "execute_result"
    }
   ],
   "source": [
    "make_country_daily_s2g_share(s2g_share, master_or_df, \"ES\")"
   ]
  },
  {
   "cell_type": "code",
   "execution_count": 12,
   "metadata": {},
   "outputs": [],
   "source": [
    "def make_daily_s2g_share_df(date):\n",
    "    \"\"\"\n",
    "    \"\"\"\n",
    "    daily_dict = dict()\n",
    "    daily_or = make_master_daily_country_theme_or(date)\n",
    "    for country in daily_or[\"Country\"].unique():\n",
    "        share, s2gsum, allsum = make_country_daily_s2g_share(s2g_share, daily_or, country)\n",
    "        daily_dict[country] = share\n",
    "    return daily_dict\n"
   ]
  },
  {
   "cell_type": "code",
   "execution_count": 13,
   "metadata": {},
   "outputs": [
    {
     "data": {
      "text/plain": [
       "{'DE': 0.1512543862297679,\n",
       " 'ES': 0.196869589520326,\n",
       " 'FR': 0.16084646163620783,\n",
       " 'IT': 0.17754225178229305,\n",
       " 'NL': 0.159173270997105,\n",
       " 'UK': 0.13654315153046584}"
      ]
     },
     "execution_count": 13,
     "metadata": {},
     "output_type": "execute_result"
    }
   ],
   "source": [
    "make_daily_s2g_share_df(\"2021-11-21\")"
   ]
  },
  {
   "cell_type": "code",
   "execution_count": 14,
   "metadata": {},
   "outputs": [
    {
     "data": {
      "text/plain": [
       "{'DE': 0.14493259165946856,\n",
       " 'ES': 0.18088505653107825,\n",
       " 'FR': 0.17092440664124559,\n",
       " 'IT': 0.1832237322119478,\n",
       " 'NL': 0.1439031681017807,\n",
       " 'UK': 0.14153517164454482}"
      ]
     },
     "execution_count": 14,
     "metadata": {},
     "output_type": "execute_result"
    }
   ],
   "source": [
    "make_daily_s2g_share_df(\"2021-11-22\")"
   ]
  },
  {
   "cell_type": "code",
   "execution_count": 15,
   "metadata": {},
   "outputs": [
    {
     "data": {
      "text/plain": [
       "{'DE': 0.13606300489900774,\n",
       " 'ES': 0.16058713890176982,\n",
       " 'FR': 0.1591599984660233,\n",
       " 'IT': 0.18758903876684357,\n",
       " 'NL': 0.13776429937710813,\n",
       " 'UK': 0.14022247516669195}"
      ]
     },
     "execution_count": 15,
     "metadata": {},
     "output_type": "execute_result"
    }
   ],
   "source": [
    "make_daily_s2g_share_df(\"2021-11-23\")"
   ]
  },
  {
   "cell_type": "code",
   "execution_count": 16,
   "metadata": {},
   "outputs": [
    {
     "data": {
      "text/plain": [
       "{'DE': 0.1284768500972761,\n",
       " 'ES': 0.20370781463160734,\n",
       " 'FR': 0.15222459186466844,\n",
       " 'IT': 0.18968444759978242,\n",
       " 'NL': 0.13368495887306953,\n",
       " 'UK': 0.11670225310867097}"
      ]
     },
     "execution_count": 16,
     "metadata": {},
     "output_type": "execute_result"
    }
   ],
   "source": [
    "make_daily_s2g_share_df(\"2021-11-24\")"
   ]
  },
  {
   "cell_type": "code",
   "execution_count": 17,
   "metadata": {},
   "outputs": [
    {
     "data": {
      "text/plain": [
       "{'DE': 0.18514030510947824,\n",
       " 'ES': 0.20517750148324823,\n",
       " 'FR': 0.13252445858230943,\n",
       " 'IT': 0.20926516494488384,\n",
       " 'NL': 0.1488943492754485,\n",
       " 'UK': 0.10522965784311586}"
      ]
     },
     "execution_count": 17,
     "metadata": {},
     "output_type": "execute_result"
    }
   ],
   "source": [
    "make_daily_s2g_share_df(\"2021-11-25\")"
   ]
  },
  {
   "cell_type": "code",
   "execution_count": 18,
   "metadata": {},
   "outputs": [
    {
     "data": {
      "text/plain": [
       "{'DE': 0.14142398467611728,\n",
       " 'ES': 0.18455372963091335,\n",
       " 'FR': 0.10691522496344191,\n",
       " 'IT': 0.1840951767179319,\n",
       " 'NL': 0.16112103894197094,\n",
       " 'UK': 0.14014219040033438}"
      ]
     },
     "execution_count": 18,
     "metadata": {},
     "output_type": "execute_result"
    }
   ],
   "source": [
    "make_daily_s2g_share_df(\"2021-11-26\")"
   ]
  },
  {
   "cell_type": "code",
   "execution_count": 19,
   "metadata": {},
   "outputs": [
    {
     "data": {
      "text/plain": [
       "{'DE': 0.12122088226608235,\n",
       " 'ES': 0.15397753833458777,\n",
       " 'FR': 0.08259467189071192,\n",
       " 'IT': 0.1745600984097615,\n",
       " 'NL': 0.1270754820562979,\n",
       " 'UK': 0.12740559247991984}"
      ]
     },
     "execution_count": 19,
     "metadata": {},
     "output_type": "execute_result"
    }
   ],
   "source": [
    "make_daily_s2g_share_df(\"2021-11-27\")"
   ]
  },
  {
   "cell_type": "code",
   "execution_count": 20,
   "metadata": {},
   "outputs": [
    {
     "data": {
      "text/plain": [
       "{'DE': 0.12562098117850073,\n",
       " 'ES': 0.1453888762036868,\n",
       " 'FR': 0.1363292218605942,\n",
       " 'IT': 0.159147661659582,\n",
       " 'NL': 0.14414543657202944,\n",
       " 'UK': 0.12568289999190968}"
      ]
     },
     "execution_count": 20,
     "metadata": {},
     "output_type": "execute_result"
    }
   ],
   "source": [
    "make_daily_s2g_share_df(\"2021-11-28\")"
   ]
  },
  {
   "cell_type": "code",
   "execution_count": 21,
   "metadata": {},
   "outputs": [
    {
     "data": {
      "text/plain": [
       "{'DE': 0.12999610050572502,\n",
       " 'ES': 0.14167911004577438,\n",
       " 'FR': 0.1428487581400749,\n",
       " 'IT': 0.18204784072672933,\n",
       " 'NL': 0.14418179044347953,\n",
       " 'UK': 0.12575282113985084}"
      ]
     },
     "execution_count": 21,
     "metadata": {},
     "output_type": "execute_result"
    }
   ],
   "source": [
    "make_daily_s2g_share_df(\"2021-11-29\")"
   ]
  },
  {
   "cell_type": "code",
   "execution_count": 22,
   "metadata": {},
   "outputs": [
    {
     "data": {
      "text/plain": [
       "{'DE': 0.13578853206247116,\n",
       " 'ES': 0.1580174811107004,\n",
       " 'FR': 0.14742214055522881,\n",
       " 'IT': 0.19137555640877424,\n",
       " 'NL': 0.15298440144763542,\n",
       " 'UK': 0.1294410404412221}"
      ]
     },
     "execution_count": 22,
     "metadata": {},
     "output_type": "execute_result"
    }
   ],
   "source": [
    "make_daily_s2g_share_df(\"2021-11-30\")"
   ]
  },
  {
   "cell_type": "code",
   "execution_count": 23,
   "metadata": {},
   "outputs": [
    {
     "data": {
      "text/plain": [
       "{'DE': 0.1337634648791009,\n",
       " 'ES': 0.14964386983456332,\n",
       " 'FR': 0.14632270347423487,\n",
       " 'IT': 0.18349313579505291,\n",
       " 'NL': 0.14355859890289968,\n",
       " 'UK': 0.13602344542410652}"
      ]
     },
     "execution_count": 23,
     "metadata": {},
     "output_type": "execute_result"
    }
   ],
   "source": [
    "make_daily_s2g_share_df(\"2021-12-1\")"
   ]
  },
  {
   "cell_type": "code",
   "execution_count": 42,
   "metadata": {},
   "outputs": [
    {
     "data": {
      "text/plain": [
       "{'DE': 0.14449477871088245,\n",
       " 'ES': 0.1450564028470658,\n",
       " 'FR': 0.15951088744778216,\n",
       " 'IT': 0.18327655818610614,\n",
       " 'NL': 0.1595824480745309,\n",
       " 'UK': 0.13376437303555747}"
      ]
     },
     "execution_count": 42,
     "metadata": {},
     "output_type": "execute_result"
    }
   ],
   "source": [
    "make_daily_s2g_share_df(\"2021-12-2\")"
   ]
  },
  {
   "cell_type": "code",
   "execution_count": 43,
   "metadata": {},
   "outputs": [
    {
     "data": {
      "text/plain": [
       "{'DE': 0.14095973267426715,\n",
       " 'ES': 0.14469474115729264,\n",
       " 'FR': 0.15329710334261412,\n",
       " 'IT': 0.18040772487488094,\n",
       " 'NL': 0.15503329587336656,\n",
       " 'UK': 0.12693481243656388}"
      ]
     },
     "execution_count": 43,
     "metadata": {},
     "output_type": "execute_result"
    }
   ],
   "source": [
    "make_daily_s2g_share_df(\"2021-12-3\")"
   ]
  },
  {
   "cell_type": "code",
   "execution_count": 44,
   "metadata": {},
   "outputs": [
    {
     "data": {
      "text/plain": [
       "{'DE': 0.1425828097748232,\n",
       " 'ES': 0.13938942211567826,\n",
       " 'FR': 0.1451707333426424,\n",
       " 'IT': 0.17461772696737257,\n",
       " 'NL': 0.11843988370768206,\n",
       " 'UK': 0.1252562769452171}"
      ]
     },
     "execution_count": 44,
     "metadata": {},
     "output_type": "execute_result"
    }
   ],
   "source": [
    "make_daily_s2g_share_df(\"2021-12-4\")"
   ]
  }
 ],
 "metadata": {
  "interpreter": {
   "hash": "2421ef479f76be4d0f56dd0ef8c5008563aac21f9c617c72c7bcd97ef30a27da"
  },
  "kernelspec": {
   "display_name": "Python 3.7.1 32-bit ('venv_miscellaneous': venv)",
   "language": "python",
   "name": "python3"
  },
  "language_info": {
   "codemirror_mode": {
    "name": "ipython",
    "version": 3
   },
   "file_extension": ".py",
   "mimetype": "text/x-python",
   "name": "python",
   "nbconvert_exporter": "python",
   "pygments_lexer": "ipython3",
   "version": "3.7.1"
  },
  "orig_nbformat": 4
 },
 "nbformat": 4,
 "nbformat_minor": 2
}
