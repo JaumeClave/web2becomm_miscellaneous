{
 "cells": [
  {
   "cell_type": "markdown",
   "source": [
    " # Buy Box Seller Name via eStore AP"
   ],
   "metadata": {
    "collapsed": false,
    "pycharm": {
     "name": "#%% md\n"
    }
   }
  },
  {
   "cell_type": "code",
   "execution_count": 2,
   "outputs": [
    {
     "name": "stdout",
     "output_type": "stream",
     "text": [
      "http://amazon.de\n",
      "2022-07-01\n"
     ]
    },
    {
     "ename": "KeyboardInterrupt",
     "evalue": "",
     "output_type": "error",
     "traceback": [
      "\u001B[1;31m---------------------------------------------------------------------------\u001B[0m",
      "\u001B[1;31mKeyboardInterrupt\u001B[0m                         Traceback (most recent call last)",
      "\u001B[1;32m~\\AppData\\Local\\Temp\\ipykernel_7456\\3826874757.py\u001B[0m in \u001B[0;36m<module>\u001B[1;34m\u001B[0m\n\u001B[0;32m    139\u001B[0m \u001B[1;32mfor\u001B[0m \u001B[0mregion_dict\u001B[0m \u001B[1;32min\u001B[0m \u001B[0mlist\u001B[0m\u001B[1;33m(\u001B[0m\u001B[0mREGION_DICTIONARY\u001B[0m\u001B[1;33m.\u001B[0m\u001B[0mvalues\u001B[0m\u001B[1;33m(\u001B[0m\u001B[1;33m)\u001B[0m\u001B[1;33m)\u001B[0m\u001B[1;33m:\u001B[0m\u001B[1;33m\u001B[0m\u001B[1;33m\u001B[0m\u001B[0m\n\u001B[0;32m    140\u001B[0m     \u001B[0mprint\u001B[0m\u001B[1;33m(\u001B[0m\u001B[0mregion_dict\u001B[0m\u001B[1;33m[\u001B[0m\u001B[1;34m\"website_url\"\u001B[0m\u001B[1;33m]\u001B[0m\u001B[1;33m)\u001B[0m\u001B[1;33m\u001B[0m\u001B[1;33m\u001B[0m\u001B[0m\n\u001B[1;32m--> 141\u001B[1;33m     \u001B[0mbuybux_seller_df\u001B[0m \u001B[1;33m=\u001B[0m \u001B[0mmake_pipeline_multiple_date_estore_api_response_df\u001B[0m\u001B[1;33m(\u001B[0m\u001B[1;34m\"2022-07-01\"\u001B[0m\u001B[1;33m,\u001B[0m \u001B[1;34m\"2022-07-2\"\u001B[0m\u001B[1;33m,\u001B[0m \u001B[0mtoken\u001B[0m\u001B[1;33m=\u001B[0m\u001B[0mTOKEN\u001B[0m\u001B[1;33m,\u001B[0m \u001B[0mproject_id\u001B[0m\u001B[1;33m=\u001B[0m\u001B[0mregion_dict\u001B[0m\u001B[1;33m[\u001B[0m\u001B[1;34m\"project_id\"\u001B[0m\u001B[1;33m]\u001B[0m\u001B[1;33m,\u001B[0m \u001B[0mproduct_group_id\u001B[0m\u001B[1;33m=\u001B[0m\u001B[0mregion_dict\u001B[0m\u001B[1;33m[\u001B[0m\u001B[1;34m\"product_group_id\"\u001B[0m\u001B[1;33m]\u001B[0m\u001B[1;33m,\u001B[0m  \u001B[0mtemplate_id\u001B[0m\u001B[1;33m=\u001B[0m\u001B[0mBB_SELLER_TEMPLATE_ID\u001B[0m\u001B[1;33m,\u001B[0m \u001B[0mstore_url\u001B[0m\u001B[1;33m=\u001B[0m\u001B[0mregion_dict\u001B[0m\u001B[1;33m[\u001B[0m\u001B[1;34m\"website_url\"\u001B[0m\u001B[1;33m]\u001B[0m\u001B[1;33m)\u001B[0m\u001B[1;33m\u001B[0m\u001B[1;33m\u001B[0m\u001B[0m\n\u001B[0m\u001B[0;32m    142\u001B[0m     \u001B[0mall_market_bb_seller_name_df\u001B[0m \u001B[1;33m=\u001B[0m \u001B[0mall_market_bb_seller_name_df\u001B[0m\u001B[1;33m.\u001B[0m\u001B[0mappend\u001B[0m\u001B[1;33m(\u001B[0m\u001B[0mbuybux_seller_df\u001B[0m\u001B[1;33m)\u001B[0m\u001B[1;33m\u001B[0m\u001B[1;33m\u001B[0m\u001B[0m\n\u001B[0;32m    143\u001B[0m \u001B[0mall_market_bb_seller_name_df\u001B[0m\u001B[1;33m\u001B[0m\u001B[1;33m\u001B[0m\u001B[0m\n",
      "\u001B[1;32m~\\AppData\\Local\\Temp\\ipykernel_7456\\3826874757.py\u001B[0m in \u001B[0;36mmake_pipeline_multiple_date_estore_api_response_df\u001B[1;34m(startdate, enddate, token, project_id, product_group_id, template_id, store_url)\u001B[0m\n\u001B[0;32m    125\u001B[0m     \u001B[1;32mfor\u001B[0m \u001B[0mdate\u001B[0m \u001B[1;32min\u001B[0m \u001B[0mstr_date_list\u001B[0m\u001B[1;33m:\u001B[0m\u001B[1;33m\u001B[0m\u001B[1;33m\u001B[0m\u001B[0m\n\u001B[0;32m    126\u001B[0m         \u001B[0mprint\u001B[0m\u001B[1;33m(\u001B[0m\u001B[0mdate\u001B[0m\u001B[1;33m)\u001B[0m\u001B[1;33m\u001B[0m\u001B[1;33m\u001B[0m\u001B[0m\n\u001B[1;32m--> 127\u001B[1;33m         \u001B[0mdate_response_dataframe\u001B[0m \u001B[1;33m=\u001B[0m \u001B[0mpipeline_single_date_estore_api_response_df\u001B[0m\u001B[1;33m(\u001B[0m\u001B[0mdate\u001B[0m\u001B[1;33m,\u001B[0m \u001B[0mtoken\u001B[0m\u001B[1;33m=\u001B[0m\u001B[0mtoken\u001B[0m\u001B[1;33m,\u001B[0m \u001B[0mproject_id\u001B[0m\u001B[1;33m=\u001B[0m\u001B[0mproject_id\u001B[0m\u001B[1;33m,\u001B[0m \u001B[0mproduct_group_id\u001B[0m\u001B[1;33m=\u001B[0m\u001B[0mproduct_group_id\u001B[0m\u001B[1;33m,\u001B[0m  \u001B[0mtemplate_id\u001B[0m\u001B[1;33m=\u001B[0m\u001B[0mtemplate_id\u001B[0m\u001B[1;33m,\u001B[0m \u001B[0mstore_url\u001B[0m\u001B[1;33m=\u001B[0m\u001B[0mstore_url\u001B[0m\u001B[1;33m)\u001B[0m\u001B[1;33m\u001B[0m\u001B[1;33m\u001B[0m\u001B[0m\n\u001B[0m\u001B[0;32m    128\u001B[0m         \u001B[0mestore_response_df\u001B[0m \u001B[1;33m=\u001B[0m \u001B[0mestore_response_df\u001B[0m\u001B[1;33m.\u001B[0m\u001B[0mappend\u001B[0m\u001B[1;33m(\u001B[0m\u001B[0mdate_response_dataframe\u001B[0m\u001B[1;33m)\u001B[0m\u001B[1;33m\u001B[0m\u001B[1;33m\u001B[0m\u001B[0m\n\u001B[0;32m    129\u001B[0m     \u001B[1;32mreturn\u001B[0m \u001B[0mestore_response_df\u001B[0m\u001B[1;33m\u001B[0m\u001B[1;33m\u001B[0m\u001B[0m\n",
      "\u001B[1;32m~\\AppData\\Local\\Temp\\ipykernel_7456\\3826874757.py\u001B[0m in \u001B[0;36mpipeline_single_date_estore_api_response_df\u001B[1;34m(date, token, project_id, product_group_id, template_id, store_url)\u001B[0m\n\u001B[0;32m    103\u001B[0m     \"\"\"\n\u001B[0;32m    104\u001B[0m     \u001B[0mresponse_json\u001B[0m \u001B[1;33m=\u001B[0m \u001B[0mget_estore_api_response\u001B[0m\u001B[1;33m(\u001B[0m\u001B[0mdate\u001B[0m\u001B[1;33m,\u001B[0m \u001B[0mtoken\u001B[0m\u001B[1;33m=\u001B[0m\u001B[0mtoken\u001B[0m\u001B[1;33m,\u001B[0m \u001B[0mproject_id\u001B[0m\u001B[1;33m=\u001B[0m\u001B[0mproject_id\u001B[0m\u001B[1;33m,\u001B[0m \u001B[0mproduct_group_id\u001B[0m\u001B[1;33m=\u001B[0m\u001B[0mproduct_group_id\u001B[0m\u001B[1;33m,\u001B[0m  \u001B[0mtemplate_id\u001B[0m\u001B[1;33m=\u001B[0m\u001B[0mtemplate_id\u001B[0m\u001B[1;33m,\u001B[0m \u001B[0mstore_url\u001B[0m\u001B[1;33m=\u001B[0m\u001B[0mstore_url\u001B[0m\u001B[1;33m)\u001B[0m\u001B[1;33m\u001B[0m\u001B[1;33m\u001B[0m\u001B[0m\n\u001B[1;32m--> 105\u001B[1;33m     \u001B[0mresponse_dataframe\u001B[0m \u001B[1;33m=\u001B[0m \u001B[0mget_json_to_dataframe\u001B[0m\u001B[1;33m(\u001B[0m\u001B[0mresponse_json\u001B[0m\u001B[1;33m)\u001B[0m\u001B[1;33m\u001B[0m\u001B[1;33m\u001B[0m\u001B[0m\n\u001B[0m\u001B[0;32m    106\u001B[0m     \u001B[0mresponse_dataframe\u001B[0m\u001B[1;33m[\u001B[0m\u001B[1;34m\"date\"\u001B[0m\u001B[1;33m]\u001B[0m \u001B[1;33m=\u001B[0m \u001B[0mdate\u001B[0m\u001B[1;33m\u001B[0m\u001B[1;33m\u001B[0m\u001B[0m\n\u001B[0;32m    107\u001B[0m     \u001B[0mresponse_dataframe\u001B[0m\u001B[1;33m[\u001B[0m\u001B[1;34m\"country\"\u001B[0m\u001B[1;33m]\u001B[0m \u001B[1;33m=\u001B[0m \u001B[0mstore_url\u001B[0m\u001B[1;33m.\u001B[0m\u001B[0msplit\u001B[0m\u001B[1;33m(\u001B[0m\u001B[1;34m\".\"\u001B[0m\u001B[1;33m)\u001B[0m\u001B[1;33m[\u001B[0m\u001B[1;33m-\u001B[0m\u001B[1;36m1\u001B[0m\u001B[1;33m]\u001B[0m\u001B[1;33m\u001B[0m\u001B[1;33m\u001B[0m\u001B[0m\n",
      "\u001B[1;32m~\\AppData\\Local\\Temp\\ipykernel_7456\\3826874757.py\u001B[0m in \u001B[0;36mget_json_to_dataframe\u001B[1;34m(json)\u001B[0m\n\u001B[0;32m     85\u001B[0m     \u001B[0mdataframe\u001B[0m \u001B[1;33m=\u001B[0m \u001B[0mpd\u001B[0m\u001B[1;33m.\u001B[0m\u001B[0mDataFrame\u001B[0m\u001B[1;33m(\u001B[0m\u001B[1;33m)\u001B[0m\u001B[1;33m\u001B[0m\u001B[1;33m\u001B[0m\u001B[0m\n\u001B[0;32m     86\u001B[0m     \u001B[1;32mfor\u001B[0m \u001B[0mcolumn\u001B[0m \u001B[1;32min\u001B[0m \u001B[0mjson_normalized\u001B[0m\u001B[1;33m.\u001B[0m\u001B[0mcolumns\u001B[0m\u001B[1;33m:\u001B[0m\u001B[1;33m\u001B[0m\u001B[1;33m\u001B[0m\u001B[0m\n\u001B[1;32m---> 87\u001B[1;33m         \u001B[0mproduct_info_dataframe\u001B[0m \u001B[1;33m=\u001B[0m \u001B[0mget_product_info_dataframe\u001B[0m\u001B[1;33m(\u001B[0m\u001B[0mjson_normalized\u001B[0m\u001B[1;33m,\u001B[0m \u001B[0mcolumn\u001B[0m\u001B[1;33m)\u001B[0m\u001B[1;33m\u001B[0m\u001B[1;33m\u001B[0m\u001B[0m\n\u001B[0m\u001B[0;32m     88\u001B[0m         \u001B[0mdataframe\u001B[0m \u001B[1;33m=\u001B[0m \u001B[0mdataframe\u001B[0m\u001B[1;33m.\u001B[0m\u001B[0mappend\u001B[0m\u001B[1;33m(\u001B[0m\u001B[0mproduct_info_dataframe\u001B[0m\u001B[1;33m)\u001B[0m\u001B[1;33m\u001B[0m\u001B[1;33m\u001B[0m\u001B[0m\n\u001B[0;32m     89\u001B[0m     \u001B[0mdataframe\u001B[0m\u001B[1;33m.\u001B[0m\u001B[0mreset_index\u001B[0m\u001B[1;33m(\u001B[0m\u001B[0minplace\u001B[0m\u001B[1;33m=\u001B[0m\u001B[1;32mTrue\u001B[0m\u001B[1;33m,\u001B[0m \u001B[0mdrop\u001B[0m\u001B[1;33m=\u001B[0m\u001B[1;32mTrue\u001B[0m\u001B[1;33m)\u001B[0m\u001B[1;33m\u001B[0m\u001B[1;33m\u001B[0m\u001B[0m\n",
      "\u001B[1;32m~\\AppData\\Local\\Temp\\ipykernel_7456\\3826874757.py\u001B[0m in \u001B[0;36mget_product_info_dataframe\u001B[1;34m(json_normalized, column)\u001B[0m\n\u001B[0;32m     65\u001B[0m     \u001B[0mreturns\u001B[0m \u001B[1;33m(\u001B[0m\u001B[0mpandas\u001B[0m \u001B[0mdataframe\u001B[0m\u001B[1;33m)\u001B[0m\u001B[1;33m:\u001B[0m \u001B[0mdataframe\u001B[0m \u001B[0mcontaining\u001B[0m \u001B[0minformation\u001B[0m \u001B[0mon\u001B[0m \u001B[0mproduct\u001B[0m\u001B[1;33m\u001B[0m\u001B[1;33m\u001B[0m\u001B[0m\n\u001B[0;32m     66\u001B[0m     \"\"\"\n\u001B[1;32m---> 67\u001B[1;33m     \u001B[0mjson_normalized_dictionary\u001B[0m \u001B[1;33m=\u001B[0m \u001B[0mjson_normalized\u001B[0m\u001B[1;33m.\u001B[0m\u001B[0mto_dict\u001B[0m\u001B[1;33m(\u001B[0m\u001B[0morient\u001B[0m\u001B[1;33m=\u001B[0m\u001B[0mORIENT_RECORDS\u001B[0m\u001B[1;33m)\u001B[0m\u001B[1;33m[\u001B[0m\u001B[1;36m0\u001B[0m\u001B[1;33m]\u001B[0m\u001B[1;33m[\u001B[0m\u001B[0mcolumn\u001B[0m\u001B[1;33m]\u001B[0m\u001B[1;33m[\u001B[0m\u001B[1;36m0\u001B[0m\u001B[1;33m]\u001B[0m\u001B[1;33m\u001B[0m\u001B[1;33m\u001B[0m\u001B[0m\n\u001B[0m\u001B[0;32m     68\u001B[0m     \u001B[0mproduct_info_dictionary\u001B[0m \u001B[1;33m=\u001B[0m \u001B[0mdict\u001B[0m\u001B[1;33m(\u001B[0m\u001B[1;33m)\u001B[0m\u001B[1;33m\u001B[0m\u001B[1;33m\u001B[0m\u001B[0m\n\u001B[0;32m     69\u001B[0m     \u001B[1;32mfor\u001B[0m \u001B[0mkey\u001B[0m \u001B[1;32min\u001B[0m \u001B[0mjson_normalized_dictionary\u001B[0m\u001B[1;33m.\u001B[0m\u001B[0mkeys\u001B[0m\u001B[1;33m(\u001B[0m\u001B[1;33m)\u001B[0m\u001B[1;33m:\u001B[0m\u001B[1;33m\u001B[0m\u001B[1;33m\u001B[0m\u001B[0m\n",
      "\u001B[1;32mC:\\Users\\gbjaudom\\OneDrive - LEGO\\Documents\\python_projects\\miscellaneous\\venv\\lib\\site-packages\\pandas\\core\\frame.py\u001B[0m in \u001B[0;36mto_dict\u001B[1;34m(self, orient, into)\u001B[0m\n\u001B[0;32m   1818\u001B[0m             rows = (\n\u001B[0;32m   1819\u001B[0m                 \u001B[0mdict\u001B[0m\u001B[1;33m(\u001B[0m\u001B[0mzip\u001B[0m\u001B[1;33m(\u001B[0m\u001B[0mcolumns\u001B[0m\u001B[1;33m,\u001B[0m \u001B[0mrow\u001B[0m\u001B[1;33m)\u001B[0m\u001B[1;33m)\u001B[0m\u001B[1;33m\u001B[0m\u001B[1;33m\u001B[0m\u001B[0m\n\u001B[1;32m-> 1820\u001B[1;33m                 \u001B[1;32mfor\u001B[0m \u001B[0mrow\u001B[0m \u001B[1;32min\u001B[0m \u001B[0mself\u001B[0m\u001B[1;33m.\u001B[0m\u001B[0mitertuples\u001B[0m\u001B[1;33m(\u001B[0m\u001B[0mindex\u001B[0m\u001B[1;33m=\u001B[0m\u001B[1;32mFalse\u001B[0m\u001B[1;33m,\u001B[0m \u001B[0mname\u001B[0m\u001B[1;33m=\u001B[0m\u001B[1;32mNone\u001B[0m\u001B[1;33m)\u001B[0m\u001B[1;33m\u001B[0m\u001B[1;33m\u001B[0m\u001B[0m\n\u001B[0m\u001B[0;32m   1821\u001B[0m             )\n\u001B[0;32m   1822\u001B[0m             return [\n",
      "\u001B[1;32mC:\\Users\\gbjaudom\\OneDrive - LEGO\\Documents\\python_projects\\miscellaneous\\venv\\lib\\site-packages\\pandas\\core\\frame.py\u001B[0m in \u001B[0;36mitertuples\u001B[1;34m(self, index, name)\u001B[0m\n\u001B[0;32m   1337\u001B[0m \u001B[1;33m\u001B[0m\u001B[0m\n\u001B[0;32m   1338\u001B[0m         \u001B[1;31m# use integer indexing because of possible duplicate column names\u001B[0m\u001B[1;33m\u001B[0m\u001B[1;33m\u001B[0m\u001B[1;33m\u001B[0m\u001B[0m\n\u001B[1;32m-> 1339\u001B[1;33m         \u001B[0marrays\u001B[0m\u001B[1;33m.\u001B[0m\u001B[0mextend\u001B[0m\u001B[1;33m(\u001B[0m\u001B[0mself\u001B[0m\u001B[1;33m.\u001B[0m\u001B[0miloc\u001B[0m\u001B[1;33m[\u001B[0m\u001B[1;33m:\u001B[0m\u001B[1;33m,\u001B[0m \u001B[0mk\u001B[0m\u001B[1;33m]\u001B[0m \u001B[1;32mfor\u001B[0m \u001B[0mk\u001B[0m \u001B[1;32min\u001B[0m \u001B[0mrange\u001B[0m\u001B[1;33m(\u001B[0m\u001B[0mlen\u001B[0m\u001B[1;33m(\u001B[0m\u001B[0mself\u001B[0m\u001B[1;33m.\u001B[0m\u001B[0mcolumns\u001B[0m\u001B[1;33m)\u001B[0m\u001B[1;33m)\u001B[0m\u001B[1;33m)\u001B[0m\u001B[1;33m\u001B[0m\u001B[1;33m\u001B[0m\u001B[0m\n\u001B[0m\u001B[0;32m   1340\u001B[0m \u001B[1;33m\u001B[0m\u001B[0m\n\u001B[0;32m   1341\u001B[0m         \u001B[1;32mif\u001B[0m \u001B[0mname\u001B[0m \u001B[1;32mis\u001B[0m \u001B[1;32mnot\u001B[0m \u001B[1;32mNone\u001B[0m\u001B[1;33m:\u001B[0m\u001B[1;33m\u001B[0m\u001B[1;33m\u001B[0m\u001B[0m\n",
      "\u001B[1;32mC:\\Users\\gbjaudom\\OneDrive - LEGO\\Documents\\python_projects\\miscellaneous\\venv\\lib\\site-packages\\pandas\\core\\frame.py\u001B[0m in \u001B[0;36m<genexpr>\u001B[1;34m(.0)\u001B[0m\n\u001B[0;32m   1337\u001B[0m \u001B[1;33m\u001B[0m\u001B[0m\n\u001B[0;32m   1338\u001B[0m         \u001B[1;31m# use integer indexing because of possible duplicate column names\u001B[0m\u001B[1;33m\u001B[0m\u001B[1;33m\u001B[0m\u001B[1;33m\u001B[0m\u001B[0m\n\u001B[1;32m-> 1339\u001B[1;33m         \u001B[0marrays\u001B[0m\u001B[1;33m.\u001B[0m\u001B[0mextend\u001B[0m\u001B[1;33m(\u001B[0m\u001B[0mself\u001B[0m\u001B[1;33m.\u001B[0m\u001B[0miloc\u001B[0m\u001B[1;33m[\u001B[0m\u001B[1;33m:\u001B[0m\u001B[1;33m,\u001B[0m \u001B[0mk\u001B[0m\u001B[1;33m]\u001B[0m \u001B[1;32mfor\u001B[0m \u001B[0mk\u001B[0m \u001B[1;32min\u001B[0m \u001B[0mrange\u001B[0m\u001B[1;33m(\u001B[0m\u001B[0mlen\u001B[0m\u001B[1;33m(\u001B[0m\u001B[0mself\u001B[0m\u001B[1;33m.\u001B[0m\u001B[0mcolumns\u001B[0m\u001B[1;33m)\u001B[0m\u001B[1;33m)\u001B[0m\u001B[1;33m)\u001B[0m\u001B[1;33m\u001B[0m\u001B[1;33m\u001B[0m\u001B[0m\n\u001B[0m\u001B[0;32m   1340\u001B[0m \u001B[1;33m\u001B[0m\u001B[0m\n\u001B[0;32m   1341\u001B[0m         \u001B[1;32mif\u001B[0m \u001B[0mname\u001B[0m \u001B[1;32mis\u001B[0m \u001B[1;32mnot\u001B[0m \u001B[1;32mNone\u001B[0m\u001B[1;33m:\u001B[0m\u001B[1;33m\u001B[0m\u001B[1;33m\u001B[0m\u001B[0m\n",
      "\u001B[1;32mC:\\Users\\gbjaudom\\OneDrive - LEGO\\Documents\\python_projects\\miscellaneous\\venv\\lib\\site-packages\\pandas\\core\\indexing.py\u001B[0m in \u001B[0;36m__getitem__\u001B[1;34m(self, key)\u001B[0m\n\u001B[0;32m    923\u001B[0m                 \u001B[1;32mwith\u001B[0m \u001B[0msuppress\u001B[0m\u001B[1;33m(\u001B[0m\u001B[0mKeyError\u001B[0m\u001B[1;33m,\u001B[0m \u001B[0mIndexError\u001B[0m\u001B[1;33m)\u001B[0m\u001B[1;33m:\u001B[0m\u001B[1;33m\u001B[0m\u001B[1;33m\u001B[0m\u001B[0m\n\u001B[0;32m    924\u001B[0m                     \u001B[1;32mreturn\u001B[0m \u001B[0mself\u001B[0m\u001B[1;33m.\u001B[0m\u001B[0mobj\u001B[0m\u001B[1;33m.\u001B[0m\u001B[0m_get_value\u001B[0m\u001B[1;33m(\u001B[0m\u001B[1;33m*\u001B[0m\u001B[0mkey\u001B[0m\u001B[1;33m,\u001B[0m \u001B[0mtakeable\u001B[0m\u001B[1;33m=\u001B[0m\u001B[0mself\u001B[0m\u001B[1;33m.\u001B[0m\u001B[0m_takeable\u001B[0m\u001B[1;33m)\u001B[0m\u001B[1;33m\u001B[0m\u001B[1;33m\u001B[0m\u001B[0m\n\u001B[1;32m--> 925\u001B[1;33m             \u001B[1;32mreturn\u001B[0m \u001B[0mself\u001B[0m\u001B[1;33m.\u001B[0m\u001B[0m_getitem_tuple\u001B[0m\u001B[1;33m(\u001B[0m\u001B[0mkey\u001B[0m\u001B[1;33m)\u001B[0m\u001B[1;33m\u001B[0m\u001B[1;33m\u001B[0m\u001B[0m\n\u001B[0m\u001B[0;32m    926\u001B[0m         \u001B[1;32melse\u001B[0m\u001B[1;33m:\u001B[0m\u001B[1;33m\u001B[0m\u001B[1;33m\u001B[0m\u001B[0m\n\u001B[0;32m    927\u001B[0m             \u001B[1;31m# we by definition only have the 0th axis\u001B[0m\u001B[1;33m\u001B[0m\u001B[1;33m\u001B[0m\u001B[1;33m\u001B[0m\u001B[0m\n",
      "\u001B[1;32mC:\\Users\\gbjaudom\\OneDrive - LEGO\\Documents\\python_projects\\miscellaneous\\venv\\lib\\site-packages\\pandas\\core\\indexing.py\u001B[0m in \u001B[0;36m_getitem_tuple\u001B[1;34m(self, tup)\u001B[0m\n\u001B[0;32m   1506\u001B[0m         \u001B[0mself\u001B[0m\u001B[1;33m.\u001B[0m\u001B[0m_has_valid_tuple\u001B[0m\u001B[1;33m(\u001B[0m\u001B[0mtup\u001B[0m\u001B[1;33m)\u001B[0m\u001B[1;33m\u001B[0m\u001B[1;33m\u001B[0m\u001B[0m\n\u001B[0;32m   1507\u001B[0m         \u001B[1;32mwith\u001B[0m \u001B[0msuppress\u001B[0m\u001B[1;33m(\u001B[0m\u001B[0mIndexingError\u001B[0m\u001B[1;33m)\u001B[0m\u001B[1;33m:\u001B[0m\u001B[1;33m\u001B[0m\u001B[1;33m\u001B[0m\u001B[0m\n\u001B[1;32m-> 1508\u001B[1;33m             \u001B[1;32mreturn\u001B[0m \u001B[0mself\u001B[0m\u001B[1;33m.\u001B[0m\u001B[0m_getitem_lowerdim\u001B[0m\u001B[1;33m(\u001B[0m\u001B[0mtup\u001B[0m\u001B[1;33m)\u001B[0m\u001B[1;33m\u001B[0m\u001B[1;33m\u001B[0m\u001B[0m\n\u001B[0m\u001B[0;32m   1509\u001B[0m \u001B[1;33m\u001B[0m\u001B[0m\n\u001B[0;32m   1510\u001B[0m         \u001B[1;32mreturn\u001B[0m \u001B[0mself\u001B[0m\u001B[1;33m.\u001B[0m\u001B[0m_getitem_tuple_same_dim\u001B[0m\u001B[1;33m(\u001B[0m\u001B[0mtup\u001B[0m\u001B[1;33m)\u001B[0m\u001B[1;33m\u001B[0m\u001B[1;33m\u001B[0m\u001B[0m\n",
      "\u001B[1;32mC:\\Users\\gbjaudom\\OneDrive - LEGO\\Documents\\python_projects\\miscellaneous\\venv\\lib\\site-packages\\pandas\\core\\indexing.py\u001B[0m in \u001B[0;36m_getitem_lowerdim\u001B[1;34m(self, tup)\u001B[0m\n\u001B[0;32m    836\u001B[0m                 \u001B[1;31m# We don't need to check for tuples here because those are\u001B[0m\u001B[1;33m\u001B[0m\u001B[1;33m\u001B[0m\u001B[1;33m\u001B[0m\u001B[0m\n\u001B[0;32m    837\u001B[0m                 \u001B[1;31m#  caught by the _is_nested_tuple_indexer check above.\u001B[0m\u001B[1;33m\u001B[0m\u001B[1;33m\u001B[0m\u001B[1;33m\u001B[0m\u001B[0m\n\u001B[1;32m--> 838\u001B[1;33m                 \u001B[0msection\u001B[0m \u001B[1;33m=\u001B[0m \u001B[0mself\u001B[0m\u001B[1;33m.\u001B[0m\u001B[0m_getitem_axis\u001B[0m\u001B[1;33m(\u001B[0m\u001B[0mkey\u001B[0m\u001B[1;33m,\u001B[0m \u001B[0maxis\u001B[0m\u001B[1;33m=\u001B[0m\u001B[0mi\u001B[0m\u001B[1;33m)\u001B[0m\u001B[1;33m\u001B[0m\u001B[1;33m\u001B[0m\u001B[0m\n\u001B[0m\u001B[0;32m    839\u001B[0m \u001B[1;33m\u001B[0m\u001B[0m\n\u001B[0;32m    840\u001B[0m                 \u001B[1;31m# We should never have a scalar section here, because\u001B[0m\u001B[1;33m\u001B[0m\u001B[1;33m\u001B[0m\u001B[1;33m\u001B[0m\u001B[0m\n",
      "\u001B[1;32mC:\\Users\\gbjaudom\\OneDrive - LEGO\\Documents\\python_projects\\miscellaneous\\venv\\lib\\site-packages\\pandas\\core\\indexing.py\u001B[0m in \u001B[0;36m_getitem_axis\u001B[1;34m(self, key, axis)\u001B[0m\n\u001B[0;32m   1549\u001B[0m             \u001B[0mkey\u001B[0m \u001B[1;33m=\u001B[0m \u001B[0mnp\u001B[0m\u001B[1;33m.\u001B[0m\u001B[0masarray\u001B[0m\u001B[1;33m(\u001B[0m\u001B[0mkey\u001B[0m\u001B[1;33m)\u001B[0m\u001B[1;33m\u001B[0m\u001B[1;33m\u001B[0m\u001B[0m\n\u001B[0;32m   1550\u001B[0m \u001B[1;33m\u001B[0m\u001B[0m\n\u001B[1;32m-> 1551\u001B[1;33m         \u001B[1;32mif\u001B[0m \u001B[0mcom\u001B[0m\u001B[1;33m.\u001B[0m\u001B[0mis_bool_indexer\u001B[0m\u001B[1;33m(\u001B[0m\u001B[0mkey\u001B[0m\u001B[1;33m)\u001B[0m\u001B[1;33m:\u001B[0m\u001B[1;33m\u001B[0m\u001B[1;33m\u001B[0m\u001B[0m\n\u001B[0m\u001B[0;32m   1552\u001B[0m             \u001B[0mself\u001B[0m\u001B[1;33m.\u001B[0m\u001B[0m_validate_key\u001B[0m\u001B[1;33m(\u001B[0m\u001B[0mkey\u001B[0m\u001B[1;33m,\u001B[0m \u001B[0maxis\u001B[0m\u001B[1;33m)\u001B[0m\u001B[1;33m\u001B[0m\u001B[1;33m\u001B[0m\u001B[0m\n\u001B[0;32m   1553\u001B[0m             \u001B[1;32mreturn\u001B[0m \u001B[0mself\u001B[0m\u001B[1;33m.\u001B[0m\u001B[0m_getbool_axis\u001B[0m\u001B[1;33m(\u001B[0m\u001B[0mkey\u001B[0m\u001B[1;33m,\u001B[0m \u001B[0maxis\u001B[0m\u001B[1;33m=\u001B[0m\u001B[0maxis\u001B[0m\u001B[1;33m)\u001B[0m\u001B[1;33m\u001B[0m\u001B[1;33m\u001B[0m\u001B[0m\n",
      "\u001B[1;32mC:\\Users\\gbjaudom\\OneDrive - LEGO\\Documents\\python_projects\\miscellaneous\\venv\\lib\\site-packages\\pandas\\core\\common.py\u001B[0m in \u001B[0;36mis_bool_indexer\u001B[1;34m(key)\u001B[0m\n\u001B[0;32m    127\u001B[0m     \"\"\"\n\u001B[0;32m    128\u001B[0m     if isinstance(key, (ABCSeries, np.ndarray, ABCIndex)) or (\n\u001B[1;32m--> 129\u001B[1;33m         \u001B[0mis_array_like\u001B[0m\u001B[1;33m(\u001B[0m\u001B[0mkey\u001B[0m\u001B[1;33m)\u001B[0m \u001B[1;32mand\u001B[0m \u001B[0mis_extension_array_dtype\u001B[0m\u001B[1;33m(\u001B[0m\u001B[0mkey\u001B[0m\u001B[1;33m.\u001B[0m\u001B[0mdtype\u001B[0m\u001B[1;33m)\u001B[0m\u001B[1;33m\u001B[0m\u001B[1;33m\u001B[0m\u001B[0m\n\u001B[0m\u001B[0;32m    130\u001B[0m     ):\n\u001B[0;32m    131\u001B[0m         \u001B[1;32mif\u001B[0m \u001B[0mkey\u001B[0m\u001B[1;33m.\u001B[0m\u001B[0mdtype\u001B[0m \u001B[1;33m==\u001B[0m \u001B[0mnp\u001B[0m\u001B[1;33m.\u001B[0m\u001B[0mobject_\u001B[0m\u001B[1;33m:\u001B[0m\u001B[1;33m\u001B[0m\u001B[1;33m\u001B[0m\u001B[0m\n",
      "\u001B[1;31mKeyboardInterrupt\u001B[0m: "
     ]
    }
   ],
   "source": [
    "import requests\n",
    "import pandas as pd\n",
    "\n",
    "\n",
    "TOKEN = \"1476ff45b88bbd6f76074a42c4daf7d8\"\n",
    "COOKIE = \"PHPSESSID=b942169d187266534a5484f8effff0d5\"\n",
    "UK_PROJECT_ID = \"1181\"\n",
    "UK_PRODUCT_GROUP_ID = \"3357\"\n",
    "BB_SELLER_TEMPLATE_ID = \"1171\"\n",
    "UK_AMAZON_URL = \"http://amazon.co.uk\"\n",
    "DATA_KEY = \"data\"\n",
    "PRODUCTS_KEY = \"products\"\n",
    "SEPERATOR = \"_\"\n",
    "ORIENT_RECORDS = \"records\"\n",
    "RAW_VALUE_KEY =\"raw_value\"\n",
    "ORIENT_INDEX = \"index\"\n",
    "ESTORE_PRODUCT_ID = \"estore_product_id\"\n",
    "REGION_DICTIONARY = {\n",
    "        'de': {'project_id': '3011', 'product_group_id': '4281', 'website_url': 'http://amazon.de'},\n",
    "        'uk': {'project_id': '1181', 'product_group_id': '3357', 'website_url': 'http://amazon.co.uk'},\n",
    "        'fr': {'project_id': '3013', 'product_group_id': '4077', 'website_url': 'http://amazon.fr'},\n",
    "        'es': {'project_id': '3015', 'product_group_id': '4076', 'website_url': 'http://amazon.es'},\n",
    "        'it': {'project_id': '3017', 'product_group_id': '4274', 'website_url': 'http://amazon.it'},\n",
    "        'nl': {'project_id': '3790', 'product_group_id': '5061', 'website_url': 'amazon.nl'},\n",
    "        'se': {'project_id': '3728', 'product_group_id': '4713', 'website_url': 'amazon.se'}\n",
    "    }\n",
    "\n",
    "\n",
    "def make_date_start_and_end_list(startdate, enddate):\n",
    "    \"\"\"\n",
    "    Function creates a list holding dates in YYYY-MM-DD format based on specified start and end\n",
    "    :param startdate: YYYY-MM-DD\n",
    "    :param enddate: YYYY-MM-DD\n",
    "    :return: list\n",
    "    \"\"\"\n",
    "    pd_datetime = pd.date_range(startdate, enddate)\n",
    "    pd_date = [date.date() for date in pd_datetime]\n",
    "    str_date_list = [str(date) for date in pd_date]\n",
    "    return str_date_list\n",
    "\n",
    "\n",
    "def get_estore_api_response(date, token=\"1476ff45b88bbd6f76074a42c4daf7d8\", project_id=\"1181\", product_group_id=\"3357\",  template_id=\"1171\", store_url=\"http://amazon.co.uk\"):\n",
    "    \"\"\"\n",
    "    Function creates a GET call to the eStore API with the specified parameters. The fucntion returns the JSON response.\n",
    "    :param date: YYYY-MM-DD\n",
    "    :param token: eStore API Token\n",
    "    :param project_id: Project ID - eStore Country\n",
    "    :param product_group_id: Product Group ID - eStore Assortment\n",
    "    :param template_id: Template ID - eStore Template\n",
    "    :param store_url: URL of store\n",
    "    :return: JSON\n",
    "    \"\"\"\n",
    "    url = f\"https://www.estorecheck.com/api/oneview?token={token}&project_id={project_id}&product_group_id={product_group_id}&date_start={date}&date_end={date}&template_id={template_id}&store_url={store_url}\"\n",
    "    headers = {'Cookie': COOKIE}\n",
    "    response = requests.request(\"GET\", url, headers=headers)\n",
    "    return response.json()\n",
    "\n",
    "\n",
    "def get_product_info_dataframe(json_normalized, column):\n",
    "    \"\"\"\n",
    "    Function creates a dictionary for each product (column) and returns a dataframe where the\n",
    "    keys are the headers and the values are the cells.\n",
    "    param token (pandas dataframe): dataframe of filtered eStore data\n",
    "    param column (string): name of column to loop through\n",
    "    returns (pandas dataframe): dataframe containing information on product\n",
    "    \"\"\"\n",
    "    json_normalized_dictionary = json_normalized.to_dict(orient=ORIENT_RECORDS)[0][column][0]\n",
    "    product_info_dictionary = dict()\n",
    "    for key in json_normalized_dictionary.keys():\n",
    "        product_info_dictionary[key] = json_normalized_dictionary[key][RAW_VALUE_KEY]\n",
    "        product_id = column.replace(\"_\" + UK_AMAZON_URL, \"\")\n",
    "        product_info_dictionary[ESTORE_PRODUCT_ID] = product_id\n",
    "    product_info_dataframe = pd.DataFrame.from_dict(product_info_dictionary, orient=ORIENT_INDEX).T\n",
    "    return product_info_dataframe\n",
    "\n",
    "\n",
    "def get_json_to_dataframe(json):\n",
    "    \"\"\"\n",
    "    Function takes the input from an eStore API get call and returns a dataframe with appropriate\n",
    "    headers and values\n",
    "    param token (pandas dataframe): eStore JSON data\n",
    "    returns (pandas dataframe): dataframe with columns for product features and rows of unique products\n",
    "    \"\"\"\n",
    "    json_normalized = pd.json_normalize(json[DATA_KEY][PRODUCTS_KEY], sep=SEPERATOR)\n",
    "    dataframe = pd.DataFrame()\n",
    "    for column in json_normalized.columns:\n",
    "        product_info_dataframe = get_product_info_dataframe(json_normalized, column)\n",
    "        dataframe = dataframe.append(product_info_dataframe)\n",
    "    dataframe.reset_index(inplace=True, drop=True)\n",
    "    return dataframe\n",
    "\n",
    "\n",
    "def pipeline_single_date_estore_api_response_df(date, token=\"1476ff45b88bbd6f76074a42c4daf7d8\", project_id=\"1181\", product_group_id=\"3357\",  template_id=\"1171\", store_url=\"http://amazon.co.uk\"):\n",
    "    \"\"\"\n",
    "    Function pipelines the process required to call the eStore API and form a readable DataFrame from its JSON response for a single date\n",
    "    :param date: YYYY-MM-DD\n",
    "    :param token: eStore API Token\n",
    "    :param project_id: Project ID - eStore Country\n",
    "    :param product_group_id: Product Group ID - eStore Assortment\n",
    "    :param template_id: Template ID - eStore Template\n",
    "    :param store_url: URL of store\n",
    "    :return: Dataframe\n",
    "    \"\"\"\n",
    "    response_json = get_estore_api_response(date, token=token, project_id=project_id, product_group_id=product_group_id,  template_id=template_id, store_url=store_url)\n",
    "    response_dataframe = get_json_to_dataframe(response_json)\n",
    "    response_dataframe[\"date\"] = date\n",
    "    response_dataframe[\"country\"] = store_url.split(\".\")[-1]\n",
    "    return response_dataframe\n",
    "\n",
    "\n",
    "def make_pipeline_multiple_date_estore_api_response_df(startdate, enddate, token=\"1476ff45b88bbd6f76074a42c4daf7d8\", project_id=\"1181\", product_group_id=\"3357\",  template_id=\"1171\", store_url=\"http://amazon.co.uk\"):\n",
    "    \"\"\"\n",
    "    Function pipelines the process required to call the eStore API and form a readable DataFrame from its JSON response for a date range\n",
    "    :param startdate: YYYY-MM-DD\n",
    "    :param enddate: YYYY-MM-DD\n",
    "    :param token: eStore API Token\n",
    "    :param project_id: Project ID - eStore Country\n",
    "    :param product_group_id: Product Group ID - eStore Assortment\n",
    "    :param template_id: Template ID - eStore Template\n",
    "    :param store_url: URL of store\n",
    "    :return: Dataframe\n",
    "    \"\"\"\n",
    "    str_date_list = make_date_start_and_end_list(startdate, enddate)\n",
    "    estore_response_df = pd.DataFrame()\n",
    "    for date in str_date_list:\n",
    "        print(date)\n",
    "        date_response_dataframe = pipeline_single_date_estore_api_response_df(date, token=token, project_id=project_id, product_group_id=product_group_id,  template_id=template_id, store_url=store_url)\n",
    "        estore_response_df = estore_response_df.append(date_response_dataframe)\n",
    "    return estore_response_df\n",
    "\n",
    "\n",
    "# Create DF for UK - July through Sept\n",
    "# buybux_seller_df = make_pipeline_multiple_date_estore_api_response_df(\"2022-07-01\", \"2022-09-30\", token=TOKEN, project_id=UK_PROJECT_ID, product_group_id=UK_PRODUCT_GROUP_ID,  template_id=BB_SELLER_TEMPLATE_ID, store_url=UK_AMAZON_URL)\n",
    "# buybux_seller_df\n",
    "\n",
    "\n",
    "# Create DF for all markets - July through Sept\n",
    "all_market_bb_seller_name_df = pd.DataFrame()\n",
    "for region_dict in list(REGION_DICTIONARY.values()):\n",
    "    print(region_dict[\"website_url\"])\n",
    "    buybux_seller_df = make_pipeline_multiple_date_estore_api_response_df(\"2022-07-01\", \"2022-07-2\", token=TOKEN, project_id=region_dict[\"project_id\"], product_group_id=region_dict[\"product_group_id\"],  template_id=BB_SELLER_TEMPLATE_ID, store_url=region_dict[\"website_url\"])\n",
    "    all_market_bb_seller_name_df = all_market_bb_seller_name_df.append(buybux_seller_df)\n",
    "all_market_bb_seller_name_df"
   ],
   "metadata": {
    "collapsed": false,
    "pycharm": {
     "name": "#%%\n"
    }
   }
  },
  {
   "cell_type": "markdown",
   "source": [
    "### Single Day Data"
   ],
   "metadata": {
    "collapsed": false,
    "pycharm": {
     "name": "#%% md\n"
    }
   }
  },
  {
   "cell_type": "code",
   "execution_count": 107,
   "outputs": [
    {
     "ename": "TypeError",
     "evalue": "'dict' object is not callable",
     "output_type": "error",
     "traceback": [
      "\u001B[1;31m---------------------------------------------------------------------------\u001B[0m",
      "\u001B[1;31mTypeError\u001B[0m                                 Traceback (most recent call last)",
      "\u001B[1;32m~\\AppData\\Local\\Temp\\ipykernel_10888\\864133545.py\u001B[0m in \u001B[0;36m<module>\u001B[1;34m\u001B[0m\n\u001B[1;32m----> 1\u001B[1;33m \u001B[0mresponse_dataframe\u001B[0m \u001B[1;33m=\u001B[0m \u001B[0mpipeline_single_date_estore_api_response_df\u001B[0m\u001B[1;33m(\u001B[0m\u001B[1;34m\"2022-09-20\"\u001B[0m\u001B[1;33m)\u001B[0m\u001B[1;33m\u001B[0m\u001B[1;33m\u001B[0m\u001B[0m\n\u001B[0m\u001B[0;32m      2\u001B[0m \u001B[0mresponse_dataframe\u001B[0m\u001B[1;33m\u001B[0m\u001B[1;33m\u001B[0m\u001B[0m\n",
      "\u001B[1;32m~\\AppData\\Local\\Temp\\ipykernel_10888\\671625606.py\u001B[0m in \u001B[0;36mpipeline_single_date_estore_api_response_df\u001B[1;34m(date, token, project_id, product_group_id, template_id, store_url)\u001B[0m\n\u001B[0;32m    103\u001B[0m     \"\"\"\n\u001B[0;32m    104\u001B[0m     \u001B[0mresponse_json\u001B[0m \u001B[1;33m=\u001B[0m \u001B[0mget_estore_api_response\u001B[0m\u001B[1;33m(\u001B[0m\u001B[0mdate\u001B[0m\u001B[1;33m,\u001B[0m \u001B[0mtoken\u001B[0m\u001B[1;33m=\u001B[0m\u001B[0mtoken\u001B[0m\u001B[1;33m,\u001B[0m \u001B[0mproject_id\u001B[0m\u001B[1;33m=\u001B[0m\u001B[0mproject_id\u001B[0m\u001B[1;33m,\u001B[0m \u001B[0mproduct_group_id\u001B[0m\u001B[1;33m=\u001B[0m\u001B[0mproduct_group_id\u001B[0m\u001B[1;33m,\u001B[0m  \u001B[0mtemplate_id\u001B[0m\u001B[1;33m=\u001B[0m\u001B[0mtemplate_id\u001B[0m\u001B[1;33m,\u001B[0m \u001B[0mstore_url\u001B[0m\u001B[1;33m=\u001B[0m\u001B[0mstore_url\u001B[0m\u001B[1;33m)\u001B[0m\u001B[1;33m\u001B[0m\u001B[1;33m\u001B[0m\u001B[0m\n\u001B[1;32m--> 105\u001B[1;33m     \u001B[0mresponse_dataframe\u001B[0m \u001B[1;33m=\u001B[0m \u001B[0mget_json_to_dataframe\u001B[0m\u001B[1;33m(\u001B[0m\u001B[0mresponse_json\u001B[0m\u001B[1;33m)\u001B[0m\u001B[1;33m\u001B[0m\u001B[1;33m\u001B[0m\u001B[0m\n\u001B[0m\u001B[0;32m    106\u001B[0m     \u001B[0mresponse_dataframe\u001B[0m\u001B[1;33m[\u001B[0m\u001B[1;34m\"date\"\u001B[0m\u001B[1;33m]\u001B[0m \u001B[1;33m=\u001B[0m \u001B[0mdate\u001B[0m\u001B[1;33m\u001B[0m\u001B[1;33m\u001B[0m\u001B[0m\n\u001B[0;32m    107\u001B[0m     \u001B[0mresponse_dataframe\u001B[0m\u001B[1;33m[\u001B[0m\u001B[1;34m\"country\"\u001B[0m\u001B[1;33m]\u001B[0m \u001B[1;33m=\u001B[0m \u001B[0mstore_url\u001B[0m\u001B[1;33m.\u001B[0m\u001B[0msplit\u001B[0m\u001B[1;33m(\u001B[0m\u001B[1;34m\".\"\u001B[0m\u001B[1;33m)\u001B[0m\u001B[1;33m[\u001B[0m\u001B[1;33m-\u001B[0m\u001B[1;36m1\u001B[0m\u001B[1;33m]\u001B[0m\u001B[1;33m\u001B[0m\u001B[1;33m\u001B[0m\u001B[0m\n",
      "\u001B[1;32m~\\AppData\\Local\\Temp\\ipykernel_10888\\671625606.py\u001B[0m in \u001B[0;36mget_json_to_dataframe\u001B[1;34m(json)\u001B[0m\n\u001B[0;32m     85\u001B[0m     \u001B[0mdataframe\u001B[0m \u001B[1;33m=\u001B[0m \u001B[0mpd\u001B[0m\u001B[1;33m.\u001B[0m\u001B[0mDataFrame\u001B[0m\u001B[1;33m(\u001B[0m\u001B[1;33m)\u001B[0m\u001B[1;33m\u001B[0m\u001B[1;33m\u001B[0m\u001B[0m\n\u001B[0;32m     86\u001B[0m     \u001B[1;32mfor\u001B[0m \u001B[0mcolumn\u001B[0m \u001B[1;32min\u001B[0m \u001B[0mjson_normalized\u001B[0m\u001B[1;33m.\u001B[0m\u001B[0mcolumns\u001B[0m\u001B[1;33m:\u001B[0m\u001B[1;33m\u001B[0m\u001B[1;33m\u001B[0m\u001B[0m\n\u001B[1;32m---> 87\u001B[1;33m         \u001B[0mproduct_info_dataframe\u001B[0m \u001B[1;33m=\u001B[0m \u001B[0mget_product_info_dataframe\u001B[0m\u001B[1;33m(\u001B[0m\u001B[0mjson_normalized\u001B[0m\u001B[1;33m,\u001B[0m \u001B[0mcolumn\u001B[0m\u001B[1;33m)\u001B[0m\u001B[1;33m\u001B[0m\u001B[1;33m\u001B[0m\u001B[0m\n\u001B[0m\u001B[0;32m     88\u001B[0m         \u001B[0mdataframe\u001B[0m \u001B[1;33m=\u001B[0m \u001B[0mdataframe\u001B[0m\u001B[1;33m.\u001B[0m\u001B[0mappend\u001B[0m\u001B[1;33m(\u001B[0m\u001B[0mproduct_info_dataframe\u001B[0m\u001B[1;33m)\u001B[0m\u001B[1;33m\u001B[0m\u001B[1;33m\u001B[0m\u001B[0m\n\u001B[0;32m     89\u001B[0m     \u001B[0mdataframe\u001B[0m\u001B[1;33m.\u001B[0m\u001B[0mreset_index\u001B[0m\u001B[1;33m(\u001B[0m\u001B[0minplace\u001B[0m\u001B[1;33m=\u001B[0m\u001B[1;32mTrue\u001B[0m\u001B[1;33m,\u001B[0m \u001B[0mdrop\u001B[0m\u001B[1;33m=\u001B[0m\u001B[1;32mTrue\u001B[0m\u001B[1;33m)\u001B[0m\u001B[1;33m\u001B[0m\u001B[1;33m\u001B[0m\u001B[0m\n",
      "\u001B[1;32m~\\AppData\\Local\\Temp\\ipykernel_10888\\671625606.py\u001B[0m in \u001B[0;36mget_product_info_dataframe\u001B[1;34m(json_normalized, column)\u001B[0m\n\u001B[0;32m     66\u001B[0m     \"\"\"\n\u001B[0;32m     67\u001B[0m     \u001B[0mjson_normalized_dictionary\u001B[0m \u001B[1;33m=\u001B[0m \u001B[0mjson_normalized\u001B[0m\u001B[1;33m.\u001B[0m\u001B[0mto_dict\u001B[0m\u001B[1;33m(\u001B[0m\u001B[0morient\u001B[0m\u001B[1;33m=\u001B[0m\u001B[0mORIENT_RECORDS\u001B[0m\u001B[1;33m)\u001B[0m\u001B[1;33m[\u001B[0m\u001B[1;36m0\u001B[0m\u001B[1;33m]\u001B[0m\u001B[1;33m[\u001B[0m\u001B[0mcolumn\u001B[0m\u001B[1;33m]\u001B[0m\u001B[1;33m[\u001B[0m\u001B[1;36m0\u001B[0m\u001B[1;33m]\u001B[0m\u001B[1;33m\u001B[0m\u001B[1;33m\u001B[0m\u001B[0m\n\u001B[1;32m---> 68\u001B[1;33m     \u001B[0mproduct_info_dictionary\u001B[0m \u001B[1;33m=\u001B[0m \u001B[0mdict\u001B[0m\u001B[1;33m(\u001B[0m\u001B[1;33m)\u001B[0m\u001B[1;33m\u001B[0m\u001B[1;33m\u001B[0m\u001B[0m\n\u001B[0m\u001B[0;32m     69\u001B[0m     \u001B[1;32mfor\u001B[0m \u001B[0mkey\u001B[0m \u001B[1;32min\u001B[0m \u001B[0mjson_normalized_dictionary\u001B[0m\u001B[1;33m.\u001B[0m\u001B[0mkeys\u001B[0m\u001B[1;33m(\u001B[0m\u001B[1;33m)\u001B[0m\u001B[1;33m:\u001B[0m\u001B[1;33m\u001B[0m\u001B[1;33m\u001B[0m\u001B[0m\n\u001B[0;32m     70\u001B[0m         \u001B[0mproduct_info_dictionary\u001B[0m\u001B[1;33m[\u001B[0m\u001B[0mkey\u001B[0m\u001B[1;33m]\u001B[0m \u001B[1;33m=\u001B[0m \u001B[0mjson_normalized_dictionary\u001B[0m\u001B[1;33m[\u001B[0m\u001B[0mkey\u001B[0m\u001B[1;33m]\u001B[0m\u001B[1;33m[\u001B[0m\u001B[0mRAW_VALUE_KEY\u001B[0m\u001B[1;33m]\u001B[0m\u001B[1;33m\u001B[0m\u001B[1;33m\u001B[0m\u001B[0m\n",
      "\u001B[1;31mTypeError\u001B[0m: 'dict' object is not callable"
     ]
    }
   ],
   "source": [
    "response_dataframe = pipeline_single_date_estore_api_response_df(\"2022-09-20\")\n",
    "response_dataframe"
   ],
   "metadata": {
    "collapsed": false,
    "pycharm": {
     "name": "#%%\n"
    }
   }
  },
  {
   "cell_type": "markdown",
   "source": [
    "### Date Range Data"
   ],
   "metadata": {
    "collapsed": false,
    "pycharm": {
     "name": "#%% md\n"
    }
   }
  },
  {
   "cell_type": "code",
   "execution_count": 105,
   "outputs": [
    {
     "name": "stdout",
     "output_type": "stream",
     "text": [
      "2022-07-01\n"
     ]
    },
    {
     "ename": "TypeError",
     "evalue": "'dict' object is not callable",
     "output_type": "error",
     "traceback": [
      "\u001B[1;31m---------------------------------------------------------------------------\u001B[0m",
      "\u001B[1;31mTypeError\u001B[0m                                 Traceback (most recent call last)",
      "\u001B[1;32m~\\AppData\\Local\\Temp\\ipykernel_10888\\798387494.py\u001B[0m in \u001B[0;36m<module>\u001B[1;34m\u001B[0m\n\u001B[1;32m----> 1\u001B[1;33m \u001B[0mbuybux_seller_df\u001B[0m \u001B[1;33m=\u001B[0m \u001B[0mmake_pipeline_multiple_date_estore_api_response_df\u001B[0m\u001B[1;33m(\u001B[0m\u001B[1;34m\"2022-07-01\"\u001B[0m\u001B[1;33m,\u001B[0m \u001B[1;34m\"2022-09-30\"\u001B[0m\u001B[1;33m,\u001B[0m \u001B[0mtoken\u001B[0m\u001B[1;33m=\u001B[0m\u001B[1;34m\"1476ff45b88bbd6f76074a42c4daf7d8\"\u001B[0m\u001B[1;33m,\u001B[0m \u001B[0mproject_id\u001B[0m\u001B[1;33m=\u001B[0m\u001B[1;34m\"1181\"\u001B[0m\u001B[1;33m,\u001B[0m \u001B[0mproduct_group_id\u001B[0m\u001B[1;33m=\u001B[0m\u001B[1;34m\"3357\"\u001B[0m\u001B[1;33m,\u001B[0m  \u001B[0mtemplate_id\u001B[0m\u001B[1;33m=\u001B[0m\u001B[1;34m\"1171\"\u001B[0m\u001B[1;33m,\u001B[0m \u001B[0mstore_url\u001B[0m\u001B[1;33m=\u001B[0m\u001B[1;34m\"http://amazon.co.uk\"\u001B[0m\u001B[1;33m)\u001B[0m\u001B[1;33m\u001B[0m\u001B[1;33m\u001B[0m\u001B[0m\n\u001B[0m",
      "\u001B[1;32m~\\AppData\\Local\\Temp\\ipykernel_10888\\671625606.py\u001B[0m in \u001B[0;36mmake_pipeline_multiple_date_estore_api_response_df\u001B[1;34m(startdate, enddate, token, project_id, product_group_id, template_id, store_url)\u001B[0m\n\u001B[0;32m    125\u001B[0m     \u001B[1;32mfor\u001B[0m \u001B[0mdate\u001B[0m \u001B[1;32min\u001B[0m \u001B[0mstr_date_list\u001B[0m\u001B[1;33m:\u001B[0m\u001B[1;33m\u001B[0m\u001B[1;33m\u001B[0m\u001B[0m\n\u001B[0;32m    126\u001B[0m         \u001B[0mprint\u001B[0m\u001B[1;33m(\u001B[0m\u001B[0mdate\u001B[0m\u001B[1;33m)\u001B[0m\u001B[1;33m\u001B[0m\u001B[1;33m\u001B[0m\u001B[0m\n\u001B[1;32m--> 127\u001B[1;33m         \u001B[0mdate_response_dataframe\u001B[0m \u001B[1;33m=\u001B[0m \u001B[0mpipeline_single_date_estore_api_response_df\u001B[0m\u001B[1;33m(\u001B[0m\u001B[0mdate\u001B[0m\u001B[1;33m,\u001B[0m \u001B[0mtoken\u001B[0m\u001B[1;33m=\u001B[0m\u001B[0mtoken\u001B[0m\u001B[1;33m,\u001B[0m \u001B[0mproject_id\u001B[0m\u001B[1;33m=\u001B[0m\u001B[0mproject_id\u001B[0m\u001B[1;33m,\u001B[0m \u001B[0mproduct_group_id\u001B[0m\u001B[1;33m=\u001B[0m\u001B[0mproduct_group_id\u001B[0m\u001B[1;33m,\u001B[0m  \u001B[0mtemplate_id\u001B[0m\u001B[1;33m=\u001B[0m\u001B[0mtemplate_id\u001B[0m\u001B[1;33m,\u001B[0m \u001B[0mstore_url\u001B[0m\u001B[1;33m=\u001B[0m\u001B[0mstore_url\u001B[0m\u001B[1;33m)\u001B[0m\u001B[1;33m\u001B[0m\u001B[1;33m\u001B[0m\u001B[0m\n\u001B[0m\u001B[0;32m    128\u001B[0m         \u001B[0mestore_response_df\u001B[0m \u001B[1;33m=\u001B[0m \u001B[0mestore_response_df\u001B[0m\u001B[1;33m.\u001B[0m\u001B[0mappend\u001B[0m\u001B[1;33m(\u001B[0m\u001B[0mdate_response_dataframe\u001B[0m\u001B[1;33m)\u001B[0m\u001B[1;33m\u001B[0m\u001B[1;33m\u001B[0m\u001B[0m\n\u001B[0;32m    129\u001B[0m     \u001B[1;32mreturn\u001B[0m \u001B[0mestore_response_df\u001B[0m\u001B[1;33m\u001B[0m\u001B[1;33m\u001B[0m\u001B[0m\n",
      "\u001B[1;32m~\\AppData\\Local\\Temp\\ipykernel_10888\\671625606.py\u001B[0m in \u001B[0;36mpipeline_single_date_estore_api_response_df\u001B[1;34m(date, token, project_id, product_group_id, template_id, store_url)\u001B[0m\n\u001B[0;32m    103\u001B[0m     \"\"\"\n\u001B[0;32m    104\u001B[0m     \u001B[0mresponse_json\u001B[0m \u001B[1;33m=\u001B[0m \u001B[0mget_estore_api_response\u001B[0m\u001B[1;33m(\u001B[0m\u001B[0mdate\u001B[0m\u001B[1;33m,\u001B[0m \u001B[0mtoken\u001B[0m\u001B[1;33m=\u001B[0m\u001B[0mtoken\u001B[0m\u001B[1;33m,\u001B[0m \u001B[0mproject_id\u001B[0m\u001B[1;33m=\u001B[0m\u001B[0mproject_id\u001B[0m\u001B[1;33m,\u001B[0m \u001B[0mproduct_group_id\u001B[0m\u001B[1;33m=\u001B[0m\u001B[0mproduct_group_id\u001B[0m\u001B[1;33m,\u001B[0m  \u001B[0mtemplate_id\u001B[0m\u001B[1;33m=\u001B[0m\u001B[0mtemplate_id\u001B[0m\u001B[1;33m,\u001B[0m \u001B[0mstore_url\u001B[0m\u001B[1;33m=\u001B[0m\u001B[0mstore_url\u001B[0m\u001B[1;33m)\u001B[0m\u001B[1;33m\u001B[0m\u001B[1;33m\u001B[0m\u001B[0m\n\u001B[1;32m--> 105\u001B[1;33m     \u001B[0mresponse_dataframe\u001B[0m \u001B[1;33m=\u001B[0m \u001B[0mget_json_to_dataframe\u001B[0m\u001B[1;33m(\u001B[0m\u001B[0mresponse_json\u001B[0m\u001B[1;33m)\u001B[0m\u001B[1;33m\u001B[0m\u001B[1;33m\u001B[0m\u001B[0m\n\u001B[0m\u001B[0;32m    106\u001B[0m     \u001B[0mresponse_dataframe\u001B[0m\u001B[1;33m[\u001B[0m\u001B[1;34m\"date\"\u001B[0m\u001B[1;33m]\u001B[0m \u001B[1;33m=\u001B[0m \u001B[0mdate\u001B[0m\u001B[1;33m\u001B[0m\u001B[1;33m\u001B[0m\u001B[0m\n\u001B[0;32m    107\u001B[0m     \u001B[0mresponse_dataframe\u001B[0m\u001B[1;33m[\u001B[0m\u001B[1;34m\"country\"\u001B[0m\u001B[1;33m]\u001B[0m \u001B[1;33m=\u001B[0m \u001B[0mstore_url\u001B[0m\u001B[1;33m.\u001B[0m\u001B[0msplit\u001B[0m\u001B[1;33m(\u001B[0m\u001B[1;34m\".\"\u001B[0m\u001B[1;33m)\u001B[0m\u001B[1;33m[\u001B[0m\u001B[1;33m-\u001B[0m\u001B[1;36m1\u001B[0m\u001B[1;33m]\u001B[0m\u001B[1;33m\u001B[0m\u001B[1;33m\u001B[0m\u001B[0m\n",
      "\u001B[1;32m~\\AppData\\Local\\Temp\\ipykernel_10888\\671625606.py\u001B[0m in \u001B[0;36mget_json_to_dataframe\u001B[1;34m(json)\u001B[0m\n\u001B[0;32m     85\u001B[0m     \u001B[0mdataframe\u001B[0m \u001B[1;33m=\u001B[0m \u001B[0mpd\u001B[0m\u001B[1;33m.\u001B[0m\u001B[0mDataFrame\u001B[0m\u001B[1;33m(\u001B[0m\u001B[1;33m)\u001B[0m\u001B[1;33m\u001B[0m\u001B[1;33m\u001B[0m\u001B[0m\n\u001B[0;32m     86\u001B[0m     \u001B[1;32mfor\u001B[0m \u001B[0mcolumn\u001B[0m \u001B[1;32min\u001B[0m \u001B[0mjson_normalized\u001B[0m\u001B[1;33m.\u001B[0m\u001B[0mcolumns\u001B[0m\u001B[1;33m:\u001B[0m\u001B[1;33m\u001B[0m\u001B[1;33m\u001B[0m\u001B[0m\n\u001B[1;32m---> 87\u001B[1;33m         \u001B[0mproduct_info_dataframe\u001B[0m \u001B[1;33m=\u001B[0m \u001B[0mget_product_info_dataframe\u001B[0m\u001B[1;33m(\u001B[0m\u001B[0mjson_normalized\u001B[0m\u001B[1;33m,\u001B[0m \u001B[0mcolumn\u001B[0m\u001B[1;33m)\u001B[0m\u001B[1;33m\u001B[0m\u001B[1;33m\u001B[0m\u001B[0m\n\u001B[0m\u001B[0;32m     88\u001B[0m         \u001B[0mdataframe\u001B[0m \u001B[1;33m=\u001B[0m \u001B[0mdataframe\u001B[0m\u001B[1;33m.\u001B[0m\u001B[0mappend\u001B[0m\u001B[1;33m(\u001B[0m\u001B[0mproduct_info_dataframe\u001B[0m\u001B[1;33m)\u001B[0m\u001B[1;33m\u001B[0m\u001B[1;33m\u001B[0m\u001B[0m\n\u001B[0;32m     89\u001B[0m     \u001B[0mdataframe\u001B[0m\u001B[1;33m.\u001B[0m\u001B[0mreset_index\u001B[0m\u001B[1;33m(\u001B[0m\u001B[0minplace\u001B[0m\u001B[1;33m=\u001B[0m\u001B[1;32mTrue\u001B[0m\u001B[1;33m,\u001B[0m \u001B[0mdrop\u001B[0m\u001B[1;33m=\u001B[0m\u001B[1;32mTrue\u001B[0m\u001B[1;33m)\u001B[0m\u001B[1;33m\u001B[0m\u001B[1;33m\u001B[0m\u001B[0m\n",
      "\u001B[1;32m~\\AppData\\Local\\Temp\\ipykernel_10888\\671625606.py\u001B[0m in \u001B[0;36mget_product_info_dataframe\u001B[1;34m(json_normalized, column)\u001B[0m\n\u001B[0;32m     66\u001B[0m     \"\"\"\n\u001B[0;32m     67\u001B[0m     \u001B[0mjson_normalized_dictionary\u001B[0m \u001B[1;33m=\u001B[0m \u001B[0mjson_normalized\u001B[0m\u001B[1;33m.\u001B[0m\u001B[0mto_dict\u001B[0m\u001B[1;33m(\u001B[0m\u001B[0morient\u001B[0m\u001B[1;33m=\u001B[0m\u001B[0mORIENT_RECORDS\u001B[0m\u001B[1;33m)\u001B[0m\u001B[1;33m[\u001B[0m\u001B[1;36m0\u001B[0m\u001B[1;33m]\u001B[0m\u001B[1;33m[\u001B[0m\u001B[0mcolumn\u001B[0m\u001B[1;33m]\u001B[0m\u001B[1;33m[\u001B[0m\u001B[1;36m0\u001B[0m\u001B[1;33m]\u001B[0m\u001B[1;33m\u001B[0m\u001B[1;33m\u001B[0m\u001B[0m\n\u001B[1;32m---> 68\u001B[1;33m     \u001B[0mproduct_info_dictionary\u001B[0m \u001B[1;33m=\u001B[0m \u001B[0mdict\u001B[0m\u001B[1;33m(\u001B[0m\u001B[1;33m)\u001B[0m\u001B[1;33m\u001B[0m\u001B[1;33m\u001B[0m\u001B[0m\n\u001B[0m\u001B[0;32m     69\u001B[0m     \u001B[1;32mfor\u001B[0m \u001B[0mkey\u001B[0m \u001B[1;32min\u001B[0m \u001B[0mjson_normalized_dictionary\u001B[0m\u001B[1;33m.\u001B[0m\u001B[0mkeys\u001B[0m\u001B[1;33m(\u001B[0m\u001B[1;33m)\u001B[0m\u001B[1;33m:\u001B[0m\u001B[1;33m\u001B[0m\u001B[1;33m\u001B[0m\u001B[0m\n\u001B[0;32m     70\u001B[0m         \u001B[0mproduct_info_dictionary\u001B[0m\u001B[1;33m[\u001B[0m\u001B[0mkey\u001B[0m\u001B[1;33m]\u001B[0m \u001B[1;33m=\u001B[0m \u001B[0mjson_normalized_dictionary\u001B[0m\u001B[1;33m[\u001B[0m\u001B[0mkey\u001B[0m\u001B[1;33m]\u001B[0m\u001B[1;33m[\u001B[0m\u001B[0mRAW_VALUE_KEY\u001B[0m\u001B[1;33m]\u001B[0m\u001B[1;33m\u001B[0m\u001B[1;33m\u001B[0m\u001B[0m\n",
      "\u001B[1;31mTypeError\u001B[0m: 'dict' object is not callable"
     ]
    }
   ],
   "source": [
    "buybux_seller_df = make_pipeline_multiple_date_estore_api_response_df(\"2022-07-01\", \"2022-09-30\", token=\"1476ff45b88bbd6f76074a42c4daf7d8\", project_id=\"1181\", product_group_id=\"3357\",  template_id=\"1171\", store_url=\"http://amazon.co.uk\")"
   ],
   "metadata": {
    "collapsed": false,
    "pycharm": {
     "name": "#%%\n"
    }
   }
  },
  {
   "cell_type": "markdown",
   "source": [
    "### All Markets Date Range"
   ],
   "metadata": {
    "collapsed": false,
    "pycharm": {
     "name": "#%% md\n"
    }
   },
   "execution_count": 100
  }
 ],
 "metadata": {
  "kernelspec": {
   "display_name": "Python 3",
   "language": "python",
   "name": "python3"
  },
  "language_info": {
   "codemirror_mode": {
    "name": "ipython",
    "version": 2
   },
   "file_extension": ".py",
   "mimetype": "text/x-python",
   "name": "python",
   "nbconvert_exporter": "python",
   "pygments_lexer": "ipython2",
   "version": "2.7.6"
  }
 },
 "nbformat": 4,
 "nbformat_minor": 0
}